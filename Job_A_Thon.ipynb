{
  "nbformat": 4,
  "nbformat_minor": 0,
  "metadata": {
    "colab": {
      "name": "Job-A-Thon.ipynb",
      "provenance": [],
      "collapsed_sections": [
        "xcV4SCjTOu_R",
        "Lcc94pq7Wyt9"
      ]
    },
    "kernelspec": {
      "display_name": "Python 3",
      "name": "python3"
    }
  },
  "cells": [
    {
      "cell_type": "markdown",
      "metadata": {
        "id": "hKteMgWvKqx5"
      },
      "source": [
        "### **Importing the Necessary Libraries to Solve problem**"
      ]
    },
    {
      "cell_type": "code",
      "metadata": {
        "colab": {
          "base_uri": "https://localhost:8080/"
        },
        "id": "m3Iu3_yyUr1l",
        "outputId": "907af1c6-0fcb-499e-e9bd-0306c96b21b8"
      },
      "source": [
        "!pip install catboost"
      ],
      "execution_count": null,
      "outputs": [
        {
          "output_type": "stream",
          "text": [
            "Requirement already satisfied: catboost in /usr/local/lib/python3.7/dist-packages (0.24.4)\n",
            "Requirement already satisfied: plotly in /usr/local/lib/python3.7/dist-packages (from catboost) (4.4.1)\n",
            "Requirement already satisfied: pandas>=0.24.0 in /usr/local/lib/python3.7/dist-packages (from catboost) (1.1.5)\n",
            "Requirement already satisfied: six in /usr/local/lib/python3.7/dist-packages (from catboost) (1.15.0)\n",
            "Requirement already satisfied: scipy in /usr/local/lib/python3.7/dist-packages (from catboost) (1.4.1)\n",
            "Requirement already satisfied: graphviz in /usr/local/lib/python3.7/dist-packages (from catboost) (0.10.1)\n",
            "Requirement already satisfied: numpy>=1.16.0 in /usr/local/lib/python3.7/dist-packages (from catboost) (1.19.5)\n",
            "Requirement already satisfied: matplotlib in /usr/local/lib/python3.7/dist-packages (from catboost) (3.2.2)\n",
            "Requirement already satisfied: retrying>=1.3.3 in /usr/local/lib/python3.7/dist-packages (from plotly->catboost) (1.3.3)\n",
            "Requirement already satisfied: pytz>=2017.2 in /usr/local/lib/python3.7/dist-packages (from pandas>=0.24.0->catboost) (2018.9)\n",
            "Requirement already satisfied: python-dateutil>=2.7.3 in /usr/local/lib/python3.7/dist-packages (from pandas>=0.24.0->catboost) (2.8.1)\n",
            "Requirement already satisfied: kiwisolver>=1.0.1 in /usr/local/lib/python3.7/dist-packages (from matplotlib->catboost) (1.3.1)\n",
            "Requirement already satisfied: pyparsing!=2.0.4,!=2.1.2,!=2.1.6,>=2.0.1 in /usr/local/lib/python3.7/dist-packages (from matplotlib->catboost) (2.4.7)\n",
            "Requirement already satisfied: cycler>=0.10 in /usr/local/lib/python3.7/dist-packages (from matplotlib->catboost) (0.10.0)\n"
          ],
          "name": "stdout"
        }
      ]
    },
    {
      "cell_type": "code",
      "metadata": {
        "id": "wv2Nc1Yl-LRM"
      },
      "source": [
        "##Warning Libraries\r\n",
        "import warnings\r\n",
        "warnings.filterwarnings('ignore')\r\n",
        "\r\n",
        "##Scientific and Data Manipulation Libraries\r\n",
        "import numpy as np\r\n",
        "import pandas as pd\r\n",
        "import matplotlib.pyplot as plt\r\n",
        "import seaborn as sns\r\n",
        "%matplotlib inline\r\n",
        "\r\n",
        "### Machine Learning Libraries\r\n",
        "from sklearn.preprocessing import LabelEncoder,OneHotEncoder\r\n",
        "from sklearn.preprocessing import StandardScaler, MinMaxScaler\r\n",
        "from sklearn.model_selection import KFold,train_test_split,StratifiedKFold\r\n",
        "from sklearn.linear_model import LogisticRegression\r\n",
        "from sklearn.tree import DecisionTreeClassifier\r\n",
        "from sklearn.ensemble import RandomForestClassifier\r\n",
        "\r\n",
        "### Boosting Algorithms\r\n",
        "from xgboost import XGBClassifier\r\n",
        "from catboost import CatBoostClassifier\r\n",
        "from lightgbm import LGBMClassifier\r\n",
        "\r\n",
        "### Performance Metrics\r\n",
        "from sklearn.metrics import roc_auc_score\r\n",
        "from sklearn.metrics import confusion_matrix\r\n",
        "from sklearn.metrics import classification_report"
      ],
      "execution_count": null,
      "outputs": []
    },
    {
      "cell_type": "markdown",
      "metadata": {
        "id": "Bx4maw3iKk03"
      },
      "source": [
        "### **Upload the Datasets**"
      ]
    },
    {
      "cell_type": "code",
      "metadata": {
        "colab": {
          "resources": {
            "http://localhost:8080/nbextensions/google.colab/files.js": {
              "data": "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",
              "ok": true,
              "headers": [
                [
                  "content-type",
                  "application/javascript"
                ]
              ],
              "status": 200,
              "status_text": ""
            }
          },
          "base_uri": "https://localhost:8080/",
          "height": 140
        },
        "id": "xTL1I8kG_3Tg",
        "outputId": "d1f950a0-d1b4-41a8-b6a5-a8cb153b8e49"
      },
      "source": [
        "from google.colab import files\r\n",
        "uploader = files.upload()"
      ],
      "execution_count": null,
      "outputs": [
        {
          "output_type": "display_data",
          "data": {
            "text/html": [
              "\n",
              "     <input type=\"file\" id=\"files-bb2eac65-ab90-47cb-a0b0-dd9ad81fd49a\" name=\"files[]\" multiple disabled\n",
              "        style=\"border:none\" />\n",
              "     <output id=\"result-bb2eac65-ab90-47cb-a0b0-dd9ad81fd49a\">\n",
              "      Upload widget is only available when the cell has been executed in the\n",
              "      current browser session. Please rerun this cell to enable.\n",
              "      </output>\n",
              "      <script src=\"/nbextensions/google.colab/files.js\"></script> "
            ],
            "text/plain": [
              "<IPython.core.display.HTML object>"
            ]
          },
          "metadata": {
            "tags": []
          }
        },
        {
          "output_type": "stream",
          "text": [
            "Saving sample_submission_QrCyCoT.csv to sample_submission_QrCyCoT (6).csv\n",
            "Saving test_YCcRUnU.csv to test_YCcRUnU (6).csv\n",
            "Saving train_Df64byy.csv to train_Df64byy (6).csv\n"
          ],
          "name": "stdout"
        }
      ]
    },
    {
      "cell_type": "code",
      "metadata": {
        "id": "RmNVkqfH_831"
      },
      "source": [
        "train = pd.read_csv('train_Df64byy.csv')\r\n",
        "test = pd.read_csv('test_YCcRUnU.csv')\r\n",
        "ss = pd.read_csv('sample_submission_QrCyCoT.csv')"
      ],
      "execution_count": null,
      "outputs": []
    },
    {
      "cell_type": "code",
      "metadata": {
        "colab": {
          "base_uri": "https://localhost:8080/"
        },
        "id": "cNzHc7Ln_98s",
        "outputId": "ada100dd-cda4-4f4a-e2cb-103745d2ff8a"
      },
      "source": [
        "train.shape, test.shape, ss.shape"
      ],
      "execution_count": null,
      "outputs": [
        {
          "output_type": "execute_result",
          "data": {
            "text/plain": [
              "((50882, 14), (21805, 13), (21805, 2))"
            ]
          },
          "metadata": {
            "tags": []
          },
          "execution_count": 44
        }
      ]
    },
    {
      "cell_type": "markdown",
      "metadata": {
        "id": "jnaNcgtVKcrI"
      },
      "source": [
        "## **1. Understanding of Dataset**"
      ]
    },
    {
      "cell_type": "code",
      "metadata": {
        "colab": {
          "base_uri": "https://localhost:8080/"
        },
        "id": "BEmZy70pGQVb",
        "outputId": "0c20f04f-27f0-468c-c163-9aec70099574"
      },
      "source": [
        "def display_unique(data):\r\n",
        "    for column in data.columns :\r\n",
        "        \r\n",
        "        print(\"No of Unique Values in \"+column+\" Column are : \"+str(data[column].nunique()))\r\n",
        "        print(\"Actual Unique Values in \"+column+\" Column are : \"+str(data[column].sort_values(ascending=True,na_position='last').unique() ))\r\n",
        "        print(\"\")\r\n",
        "display_unique(train)\r\n",
        "print(\"**********************************************************************\")\r\n",
        "display_unique(test)"
      ],
      "execution_count": null,
      "outputs": [
        {
          "output_type": "stream",
          "text": [
            "No of Unique Values in ID Column are : 50882\n",
            "Actual Unique Values in ID Column are : [    1     2     3 ... 50880 50881 50882]\n",
            "\n",
            "No of Unique Values in City_Code Column are : 36\n",
            "Actual Unique Values in City_Code Column are : ['C1' 'C10' 'C11' 'C12' 'C13' 'C14' 'C15' 'C16' 'C17' 'C18' 'C19' 'C2'\n",
            " 'C20' 'C21' 'C22' 'C23' 'C24' 'C25' 'C26' 'C27' 'C28' 'C29' 'C3' 'C30'\n",
            " 'C31' 'C32' 'C33' 'C34' 'C35' 'C36' 'C4' 'C5' 'C6' 'C7' 'C8' 'C9']\n",
            "\n",
            "No of Unique Values in Region_Code Column are : 5316\n",
            "Actual Unique Values in Region_Code Column are : [   1    2    4 ... 6191 6193 6194]\n",
            "\n",
            "No of Unique Values in Accomodation_Type Column are : 2\n",
            "Actual Unique Values in Accomodation_Type Column are : ['Owned' 'Rented']\n",
            "\n",
            "No of Unique Values in Reco_Insurance_Type Column are : 2\n",
            "Actual Unique Values in Reco_Insurance_Type Column are : ['Individual' 'Joint']\n",
            "\n",
            "No of Unique Values in Upper_Age Column are : 58\n",
            "Actual Unique Values in Upper_Age Column are : [18 19 20 21 22 23 24 25 26 27 28 29 30 31 32 33 34 35 36 37 38 39 40 41\n",
            " 42 43 44 45 46 47 48 49 50 51 52 53 54 55 56 57 58 59 60 61 62 63 64 65\n",
            " 66 67 68 69 70 71 72 73 74 75]\n",
            "\n",
            "No of Unique Values in Lower_Age Column are : 60\n",
            "Actual Unique Values in Lower_Age Column are : [16 17 18 19 20 21 22 23 24 25 26 27 28 29 30 31 32 33 34 35 36 37 38 39\n",
            " 40 41 42 43 44 45 46 47 48 49 50 51 52 53 54 55 56 57 58 59 60 61 62 63\n",
            " 64 65 66 67 68 69 70 71 72 73 74 75]\n",
            "\n",
            "No of Unique Values in Is_Spouse Column are : 2\n",
            "Actual Unique Values in Is_Spouse Column are : ['No' 'Yes']\n",
            "\n",
            "No of Unique Values in Health Indicator Column are : 9\n",
            "Actual Unique Values in Health Indicator Column are : ['X1' 'X2' 'X3' 'X4' 'X5' 'X6' 'X7' 'X8' 'X9' nan]\n",
            "\n",
            "No of Unique Values in Holding_Policy_Duration Column are : 15\n",
            "Actual Unique Values in Holding_Policy_Duration Column are : ['1.0' '10.0' '11.0' '12.0' '13.0' '14+' '14.0' '2.0' '3.0' '4.0' '5.0'\n",
            " '6.0' '7.0' '8.0' '9.0' nan]\n",
            "\n",
            "No of Unique Values in Holding_Policy_Type Column are : 4\n",
            "Actual Unique Values in Holding_Policy_Type Column are : [ 1.  2.  3.  4. nan]\n",
            "\n",
            "No of Unique Values in Reco_Policy_Cat Column are : 22\n",
            "Actual Unique Values in Reco_Policy_Cat Column are : [ 1  2  3  4  5  6  7  8  9 10 11 12 13 14 15 16 17 18 19 20 21 22]\n",
            "\n",
            "No of Unique Values in Reco_Policy_Premium Column are : 6977\n",
            "Actual Unique Values in Reco_Policy_Premium Column are : [ 2280.   2304.   2380.  ... 42739.2 43046.4 43350.4]\n",
            "\n",
            "No of Unique Values in Response Column are : 2\n",
            "Actual Unique Values in Response Column are : [0 1]\n",
            "\n",
            "**********************************************************************\n",
            "No of Unique Values in ID Column are : 21805\n",
            "Actual Unique Values in ID Column are : [50883 50884 50885 ... 72685 72686 72687]\n",
            "\n",
            "No of Unique Values in City_Code Column are : 36\n",
            "Actual Unique Values in City_Code Column are : ['C1' 'C10' 'C11' 'C12' 'C13' 'C14' 'C15' 'C16' 'C17' 'C18' 'C19' 'C2'\n",
            " 'C20' 'C21' 'C22' 'C23' 'C24' 'C25' 'C26' 'C27' 'C28' 'C29' 'C3' 'C30'\n",
            " 'C31' 'C32' 'C33' 'C34' 'C35' 'C36' 'C4' 'C5' 'C6' 'C7' 'C8' 'C9']\n",
            "\n",
            "No of Unique Values in Region_Code Column are : 4694\n",
            "Actual Unique Values in Region_Code Column are : [   1    2    4 ... 6180 6184 6185]\n",
            "\n",
            "No of Unique Values in Accomodation_Type Column are : 2\n",
            "Actual Unique Values in Accomodation_Type Column are : ['Owned' 'Rented']\n",
            "\n",
            "No of Unique Values in Reco_Insurance_Type Column are : 2\n",
            "Actual Unique Values in Reco_Insurance_Type Column are : ['Individual' 'Joint']\n",
            "\n",
            "No of Unique Values in Upper_Age Column are : 58\n",
            "Actual Unique Values in Upper_Age Column are : [18 19 20 21 22 23 24 25 26 27 28 29 30 31 32 33 34 35 36 37 38 39 40 41\n",
            " 42 43 44 45 46 47 48 49 50 51 52 53 54 55 56 57 58 59 60 61 62 63 64 65\n",
            " 66 67 68 69 70 71 72 73 74 75]\n",
            "\n",
            "No of Unique Values in Lower_Age Column are : 60\n",
            "Actual Unique Values in Lower_Age Column are : [16 17 18 19 20 21 22 23 24 25 26 27 28 29 30 31 32 33 34 35 36 37 38 39\n",
            " 40 41 42 43 44 45 46 47 48 49 50 51 52 53 54 55 56 57 58 59 60 61 62 63\n",
            " 64 65 66 67 68 69 70 71 72 73 74 75]\n",
            "\n",
            "No of Unique Values in Is_Spouse Column are : 2\n",
            "Actual Unique Values in Is_Spouse Column are : ['No' 'Yes']\n",
            "\n",
            "No of Unique Values in Health Indicator Column are : 9\n",
            "Actual Unique Values in Health Indicator Column are : ['X1' 'X2' 'X3' 'X4' 'X5' 'X6' 'X7' 'X8' 'X9' nan]\n",
            "\n",
            "No of Unique Values in Holding_Policy_Duration Column are : 15\n",
            "Actual Unique Values in Holding_Policy_Duration Column are : ['1.0' '10.0' '11.0' '12.0' '13.0' '14+' '14.0' '2.0' '3.0' '4.0' '5.0'\n",
            " '6.0' '7.0' '8.0' '9.0' nan]\n",
            "\n",
            "No of Unique Values in Holding_Policy_Type Column are : 4\n",
            "Actual Unique Values in Holding_Policy_Type Column are : [ 1.  2.  3.  4. nan]\n",
            "\n",
            "No of Unique Values in Reco_Policy_Cat Column are : 22\n",
            "Actual Unique Values in Reco_Policy_Cat Column are : [ 1  2  3  4  5  6  7  8  9 10 11 12 13 14 15 16 17 18 19 20 21 22]\n",
            "\n",
            "No of Unique Values in Reco_Policy_Premium Column are : 5226\n",
            "Actual Unique Values in Reco_Policy_Premium Column are : [ 2152.   2312.   2396.  ... 42012.8 42579.  43776. ]\n",
            "\n"
          ],
          "name": "stdout"
        }
      ]
    },
    {
      "cell_type": "code",
      "metadata": {
        "colab": {
          "base_uri": "https://localhost:8080/"
        },
        "id": "dGg2EYN4GcNY",
        "outputId": "95724362-fcf8-4114-959f-33e48aed0892"
      },
      "source": [
        "def display_data_information(data, data_types, dataframe_name):\r\n",
        "    print(\" Information of \",dataframe_name,\": Rows = \",data.shape[0],\"| Columns = \",data.shape[1],\"\\n\")\r\n",
        "    data.info()\r\n",
        "    print(\"\\n\")\r\n",
        "    for VARIABLE in data_types :\r\n",
        "        data_type = data.select_dtypes(include=[ VARIABLE ]).dtypes\r\n",
        "        if len(data_type) > 0 :\r\n",
        "            print(str(len(data_type))+\" \"+VARIABLE+\" Features\\n\"+str(data_type)+\"\\n\"  )        \r\n",
        "\r\n",
        "# Display Data Information of \"train\" :\r\n",
        "\r\n",
        "data_types  = [\"float64\",\"int64\",\"object\"]\r\n",
        "display_data_information(train, data_types, \"train\")"
      ],
      "execution_count": null,
      "outputs": [
        {
          "output_type": "stream",
          "text": [
            " Information of  train : Rows =  50882 | Columns =  14 \n",
            "\n",
            "<class 'pandas.core.frame.DataFrame'>\n",
            "RangeIndex: 50882 entries, 0 to 50881\n",
            "Data columns (total 14 columns):\n",
            " #   Column                   Non-Null Count  Dtype  \n",
            "---  ------                   --------------  -----  \n",
            " 0   ID                       50882 non-null  int64  \n",
            " 1   City_Code                50882 non-null  object \n",
            " 2   Region_Code              50882 non-null  int64  \n",
            " 3   Accomodation_Type        50882 non-null  object \n",
            " 4   Reco_Insurance_Type      50882 non-null  object \n",
            " 5   Upper_Age                50882 non-null  int64  \n",
            " 6   Lower_Age                50882 non-null  int64  \n",
            " 7   Is_Spouse                50882 non-null  object \n",
            " 8   Health Indicator         39191 non-null  object \n",
            " 9   Holding_Policy_Duration  30631 non-null  object \n",
            " 10  Holding_Policy_Type      30631 non-null  float64\n",
            " 11  Reco_Policy_Cat          50882 non-null  int64  \n",
            " 12  Reco_Policy_Premium      50882 non-null  float64\n",
            " 13  Response                 50882 non-null  int64  \n",
            "dtypes: float64(2), int64(6), object(6)\n",
            "memory usage: 5.4+ MB\n",
            "\n",
            "\n",
            "2 float64 Features\n",
            "Holding_Policy_Type    float64\n",
            "Reco_Policy_Premium    float64\n",
            "dtype: object\n",
            "\n",
            "6 int64 Features\n",
            "ID                 int64\n",
            "Region_Code        int64\n",
            "Upper_Age          int64\n",
            "Lower_Age          int64\n",
            "Reco_Policy_Cat    int64\n",
            "Response           int64\n",
            "dtype: object\n",
            "\n",
            "6 object Features\n",
            "City_Code                  object\n",
            "Accomodation_Type          object\n",
            "Reco_Insurance_Type        object\n",
            "Is_Spouse                  object\n",
            "Health Indicator           object\n",
            "Holding_Policy_Duration    object\n",
            "dtype: object\n",
            "\n"
          ],
          "name": "stdout"
        }
      ]
    },
    {
      "cell_type": "code",
      "metadata": {
        "colab": {
          "base_uri": "https://localhost:8080/",
          "height": 414
        },
        "id": "eu4ZY3M_JQRK",
        "outputId": "fb44709c-1a66-4959-b0d9-929cb976cb3d"
      },
      "source": [
        "def display_head_tail(data, head_rows, tail_rows):\r\n",
        "    display(\"Data Head & Tail :\")\r\n",
        "    display(data.head(head_rows).append(data.tail(tail_rows)))\r\n",
        "#     return True\r\n",
        "\r\n",
        "# Displays Data Head (Top Rows) and Tail (Bottom Rows) of the Dataframe (Table)\r\n",
        "# Pass Dataframe as \"train\", No. of Rows in Head = 5 and No. of Rows in Tail = 5 :\r\n",
        "\r\n",
        "display_head_tail(train, head_rows=5, tail_rows=5)"
      ],
      "execution_count": null,
      "outputs": [
        {
          "output_type": "display_data",
          "data": {
            "application/vnd.google.colaboratory.intrinsic+json": {
              "type": "string"
            },
            "text/plain": [
              "'Data Head & Tail :'"
            ]
          },
          "metadata": {
            "tags": []
          }
        },
        {
          "output_type": "display_data",
          "data": {
            "text/html": [
              "<div>\n",
              "<style scoped>\n",
              "    .dataframe tbody tr th:only-of-type {\n",
              "        vertical-align: middle;\n",
              "    }\n",
              "\n",
              "    .dataframe tbody tr th {\n",
              "        vertical-align: top;\n",
              "    }\n",
              "\n",
              "    .dataframe thead th {\n",
              "        text-align: right;\n",
              "    }\n",
              "</style>\n",
              "<table border=\"1\" class=\"dataframe\">\n",
              "  <thead>\n",
              "    <tr style=\"text-align: right;\">\n",
              "      <th></th>\n",
              "      <th>ID</th>\n",
              "      <th>City_Code</th>\n",
              "      <th>Region_Code</th>\n",
              "      <th>Accomodation_Type</th>\n",
              "      <th>Reco_Insurance_Type</th>\n",
              "      <th>Upper_Age</th>\n",
              "      <th>Lower_Age</th>\n",
              "      <th>Is_Spouse</th>\n",
              "      <th>Health Indicator</th>\n",
              "      <th>Holding_Policy_Duration</th>\n",
              "      <th>Holding_Policy_Type</th>\n",
              "      <th>Reco_Policy_Cat</th>\n",
              "      <th>Reco_Policy_Premium</th>\n",
              "      <th>Response</th>\n",
              "    </tr>\n",
              "  </thead>\n",
              "  <tbody>\n",
              "    <tr>\n",
              "      <th>0</th>\n",
              "      <td>1</td>\n",
              "      <td>C3</td>\n",
              "      <td>3213</td>\n",
              "      <td>Rented</td>\n",
              "      <td>Individual</td>\n",
              "      <td>36</td>\n",
              "      <td>36</td>\n",
              "      <td>No</td>\n",
              "      <td>X1</td>\n",
              "      <td>14+</td>\n",
              "      <td>3.0</td>\n",
              "      <td>22</td>\n",
              "      <td>11628.0</td>\n",
              "      <td>0</td>\n",
              "    </tr>\n",
              "    <tr>\n",
              "      <th>1</th>\n",
              "      <td>2</td>\n",
              "      <td>C5</td>\n",
              "      <td>1117</td>\n",
              "      <td>Owned</td>\n",
              "      <td>Joint</td>\n",
              "      <td>75</td>\n",
              "      <td>22</td>\n",
              "      <td>No</td>\n",
              "      <td>X2</td>\n",
              "      <td>NaN</td>\n",
              "      <td>NaN</td>\n",
              "      <td>22</td>\n",
              "      <td>30510.0</td>\n",
              "      <td>0</td>\n",
              "    </tr>\n",
              "    <tr>\n",
              "      <th>2</th>\n",
              "      <td>3</td>\n",
              "      <td>C5</td>\n",
              "      <td>3732</td>\n",
              "      <td>Owned</td>\n",
              "      <td>Individual</td>\n",
              "      <td>32</td>\n",
              "      <td>32</td>\n",
              "      <td>No</td>\n",
              "      <td>NaN</td>\n",
              "      <td>1.0</td>\n",
              "      <td>1.0</td>\n",
              "      <td>19</td>\n",
              "      <td>7450.0</td>\n",
              "      <td>1</td>\n",
              "    </tr>\n",
              "    <tr>\n",
              "      <th>3</th>\n",
              "      <td>4</td>\n",
              "      <td>C24</td>\n",
              "      <td>4378</td>\n",
              "      <td>Owned</td>\n",
              "      <td>Joint</td>\n",
              "      <td>52</td>\n",
              "      <td>48</td>\n",
              "      <td>No</td>\n",
              "      <td>X1</td>\n",
              "      <td>14+</td>\n",
              "      <td>3.0</td>\n",
              "      <td>19</td>\n",
              "      <td>17780.0</td>\n",
              "      <td>0</td>\n",
              "    </tr>\n",
              "    <tr>\n",
              "      <th>4</th>\n",
              "      <td>5</td>\n",
              "      <td>C8</td>\n",
              "      <td>2190</td>\n",
              "      <td>Rented</td>\n",
              "      <td>Individual</td>\n",
              "      <td>44</td>\n",
              "      <td>44</td>\n",
              "      <td>No</td>\n",
              "      <td>X2</td>\n",
              "      <td>3.0</td>\n",
              "      <td>1.0</td>\n",
              "      <td>16</td>\n",
              "      <td>10404.0</td>\n",
              "      <td>0</td>\n",
              "    </tr>\n",
              "    <tr>\n",
              "      <th>50877</th>\n",
              "      <td>50878</td>\n",
              "      <td>C4</td>\n",
              "      <td>845</td>\n",
              "      <td>Rented</td>\n",
              "      <td>Individual</td>\n",
              "      <td>22</td>\n",
              "      <td>22</td>\n",
              "      <td>No</td>\n",
              "      <td>X3</td>\n",
              "      <td>NaN</td>\n",
              "      <td>NaN</td>\n",
              "      <td>18</td>\n",
              "      <td>7704.0</td>\n",
              "      <td>0</td>\n",
              "    </tr>\n",
              "    <tr>\n",
              "      <th>50878</th>\n",
              "      <td>50879</td>\n",
              "      <td>C5</td>\n",
              "      <td>4188</td>\n",
              "      <td>Rented</td>\n",
              "      <td>Individual</td>\n",
              "      <td>27</td>\n",
              "      <td>27</td>\n",
              "      <td>No</td>\n",
              "      <td>X3</td>\n",
              "      <td>7.0</td>\n",
              "      <td>3.0</td>\n",
              "      <td>4</td>\n",
              "      <td>5408.0</td>\n",
              "      <td>0</td>\n",
              "    </tr>\n",
              "    <tr>\n",
              "      <th>50879</th>\n",
              "      <td>50880</td>\n",
              "      <td>C1</td>\n",
              "      <td>442</td>\n",
              "      <td>Rented</td>\n",
              "      <td>Individual</td>\n",
              "      <td>63</td>\n",
              "      <td>63</td>\n",
              "      <td>No</td>\n",
              "      <td>X2</td>\n",
              "      <td>14+</td>\n",
              "      <td>1.0</td>\n",
              "      <td>12</td>\n",
              "      <td>11374.0</td>\n",
              "      <td>0</td>\n",
              "    </tr>\n",
              "    <tr>\n",
              "      <th>50880</th>\n",
              "      <td>50881</td>\n",
              "      <td>C1</td>\n",
              "      <td>4</td>\n",
              "      <td>Owned</td>\n",
              "      <td>Joint</td>\n",
              "      <td>71</td>\n",
              "      <td>49</td>\n",
              "      <td>No</td>\n",
              "      <td>X2</td>\n",
              "      <td>2.0</td>\n",
              "      <td>2.0</td>\n",
              "      <td>16</td>\n",
              "      <td>28179.2</td>\n",
              "      <td>1</td>\n",
              "    </tr>\n",
              "    <tr>\n",
              "      <th>50881</th>\n",
              "      <td>50882</td>\n",
              "      <td>C3</td>\n",
              "      <td>3866</td>\n",
              "      <td>Rented</td>\n",
              "      <td>Individual</td>\n",
              "      <td>24</td>\n",
              "      <td>24</td>\n",
              "      <td>No</td>\n",
              "      <td>X3</td>\n",
              "      <td>2.0</td>\n",
              "      <td>3.0</td>\n",
              "      <td>18</td>\n",
              "      <td>11424.0</td>\n",
              "      <td>0</td>\n",
              "    </tr>\n",
              "  </tbody>\n",
              "</table>\n",
              "</div>"
            ],
            "text/plain": [
              "          ID City_Code  ...  Reco_Policy_Premium Response\n",
              "0          1        C3  ...              11628.0        0\n",
              "1          2        C5  ...              30510.0        0\n",
              "2          3        C5  ...               7450.0        1\n",
              "3          4       C24  ...              17780.0        0\n",
              "4          5        C8  ...              10404.0        0\n",
              "50877  50878        C4  ...               7704.0        0\n",
              "50878  50879        C5  ...               5408.0        0\n",
              "50879  50880        C1  ...              11374.0        0\n",
              "50880  50881        C1  ...              28179.2        1\n",
              "50881  50882        C3  ...              11424.0        0\n",
              "\n",
              "[10 rows x 14 columns]"
            ]
          },
          "metadata": {
            "tags": []
          }
        }
      ]
    },
    {
      "cell_type": "code",
      "metadata": {
        "colab": {
          "base_uri": "https://localhost:8080/",
          "height": 414
        },
        "id": "cG1JOy6QJb7z",
        "outputId": "b081d0e7-4c48-4d72-f5ab-e3a1853e026f"
      },
      "source": [
        "display_head_tail(test, head_rows=5, tail_rows=5)"
      ],
      "execution_count": null,
      "outputs": [
        {
          "output_type": "display_data",
          "data": {
            "application/vnd.google.colaboratory.intrinsic+json": {
              "type": "string"
            },
            "text/plain": [
              "'Data Head & Tail :'"
            ]
          },
          "metadata": {
            "tags": []
          }
        },
        {
          "output_type": "display_data",
          "data": {
            "text/html": [
              "<div>\n",
              "<style scoped>\n",
              "    .dataframe tbody tr th:only-of-type {\n",
              "        vertical-align: middle;\n",
              "    }\n",
              "\n",
              "    .dataframe tbody tr th {\n",
              "        vertical-align: top;\n",
              "    }\n",
              "\n",
              "    .dataframe thead th {\n",
              "        text-align: right;\n",
              "    }\n",
              "</style>\n",
              "<table border=\"1\" class=\"dataframe\">\n",
              "  <thead>\n",
              "    <tr style=\"text-align: right;\">\n",
              "      <th></th>\n",
              "      <th>ID</th>\n",
              "      <th>City_Code</th>\n",
              "      <th>Region_Code</th>\n",
              "      <th>Accomodation_Type</th>\n",
              "      <th>Reco_Insurance_Type</th>\n",
              "      <th>Upper_Age</th>\n",
              "      <th>Lower_Age</th>\n",
              "      <th>Is_Spouse</th>\n",
              "      <th>Health Indicator</th>\n",
              "      <th>Holding_Policy_Duration</th>\n",
              "      <th>Holding_Policy_Type</th>\n",
              "      <th>Reco_Policy_Cat</th>\n",
              "      <th>Reco_Policy_Premium</th>\n",
              "    </tr>\n",
              "  </thead>\n",
              "  <tbody>\n",
              "    <tr>\n",
              "      <th>0</th>\n",
              "      <td>50883</td>\n",
              "      <td>C1</td>\n",
              "      <td>156</td>\n",
              "      <td>Owned</td>\n",
              "      <td>Individual</td>\n",
              "      <td>30</td>\n",
              "      <td>30</td>\n",
              "      <td>No</td>\n",
              "      <td>NaN</td>\n",
              "      <td>6.0</td>\n",
              "      <td>3.0</td>\n",
              "      <td>5</td>\n",
              "      <td>11934.0</td>\n",
              "    </tr>\n",
              "    <tr>\n",
              "      <th>1</th>\n",
              "      <td>50884</td>\n",
              "      <td>C4</td>\n",
              "      <td>7</td>\n",
              "      <td>Owned</td>\n",
              "      <td>Joint</td>\n",
              "      <td>69</td>\n",
              "      <td>68</td>\n",
              "      <td>Yes</td>\n",
              "      <td>X1</td>\n",
              "      <td>3.0</td>\n",
              "      <td>3.0</td>\n",
              "      <td>18</td>\n",
              "      <td>32204.8</td>\n",
              "    </tr>\n",
              "    <tr>\n",
              "      <th>2</th>\n",
              "      <td>50885</td>\n",
              "      <td>C1</td>\n",
              "      <td>564</td>\n",
              "      <td>Rented</td>\n",
              "      <td>Individual</td>\n",
              "      <td>28</td>\n",
              "      <td>28</td>\n",
              "      <td>No</td>\n",
              "      <td>X3</td>\n",
              "      <td>2.0</td>\n",
              "      <td>4.0</td>\n",
              "      <td>17</td>\n",
              "      <td>9240.0</td>\n",
              "    </tr>\n",
              "    <tr>\n",
              "      <th>3</th>\n",
              "      <td>50886</td>\n",
              "      <td>C3</td>\n",
              "      <td>1177</td>\n",
              "      <td>Rented</td>\n",
              "      <td>Individual</td>\n",
              "      <td>23</td>\n",
              "      <td>23</td>\n",
              "      <td>No</td>\n",
              "      <td>X3</td>\n",
              "      <td>3.0</td>\n",
              "      <td>3.0</td>\n",
              "      <td>18</td>\n",
              "      <td>9086.0</td>\n",
              "    </tr>\n",
              "    <tr>\n",
              "      <th>4</th>\n",
              "      <td>50887</td>\n",
              "      <td>C1</td>\n",
              "      <td>951</td>\n",
              "      <td>Owned</td>\n",
              "      <td>Individual</td>\n",
              "      <td>75</td>\n",
              "      <td>75</td>\n",
              "      <td>No</td>\n",
              "      <td>X3</td>\n",
              "      <td>NaN</td>\n",
              "      <td>NaN</td>\n",
              "      <td>5</td>\n",
              "      <td>22534.0</td>\n",
              "    </tr>\n",
              "    <tr>\n",
              "      <th>21800</th>\n",
              "      <td>72683</td>\n",
              "      <td>C3</td>\n",
              "      <td>1044</td>\n",
              "      <td>Owned</td>\n",
              "      <td>Individual</td>\n",
              "      <td>45</td>\n",
              "      <td>45</td>\n",
              "      <td>No</td>\n",
              "      <td>X1</td>\n",
              "      <td>4.0</td>\n",
              "      <td>1.0</td>\n",
              "      <td>18</td>\n",
              "      <td>15884.0</td>\n",
              "    </tr>\n",
              "    <tr>\n",
              "      <th>21801</th>\n",
              "      <td>72684</td>\n",
              "      <td>C4</td>\n",
              "      <td>266</td>\n",
              "      <td>Owned</td>\n",
              "      <td>Individual</td>\n",
              "      <td>59</td>\n",
              "      <td>59</td>\n",
              "      <td>No</td>\n",
              "      <td>X5</td>\n",
              "      <td>6.0</td>\n",
              "      <td>3.0</td>\n",
              "      <td>18</td>\n",
              "      <td>21390.0</td>\n",
              "    </tr>\n",
              "    <tr>\n",
              "      <th>21802</th>\n",
              "      <td>72685</td>\n",
              "      <td>C12</td>\n",
              "      <td>2470</td>\n",
              "      <td>Owned</td>\n",
              "      <td>Individual</td>\n",
              "      <td>74</td>\n",
              "      <td>74</td>\n",
              "      <td>No</td>\n",
              "      <td>X3</td>\n",
              "      <td>NaN</td>\n",
              "      <td>NaN</td>\n",
              "      <td>1</td>\n",
              "      <td>17836.0</td>\n",
              "    </tr>\n",
              "    <tr>\n",
              "      <th>21803</th>\n",
              "      <td>72686</td>\n",
              "      <td>C10</td>\n",
              "      <td>1676</td>\n",
              "      <td>Rented</td>\n",
              "      <td>Individual</td>\n",
              "      <td>25</td>\n",
              "      <td>25</td>\n",
              "      <td>No</td>\n",
              "      <td>X4</td>\n",
              "      <td>3.0</td>\n",
              "      <td>1.0</td>\n",
              "      <td>19</td>\n",
              "      <td>11568.0</td>\n",
              "    </tr>\n",
              "    <tr>\n",
              "      <th>21804</th>\n",
              "      <td>72687</td>\n",
              "      <td>C2</td>\n",
              "      <td>3617</td>\n",
              "      <td>Owned</td>\n",
              "      <td>Individual</td>\n",
              "      <td>73</td>\n",
              "      <td>73</td>\n",
              "      <td>No</td>\n",
              "      <td>X2</td>\n",
              "      <td>14+</td>\n",
              "      <td>2.0</td>\n",
              "      <td>3</td>\n",
              "      <td>23040.0</td>\n",
              "    </tr>\n",
              "  </tbody>\n",
              "</table>\n",
              "</div>"
            ],
            "text/plain": [
              "          ID City_Code  ...  Reco_Policy_Cat Reco_Policy_Premium\n",
              "0      50883        C1  ...                5             11934.0\n",
              "1      50884        C4  ...               18             32204.8\n",
              "2      50885        C1  ...               17              9240.0\n",
              "3      50886        C3  ...               18              9086.0\n",
              "4      50887        C1  ...                5             22534.0\n",
              "21800  72683        C3  ...               18             15884.0\n",
              "21801  72684        C4  ...               18             21390.0\n",
              "21802  72685       C12  ...                1             17836.0\n",
              "21803  72686       C10  ...               19             11568.0\n",
              "21804  72687        C2  ...                3             23040.0\n",
              "\n",
              "[10 rows x 13 columns]"
            ]
          },
          "metadata": {
            "tags": []
          }
        }
      ]
    },
    {
      "cell_type": "markdown",
      "metadata": {
        "id": "fZ_8KCB1KSYq"
      },
      "source": [
        "### **Removing the Duplicates in our Dataset**"
      ]
    },
    {
      "cell_type": "code",
      "metadata": {
        "colab": {
          "base_uri": "https://localhost:8080/"
        },
        "id": "4jraVIFAJ6wQ",
        "outputId": "c2ba2c1e-0929-48cc-c4d4-ceb597496103"
      },
      "source": [
        "def remove_duplicate(data):\r\n",
        "    \r\n",
        "    print(\"BEFORE REMOVING DUPLICATES - No. of Rows = \",data.shape[0])\r\n",
        "    data.drop_duplicates(keep=\"first\", inplace=True) \r\n",
        "    print(\"AFTER REMOVING DUPLICATES  - No. of Rows = \",data.shape[0])\r\n",
        "    \r\n",
        "    return data\r\n",
        "\r\n",
        "train = remove_duplicate(train)\r\n",
        "test = remove_duplicate(test)"
      ],
      "execution_count": null,
      "outputs": [
        {
          "output_type": "stream",
          "text": [
            "BEFORE REMOVING DUPLICATES - No. of Rows =  50882\n",
            "AFTER REMOVING DUPLICATES  - No. of Rows =  50882\n",
            "BEFORE REMOVING DUPLICATES - No. of Rows =  21805\n",
            "AFTER REMOVING DUPLICATES  - No. of Rows =  21805\n"
          ],
          "name": "stdout"
        }
      ]
    },
    {
      "cell_type": "markdown",
      "metadata": {
        "id": "VrXw3WouLCUS"
      },
      "source": [
        "## **2. EXPLORATORY DATA ANALYSIS**\r\n",
        "\r\n",
        "\r\n",
        "### **Handling Missing Values**\r\n",
        "\r\n",
        "* For Continuous Variables I'm replacing with - Mean/Median/Any Specific Value \r\n",
        "\r\n",
        "* For Categorical Variables I'm replacing with - Others/ForwardFill/BackFill"
      ]
    },
    {
      "cell_type": "code",
      "metadata": {
        "colab": {
          "base_uri": "https://localhost:8080/"
        },
        "id": "wD8hpF3qL4KH",
        "outputId": "1a93fb22-753d-4025-df50-7c948a7fe91f"
      },
      "source": [
        "train.isnull().sum()"
      ],
      "execution_count": null,
      "outputs": [
        {
          "output_type": "execute_result",
          "data": {
            "text/plain": [
              "ID                             0\n",
              "City_Code                      0\n",
              "Region_Code                    0\n",
              "Accomodation_Type              0\n",
              "Reco_Insurance_Type            0\n",
              "Upper_Age                      0\n",
              "Lower_Age                      0\n",
              "Is_Spouse                      0\n",
              "Health Indicator           11691\n",
              "Holding_Policy_Duration    20251\n",
              "Holding_Policy_Type        20251\n",
              "Reco_Policy_Cat                0\n",
              "Reco_Policy_Premium            0\n",
              "Response                       0\n",
              "dtype: int64"
            ]
          },
          "metadata": {
            "tags": []
          },
          "execution_count": 50
        }
      ]
    },
    {
      "cell_type": "code",
      "metadata": {
        "id": "t13MV36vKJEK"
      },
      "source": [
        "def fill_missing_values(data, fill_value, fill_types, columns, dataframe_name):\r\n",
        "    \r\n",
        "    print(\"Missing Values BEFORE REMOVAL in \",dataframe_name,\" data\")\r\n",
        "    display(data.isnull().sum())\r\n",
        "    for column in columns :\r\n",
        "        \r\n",
        "        # Fill Missing Values with Specific Value :\r\n",
        "        if \"Value_Fill\" in fill_types :\r\n",
        "            data[ column ] = data[ column ].fillna(fill_value)\r\n",
        "#             print(\"Value_Fill\")\r\n",
        "\r\n",
        "        # Fill Missing Values with Forward Fill  (Previous Row Value as Current Row in Table) :\r\n",
        "        if \"Forward_Fill\" in fill_types :\r\n",
        "            data[ column ] = data[ column ].ffill(axis = 0)\r\n",
        "#             print(\"Forward_Fill\")\r\n",
        "\r\n",
        "        # Fill Missing Values with Backward Fill (Next Row Value as Current Row in Table) :\r\n",
        "        if \"Backward_Fill\" in fill_types :\r\n",
        "            data[ column ] = data[ column ].bfill(axis = 0)\r\n",
        "#             print(\"Backward_Fill\")\r\n",
        "    \r\n",
        "    print(\"Missing Values AFTER REMOVAL in \",dataframe_name,\" data\")\r\n",
        "    display(data.isnull().sum())\r\n",
        "    \r\n",
        "    return data"
      ],
      "execution_count": null,
      "outputs": []
    },
    {
      "cell_type": "code",
      "metadata": {
        "colab": {
          "base_uri": "https://localhost:8080/",
          "height": 1000
        },
        "id": "ySxlRfA7MJz7",
        "outputId": "8b7566e2-0f42-495a-f9fe-142257b07c3a"
      },
      "source": [
        "fill_missing_values(train, 0, \"Forward_Fill\", ['Health Indicator'], \"train\")\r\n",
        "fill_missing_values(train, 0, \"Forward_Fill\", ['Holding_Policy_Type'], \"train\")\r\n",
        "fill_missing_values(train, 0, \"Forward_Fill\", ['Holding_Policy_Duration'], \"train\")"
      ],
      "execution_count": null,
      "outputs": [
        {
          "output_type": "stream",
          "text": [
            "Missing Values BEFORE REMOVAL in  train  data\n"
          ],
          "name": "stdout"
        },
        {
          "output_type": "display_data",
          "data": {
            "text/plain": [
              "ID                             0\n",
              "City_Code                      0\n",
              "Region_Code                    0\n",
              "Accomodation_Type              0\n",
              "Reco_Insurance_Type            0\n",
              "Upper_Age                      0\n",
              "Lower_Age                      0\n",
              "Is_Spouse                      0\n",
              "Health Indicator           11691\n",
              "Holding_Policy_Duration    20251\n",
              "Holding_Policy_Type        20251\n",
              "Reco_Policy_Cat                0\n",
              "Reco_Policy_Premium            0\n",
              "Response                       0\n",
              "dtype: int64"
            ]
          },
          "metadata": {
            "tags": []
          }
        },
        {
          "output_type": "stream",
          "text": [
            "Missing Values AFTER REMOVAL in  train  data\n"
          ],
          "name": "stdout"
        },
        {
          "output_type": "display_data",
          "data": {
            "text/plain": [
              "ID                             0\n",
              "City_Code                      0\n",
              "Region_Code                    0\n",
              "Accomodation_Type              0\n",
              "Reco_Insurance_Type            0\n",
              "Upper_Age                      0\n",
              "Lower_Age                      0\n",
              "Is_Spouse                      0\n",
              "Health Indicator               0\n",
              "Holding_Policy_Duration    20251\n",
              "Holding_Policy_Type        20251\n",
              "Reco_Policy_Cat                0\n",
              "Reco_Policy_Premium            0\n",
              "Response                       0\n",
              "dtype: int64"
            ]
          },
          "metadata": {
            "tags": []
          }
        },
        {
          "output_type": "stream",
          "text": [
            "Missing Values BEFORE REMOVAL in  train  data\n"
          ],
          "name": "stdout"
        },
        {
          "output_type": "display_data",
          "data": {
            "text/plain": [
              "ID                             0\n",
              "City_Code                      0\n",
              "Region_Code                    0\n",
              "Accomodation_Type              0\n",
              "Reco_Insurance_Type            0\n",
              "Upper_Age                      0\n",
              "Lower_Age                      0\n",
              "Is_Spouse                      0\n",
              "Health Indicator               0\n",
              "Holding_Policy_Duration    20251\n",
              "Holding_Policy_Type        20251\n",
              "Reco_Policy_Cat                0\n",
              "Reco_Policy_Premium            0\n",
              "Response                       0\n",
              "dtype: int64"
            ]
          },
          "metadata": {
            "tags": []
          }
        },
        {
          "output_type": "stream",
          "text": [
            "Missing Values AFTER REMOVAL in  train  data\n"
          ],
          "name": "stdout"
        },
        {
          "output_type": "display_data",
          "data": {
            "text/plain": [
              "ID                             0\n",
              "City_Code                      0\n",
              "Region_Code                    0\n",
              "Accomodation_Type              0\n",
              "Reco_Insurance_Type            0\n",
              "Upper_Age                      0\n",
              "Lower_Age                      0\n",
              "Is_Spouse                      0\n",
              "Health Indicator               0\n",
              "Holding_Policy_Duration    20251\n",
              "Holding_Policy_Type            0\n",
              "Reco_Policy_Cat                0\n",
              "Reco_Policy_Premium            0\n",
              "Response                       0\n",
              "dtype: int64"
            ]
          },
          "metadata": {
            "tags": []
          }
        },
        {
          "output_type": "stream",
          "text": [
            "Missing Values BEFORE REMOVAL in  train  data\n"
          ],
          "name": "stdout"
        },
        {
          "output_type": "display_data",
          "data": {
            "text/plain": [
              "ID                             0\n",
              "City_Code                      0\n",
              "Region_Code                    0\n",
              "Accomodation_Type              0\n",
              "Reco_Insurance_Type            0\n",
              "Upper_Age                      0\n",
              "Lower_Age                      0\n",
              "Is_Spouse                      0\n",
              "Health Indicator               0\n",
              "Holding_Policy_Duration    20251\n",
              "Holding_Policy_Type            0\n",
              "Reco_Policy_Cat                0\n",
              "Reco_Policy_Premium            0\n",
              "Response                       0\n",
              "dtype: int64"
            ]
          },
          "metadata": {
            "tags": []
          }
        },
        {
          "output_type": "stream",
          "text": [
            "Missing Values AFTER REMOVAL in  train  data\n"
          ],
          "name": "stdout"
        },
        {
          "output_type": "display_data",
          "data": {
            "text/plain": [
              "ID                         0\n",
              "City_Code                  0\n",
              "Region_Code                0\n",
              "Accomodation_Type          0\n",
              "Reco_Insurance_Type        0\n",
              "Upper_Age                  0\n",
              "Lower_Age                  0\n",
              "Is_Spouse                  0\n",
              "Health Indicator           0\n",
              "Holding_Policy_Duration    0\n",
              "Holding_Policy_Type        0\n",
              "Reco_Policy_Cat            0\n",
              "Reco_Policy_Premium        0\n",
              "Response                   0\n",
              "dtype: int64"
            ]
          },
          "metadata": {
            "tags": []
          }
        },
        {
          "output_type": "execute_result",
          "data": {
            "text/html": [
              "<div>\n",
              "<style scoped>\n",
              "    .dataframe tbody tr th:only-of-type {\n",
              "        vertical-align: middle;\n",
              "    }\n",
              "\n",
              "    .dataframe tbody tr th {\n",
              "        vertical-align: top;\n",
              "    }\n",
              "\n",
              "    .dataframe thead th {\n",
              "        text-align: right;\n",
              "    }\n",
              "</style>\n",
              "<table border=\"1\" class=\"dataframe\">\n",
              "  <thead>\n",
              "    <tr style=\"text-align: right;\">\n",
              "      <th></th>\n",
              "      <th>ID</th>\n",
              "      <th>City_Code</th>\n",
              "      <th>Region_Code</th>\n",
              "      <th>Accomodation_Type</th>\n",
              "      <th>Reco_Insurance_Type</th>\n",
              "      <th>Upper_Age</th>\n",
              "      <th>Lower_Age</th>\n",
              "      <th>Is_Spouse</th>\n",
              "      <th>Health Indicator</th>\n",
              "      <th>Holding_Policy_Duration</th>\n",
              "      <th>Holding_Policy_Type</th>\n",
              "      <th>Reco_Policy_Cat</th>\n",
              "      <th>Reco_Policy_Premium</th>\n",
              "      <th>Response</th>\n",
              "    </tr>\n",
              "  </thead>\n",
              "  <tbody>\n",
              "    <tr>\n",
              "      <th>0</th>\n",
              "      <td>1</td>\n",
              "      <td>C3</td>\n",
              "      <td>3213</td>\n",
              "      <td>Rented</td>\n",
              "      <td>Individual</td>\n",
              "      <td>36</td>\n",
              "      <td>36</td>\n",
              "      <td>No</td>\n",
              "      <td>X1</td>\n",
              "      <td>14+</td>\n",
              "      <td>3.0</td>\n",
              "      <td>22</td>\n",
              "      <td>11628.0</td>\n",
              "      <td>0</td>\n",
              "    </tr>\n",
              "    <tr>\n",
              "      <th>1</th>\n",
              "      <td>2</td>\n",
              "      <td>C5</td>\n",
              "      <td>1117</td>\n",
              "      <td>Owned</td>\n",
              "      <td>Joint</td>\n",
              "      <td>75</td>\n",
              "      <td>22</td>\n",
              "      <td>No</td>\n",
              "      <td>X2</td>\n",
              "      <td>14+</td>\n",
              "      <td>3.0</td>\n",
              "      <td>22</td>\n",
              "      <td>30510.0</td>\n",
              "      <td>0</td>\n",
              "    </tr>\n",
              "    <tr>\n",
              "      <th>2</th>\n",
              "      <td>3</td>\n",
              "      <td>C5</td>\n",
              "      <td>3732</td>\n",
              "      <td>Owned</td>\n",
              "      <td>Individual</td>\n",
              "      <td>32</td>\n",
              "      <td>32</td>\n",
              "      <td>No</td>\n",
              "      <td>X2</td>\n",
              "      <td>1.0</td>\n",
              "      <td>1.0</td>\n",
              "      <td>19</td>\n",
              "      <td>7450.0</td>\n",
              "      <td>1</td>\n",
              "    </tr>\n",
              "    <tr>\n",
              "      <th>3</th>\n",
              "      <td>4</td>\n",
              "      <td>C24</td>\n",
              "      <td>4378</td>\n",
              "      <td>Owned</td>\n",
              "      <td>Joint</td>\n",
              "      <td>52</td>\n",
              "      <td>48</td>\n",
              "      <td>No</td>\n",
              "      <td>X1</td>\n",
              "      <td>14+</td>\n",
              "      <td>3.0</td>\n",
              "      <td>19</td>\n",
              "      <td>17780.0</td>\n",
              "      <td>0</td>\n",
              "    </tr>\n",
              "    <tr>\n",
              "      <th>4</th>\n",
              "      <td>5</td>\n",
              "      <td>C8</td>\n",
              "      <td>2190</td>\n",
              "      <td>Rented</td>\n",
              "      <td>Individual</td>\n",
              "      <td>44</td>\n",
              "      <td>44</td>\n",
              "      <td>No</td>\n",
              "      <td>X2</td>\n",
              "      <td>3.0</td>\n",
              "      <td>1.0</td>\n",
              "      <td>16</td>\n",
              "      <td>10404.0</td>\n",
              "      <td>0</td>\n",
              "    </tr>\n",
              "    <tr>\n",
              "      <th>...</th>\n",
              "      <td>...</td>\n",
              "      <td>...</td>\n",
              "      <td>...</td>\n",
              "      <td>...</td>\n",
              "      <td>...</td>\n",
              "      <td>...</td>\n",
              "      <td>...</td>\n",
              "      <td>...</td>\n",
              "      <td>...</td>\n",
              "      <td>...</td>\n",
              "      <td>...</td>\n",
              "      <td>...</td>\n",
              "      <td>...</td>\n",
              "      <td>...</td>\n",
              "    </tr>\n",
              "    <tr>\n",
              "      <th>50877</th>\n",
              "      <td>50878</td>\n",
              "      <td>C4</td>\n",
              "      <td>845</td>\n",
              "      <td>Rented</td>\n",
              "      <td>Individual</td>\n",
              "      <td>22</td>\n",
              "      <td>22</td>\n",
              "      <td>No</td>\n",
              "      <td>X3</td>\n",
              "      <td>2.0</td>\n",
              "      <td>1.0</td>\n",
              "      <td>18</td>\n",
              "      <td>7704.0</td>\n",
              "      <td>0</td>\n",
              "    </tr>\n",
              "    <tr>\n",
              "      <th>50878</th>\n",
              "      <td>50879</td>\n",
              "      <td>C5</td>\n",
              "      <td>4188</td>\n",
              "      <td>Rented</td>\n",
              "      <td>Individual</td>\n",
              "      <td>27</td>\n",
              "      <td>27</td>\n",
              "      <td>No</td>\n",
              "      <td>X3</td>\n",
              "      <td>7.0</td>\n",
              "      <td>3.0</td>\n",
              "      <td>4</td>\n",
              "      <td>5408.0</td>\n",
              "      <td>0</td>\n",
              "    </tr>\n",
              "    <tr>\n",
              "      <th>50879</th>\n",
              "      <td>50880</td>\n",
              "      <td>C1</td>\n",
              "      <td>442</td>\n",
              "      <td>Rented</td>\n",
              "      <td>Individual</td>\n",
              "      <td>63</td>\n",
              "      <td>63</td>\n",
              "      <td>No</td>\n",
              "      <td>X2</td>\n",
              "      <td>14+</td>\n",
              "      <td>1.0</td>\n",
              "      <td>12</td>\n",
              "      <td>11374.0</td>\n",
              "      <td>0</td>\n",
              "    </tr>\n",
              "    <tr>\n",
              "      <th>50880</th>\n",
              "      <td>50881</td>\n",
              "      <td>C1</td>\n",
              "      <td>4</td>\n",
              "      <td>Owned</td>\n",
              "      <td>Joint</td>\n",
              "      <td>71</td>\n",
              "      <td>49</td>\n",
              "      <td>No</td>\n",
              "      <td>X2</td>\n",
              "      <td>2.0</td>\n",
              "      <td>2.0</td>\n",
              "      <td>16</td>\n",
              "      <td>28179.2</td>\n",
              "      <td>1</td>\n",
              "    </tr>\n",
              "    <tr>\n",
              "      <th>50881</th>\n",
              "      <td>50882</td>\n",
              "      <td>C3</td>\n",
              "      <td>3866</td>\n",
              "      <td>Rented</td>\n",
              "      <td>Individual</td>\n",
              "      <td>24</td>\n",
              "      <td>24</td>\n",
              "      <td>No</td>\n",
              "      <td>X3</td>\n",
              "      <td>2.0</td>\n",
              "      <td>3.0</td>\n",
              "      <td>18</td>\n",
              "      <td>11424.0</td>\n",
              "      <td>0</td>\n",
              "    </tr>\n",
              "  </tbody>\n",
              "</table>\n",
              "<p>50882 rows × 14 columns</p>\n",
              "</div>"
            ],
            "text/plain": [
              "          ID City_Code  ...  Reco_Policy_Premium Response\n",
              "0          1        C3  ...              11628.0        0\n",
              "1          2        C5  ...              30510.0        0\n",
              "2          3        C5  ...               7450.0        1\n",
              "3          4       C24  ...              17780.0        0\n",
              "4          5        C8  ...              10404.0        0\n",
              "...      ...       ...  ...                  ...      ...\n",
              "50877  50878        C4  ...               7704.0        0\n",
              "50878  50879        C5  ...               5408.0        0\n",
              "50879  50880        C1  ...              11374.0        0\n",
              "50880  50881        C1  ...              28179.2        1\n",
              "50881  50882        C3  ...              11424.0        0\n",
              "\n",
              "[50882 rows x 14 columns]"
            ]
          },
          "metadata": {
            "tags": []
          },
          "execution_count": 52
        }
      ]
    },
    {
      "cell_type": "code",
      "metadata": {
        "colab": {
          "base_uri": "https://localhost:8080/",
          "height": 1000
        },
        "id": "lQbhBD1xNW2M",
        "outputId": "9dfa076f-bc24-4947-8b86-831ebc8f1781"
      },
      "source": [
        "fill_missing_values(test, 0, \"Forward_Fill\", ['Holding_Policy_Duration','Health Indicator','Holding_Policy_Type'], \"test\")\r\n",
        "fill_missing_values(test, 0, \"Backward_Fill\", ['Health Indicator'], \"test\")"
      ],
      "execution_count": null,
      "outputs": [
        {
          "output_type": "stream",
          "text": [
            "Missing Values BEFORE REMOVAL in  test  data\n"
          ],
          "name": "stdout"
        },
        {
          "output_type": "display_data",
          "data": {
            "text/plain": [
              "ID                            0\n",
              "City_Code                     0\n",
              "Region_Code                   0\n",
              "Accomodation_Type             0\n",
              "Reco_Insurance_Type           0\n",
              "Upper_Age                     0\n",
              "Lower_Age                     0\n",
              "Is_Spouse                     0\n",
              "Health Indicator           5027\n",
              "Holding_Policy_Duration    8603\n",
              "Holding_Policy_Type        8603\n",
              "Reco_Policy_Cat               0\n",
              "Reco_Policy_Premium           0\n",
              "dtype: int64"
            ]
          },
          "metadata": {
            "tags": []
          }
        },
        {
          "output_type": "stream",
          "text": [
            "Missing Values AFTER REMOVAL in  test  data\n"
          ],
          "name": "stdout"
        },
        {
          "output_type": "display_data",
          "data": {
            "text/plain": [
              "ID                         0\n",
              "City_Code                  0\n",
              "Region_Code                0\n",
              "Accomodation_Type          0\n",
              "Reco_Insurance_Type        0\n",
              "Upper_Age                  0\n",
              "Lower_Age                  0\n",
              "Is_Spouse                  0\n",
              "Health Indicator           1\n",
              "Holding_Policy_Duration    0\n",
              "Holding_Policy_Type        0\n",
              "Reco_Policy_Cat            0\n",
              "Reco_Policy_Premium        0\n",
              "dtype: int64"
            ]
          },
          "metadata": {
            "tags": []
          }
        },
        {
          "output_type": "stream",
          "text": [
            "Missing Values BEFORE REMOVAL in  test  data\n"
          ],
          "name": "stdout"
        },
        {
          "output_type": "display_data",
          "data": {
            "text/plain": [
              "ID                         0\n",
              "City_Code                  0\n",
              "Region_Code                0\n",
              "Accomodation_Type          0\n",
              "Reco_Insurance_Type        0\n",
              "Upper_Age                  0\n",
              "Lower_Age                  0\n",
              "Is_Spouse                  0\n",
              "Health Indicator           1\n",
              "Holding_Policy_Duration    0\n",
              "Holding_Policy_Type        0\n",
              "Reco_Policy_Cat            0\n",
              "Reco_Policy_Premium        0\n",
              "dtype: int64"
            ]
          },
          "metadata": {
            "tags": []
          }
        },
        {
          "output_type": "stream",
          "text": [
            "Missing Values AFTER REMOVAL in  test  data\n"
          ],
          "name": "stdout"
        },
        {
          "output_type": "display_data",
          "data": {
            "text/plain": [
              "ID                         0\n",
              "City_Code                  0\n",
              "Region_Code                0\n",
              "Accomodation_Type          0\n",
              "Reco_Insurance_Type        0\n",
              "Upper_Age                  0\n",
              "Lower_Age                  0\n",
              "Is_Spouse                  0\n",
              "Health Indicator           0\n",
              "Holding_Policy_Duration    0\n",
              "Holding_Policy_Type        0\n",
              "Reco_Policy_Cat            0\n",
              "Reco_Policy_Premium        0\n",
              "dtype: int64"
            ]
          },
          "metadata": {
            "tags": []
          }
        },
        {
          "output_type": "execute_result",
          "data": {
            "text/html": [
              "<div>\n",
              "<style scoped>\n",
              "    .dataframe tbody tr th:only-of-type {\n",
              "        vertical-align: middle;\n",
              "    }\n",
              "\n",
              "    .dataframe tbody tr th {\n",
              "        vertical-align: top;\n",
              "    }\n",
              "\n",
              "    .dataframe thead th {\n",
              "        text-align: right;\n",
              "    }\n",
              "</style>\n",
              "<table border=\"1\" class=\"dataframe\">\n",
              "  <thead>\n",
              "    <tr style=\"text-align: right;\">\n",
              "      <th></th>\n",
              "      <th>ID</th>\n",
              "      <th>City_Code</th>\n",
              "      <th>Region_Code</th>\n",
              "      <th>Accomodation_Type</th>\n",
              "      <th>Reco_Insurance_Type</th>\n",
              "      <th>Upper_Age</th>\n",
              "      <th>Lower_Age</th>\n",
              "      <th>Is_Spouse</th>\n",
              "      <th>Health Indicator</th>\n",
              "      <th>Holding_Policy_Duration</th>\n",
              "      <th>Holding_Policy_Type</th>\n",
              "      <th>Reco_Policy_Cat</th>\n",
              "      <th>Reco_Policy_Premium</th>\n",
              "    </tr>\n",
              "  </thead>\n",
              "  <tbody>\n",
              "    <tr>\n",
              "      <th>0</th>\n",
              "      <td>50883</td>\n",
              "      <td>C1</td>\n",
              "      <td>156</td>\n",
              "      <td>Owned</td>\n",
              "      <td>Individual</td>\n",
              "      <td>30</td>\n",
              "      <td>30</td>\n",
              "      <td>No</td>\n",
              "      <td>X1</td>\n",
              "      <td>6.0</td>\n",
              "      <td>3.0</td>\n",
              "      <td>5</td>\n",
              "      <td>11934.0</td>\n",
              "    </tr>\n",
              "    <tr>\n",
              "      <th>1</th>\n",
              "      <td>50884</td>\n",
              "      <td>C4</td>\n",
              "      <td>7</td>\n",
              "      <td>Owned</td>\n",
              "      <td>Joint</td>\n",
              "      <td>69</td>\n",
              "      <td>68</td>\n",
              "      <td>Yes</td>\n",
              "      <td>X1</td>\n",
              "      <td>3.0</td>\n",
              "      <td>3.0</td>\n",
              "      <td>18</td>\n",
              "      <td>32204.8</td>\n",
              "    </tr>\n",
              "    <tr>\n",
              "      <th>2</th>\n",
              "      <td>50885</td>\n",
              "      <td>C1</td>\n",
              "      <td>564</td>\n",
              "      <td>Rented</td>\n",
              "      <td>Individual</td>\n",
              "      <td>28</td>\n",
              "      <td>28</td>\n",
              "      <td>No</td>\n",
              "      <td>X3</td>\n",
              "      <td>2.0</td>\n",
              "      <td>4.0</td>\n",
              "      <td>17</td>\n",
              "      <td>9240.0</td>\n",
              "    </tr>\n",
              "    <tr>\n",
              "      <th>3</th>\n",
              "      <td>50886</td>\n",
              "      <td>C3</td>\n",
              "      <td>1177</td>\n",
              "      <td>Rented</td>\n",
              "      <td>Individual</td>\n",
              "      <td>23</td>\n",
              "      <td>23</td>\n",
              "      <td>No</td>\n",
              "      <td>X3</td>\n",
              "      <td>3.0</td>\n",
              "      <td>3.0</td>\n",
              "      <td>18</td>\n",
              "      <td>9086.0</td>\n",
              "    </tr>\n",
              "    <tr>\n",
              "      <th>4</th>\n",
              "      <td>50887</td>\n",
              "      <td>C1</td>\n",
              "      <td>951</td>\n",
              "      <td>Owned</td>\n",
              "      <td>Individual</td>\n",
              "      <td>75</td>\n",
              "      <td>75</td>\n",
              "      <td>No</td>\n",
              "      <td>X3</td>\n",
              "      <td>3.0</td>\n",
              "      <td>3.0</td>\n",
              "      <td>5</td>\n",
              "      <td>22534.0</td>\n",
              "    </tr>\n",
              "    <tr>\n",
              "      <th>...</th>\n",
              "      <td>...</td>\n",
              "      <td>...</td>\n",
              "      <td>...</td>\n",
              "      <td>...</td>\n",
              "      <td>...</td>\n",
              "      <td>...</td>\n",
              "      <td>...</td>\n",
              "      <td>...</td>\n",
              "      <td>...</td>\n",
              "      <td>...</td>\n",
              "      <td>...</td>\n",
              "      <td>...</td>\n",
              "      <td>...</td>\n",
              "    </tr>\n",
              "    <tr>\n",
              "      <th>21800</th>\n",
              "      <td>72683</td>\n",
              "      <td>C3</td>\n",
              "      <td>1044</td>\n",
              "      <td>Owned</td>\n",
              "      <td>Individual</td>\n",
              "      <td>45</td>\n",
              "      <td>45</td>\n",
              "      <td>No</td>\n",
              "      <td>X1</td>\n",
              "      <td>4.0</td>\n",
              "      <td>1.0</td>\n",
              "      <td>18</td>\n",
              "      <td>15884.0</td>\n",
              "    </tr>\n",
              "    <tr>\n",
              "      <th>21801</th>\n",
              "      <td>72684</td>\n",
              "      <td>C4</td>\n",
              "      <td>266</td>\n",
              "      <td>Owned</td>\n",
              "      <td>Individual</td>\n",
              "      <td>59</td>\n",
              "      <td>59</td>\n",
              "      <td>No</td>\n",
              "      <td>X5</td>\n",
              "      <td>6.0</td>\n",
              "      <td>3.0</td>\n",
              "      <td>18</td>\n",
              "      <td>21390.0</td>\n",
              "    </tr>\n",
              "    <tr>\n",
              "      <th>21802</th>\n",
              "      <td>72685</td>\n",
              "      <td>C12</td>\n",
              "      <td>2470</td>\n",
              "      <td>Owned</td>\n",
              "      <td>Individual</td>\n",
              "      <td>74</td>\n",
              "      <td>74</td>\n",
              "      <td>No</td>\n",
              "      <td>X3</td>\n",
              "      <td>6.0</td>\n",
              "      <td>3.0</td>\n",
              "      <td>1</td>\n",
              "      <td>17836.0</td>\n",
              "    </tr>\n",
              "    <tr>\n",
              "      <th>21803</th>\n",
              "      <td>72686</td>\n",
              "      <td>C10</td>\n",
              "      <td>1676</td>\n",
              "      <td>Rented</td>\n",
              "      <td>Individual</td>\n",
              "      <td>25</td>\n",
              "      <td>25</td>\n",
              "      <td>No</td>\n",
              "      <td>X4</td>\n",
              "      <td>3.0</td>\n",
              "      <td>1.0</td>\n",
              "      <td>19</td>\n",
              "      <td>11568.0</td>\n",
              "    </tr>\n",
              "    <tr>\n",
              "      <th>21804</th>\n",
              "      <td>72687</td>\n",
              "      <td>C2</td>\n",
              "      <td>3617</td>\n",
              "      <td>Owned</td>\n",
              "      <td>Individual</td>\n",
              "      <td>73</td>\n",
              "      <td>73</td>\n",
              "      <td>No</td>\n",
              "      <td>X2</td>\n",
              "      <td>14+</td>\n",
              "      <td>2.0</td>\n",
              "      <td>3</td>\n",
              "      <td>23040.0</td>\n",
              "    </tr>\n",
              "  </tbody>\n",
              "</table>\n",
              "<p>21805 rows × 13 columns</p>\n",
              "</div>"
            ],
            "text/plain": [
              "          ID City_Code  ...  Reco_Policy_Cat Reco_Policy_Premium\n",
              "0      50883        C1  ...                5             11934.0\n",
              "1      50884        C4  ...               18             32204.8\n",
              "2      50885        C1  ...               17              9240.0\n",
              "3      50886        C3  ...               18              9086.0\n",
              "4      50887        C1  ...                5             22534.0\n",
              "...      ...       ...  ...              ...                 ...\n",
              "21800  72683        C3  ...               18             15884.0\n",
              "21801  72684        C4  ...               18             21390.0\n",
              "21802  72685       C12  ...                1             17836.0\n",
              "21803  72686       C10  ...               19             11568.0\n",
              "21804  72687        C2  ...                3             23040.0\n",
              "\n",
              "[21805 rows x 13 columns]"
            ]
          },
          "metadata": {
            "tags": []
          },
          "execution_count": 53
        }
      ]
    },
    {
      "cell_type": "markdown",
      "metadata": {
        "id": "xcV4SCjTOu_R"
      },
      "source": [
        "### **Display Unique Data**"
      ]
    },
    {
      "cell_type": "code",
      "metadata": {
        "colab": {
          "base_uri": "https://localhost:8080/"
        },
        "id": "7chDYxLCO0uB",
        "outputId": "b6339ac3-9f12-4ebb-e71b-57d9eb357d1c"
      },
      "source": [
        "for i in train:\r\n",
        "    print(f\"column {i} {train[i].nunique()} unique values.\")"
      ],
      "execution_count": null,
      "outputs": [
        {
          "output_type": "stream",
          "text": [
            "column ID 50882 unique values.\n",
            "column City_Code 36 unique values.\n",
            "column Region_Code 5316 unique values.\n",
            "column Accomodation_Type 2 unique values.\n",
            "column Reco_Insurance_Type 2 unique values.\n",
            "column Upper_Age 58 unique values.\n",
            "column Lower_Age 60 unique values.\n",
            "column Is_Spouse 2 unique values.\n",
            "column Health Indicator 9 unique values.\n",
            "column Holding_Policy_Duration 15 unique values.\n",
            "column Holding_Policy_Type 4 unique values.\n",
            "column Reco_Policy_Cat 22 unique values.\n",
            "column Reco_Policy_Premium 6977 unique values.\n",
            "column Response 2 unique values.\n"
          ],
          "name": "stdout"
        }
      ]
    },
    {
      "cell_type": "markdown",
      "metadata": {
        "id": "Er6FlKfzQ-yW"
      },
      "source": [
        "## **3. Feature Engineering**"
      ]
    },
    {
      "cell_type": "code",
      "metadata": {
        "id": "dRpPELq6RR2A"
      },
      "source": [
        "combine_set = pd.concat([train,test],axis=0)"
      ],
      "execution_count": null,
      "outputs": []
    },
    {
      "cell_type": "code",
      "metadata": {
        "id": "UTXJeydjPLKm"
      },
      "source": [
        "combine_set['Is_Spouse']=combine_set['Is_Spouse'].replace({'Yes':1,'No':0})\r\n",
        "combine_set['Accomodation_Type']=combine_set['Accomodation_Type'].replace({'Owned':1,'Rented':0})\r\n",
        "combine_set['Reco_Insurance_Type']=combine_set['Reco_Insurance_Type'].replace({'Individual':1,'Joint':0})\r\n",
        "combine_set['Holding_Policy_Duration']=combine_set['Holding_Policy_Duration'].replace({'14+':15.0}).astype(str)"
      ],
      "execution_count": null,
      "outputs": []
    },
    {
      "cell_type": "code",
      "metadata": {
        "id": "8BGWz6imWG00"
      },
      "source": [
        "combine_set['Holding_Policy_Duration']=combine_set['Holding_Policy_Duration'].astype('float64')\r\n",
        "combine_set['Holding_Policy_Type']=combine_set['Holding_Policy_Type'].astype('float64')"
      ],
      "execution_count": null,
      "outputs": []
    },
    {
      "cell_type": "code",
      "metadata": {
        "colab": {
          "base_uri": "https://localhost:8080/",
          "height": 241
        },
        "id": "wOGJPZGdSYtQ",
        "outputId": "c796ad6b-dc0a-4f9f-be96-69b4bf9a3a72"
      },
      "source": [
        "combine_set.head()"
      ],
      "execution_count": null,
      "outputs": [
        {
          "output_type": "execute_result",
          "data": {
            "text/html": [
              "<div>\n",
              "<style scoped>\n",
              "    .dataframe tbody tr th:only-of-type {\n",
              "        vertical-align: middle;\n",
              "    }\n",
              "\n",
              "    .dataframe tbody tr th {\n",
              "        vertical-align: top;\n",
              "    }\n",
              "\n",
              "    .dataframe thead th {\n",
              "        text-align: right;\n",
              "    }\n",
              "</style>\n",
              "<table border=\"1\" class=\"dataframe\">\n",
              "  <thead>\n",
              "    <tr style=\"text-align: right;\">\n",
              "      <th></th>\n",
              "      <th>ID</th>\n",
              "      <th>City_Code</th>\n",
              "      <th>Region_Code</th>\n",
              "      <th>Accomodation_Type</th>\n",
              "      <th>Reco_Insurance_Type</th>\n",
              "      <th>Upper_Age</th>\n",
              "      <th>Lower_Age</th>\n",
              "      <th>Is_Spouse</th>\n",
              "      <th>Health Indicator</th>\n",
              "      <th>Holding_Policy_Duration</th>\n",
              "      <th>Holding_Policy_Type</th>\n",
              "      <th>Reco_Policy_Cat</th>\n",
              "      <th>Reco_Policy_Premium</th>\n",
              "      <th>Response</th>\n",
              "    </tr>\n",
              "  </thead>\n",
              "  <tbody>\n",
              "    <tr>\n",
              "      <th>0</th>\n",
              "      <td>1</td>\n",
              "      <td>C3</td>\n",
              "      <td>3213</td>\n",
              "      <td>0</td>\n",
              "      <td>1</td>\n",
              "      <td>36</td>\n",
              "      <td>36</td>\n",
              "      <td>0</td>\n",
              "      <td>X1</td>\n",
              "      <td>15.0</td>\n",
              "      <td>3.0</td>\n",
              "      <td>22</td>\n",
              "      <td>11628.0</td>\n",
              "      <td>0.0</td>\n",
              "    </tr>\n",
              "    <tr>\n",
              "      <th>1</th>\n",
              "      <td>2</td>\n",
              "      <td>C5</td>\n",
              "      <td>1117</td>\n",
              "      <td>1</td>\n",
              "      <td>0</td>\n",
              "      <td>75</td>\n",
              "      <td>22</td>\n",
              "      <td>0</td>\n",
              "      <td>X2</td>\n",
              "      <td>15.0</td>\n",
              "      <td>3.0</td>\n",
              "      <td>22</td>\n",
              "      <td>30510.0</td>\n",
              "      <td>0.0</td>\n",
              "    </tr>\n",
              "    <tr>\n",
              "      <th>2</th>\n",
              "      <td>3</td>\n",
              "      <td>C5</td>\n",
              "      <td>3732</td>\n",
              "      <td>1</td>\n",
              "      <td>1</td>\n",
              "      <td>32</td>\n",
              "      <td>32</td>\n",
              "      <td>0</td>\n",
              "      <td>X2</td>\n",
              "      <td>1.0</td>\n",
              "      <td>1.0</td>\n",
              "      <td>19</td>\n",
              "      <td>7450.0</td>\n",
              "      <td>1.0</td>\n",
              "    </tr>\n",
              "    <tr>\n",
              "      <th>3</th>\n",
              "      <td>4</td>\n",
              "      <td>C24</td>\n",
              "      <td>4378</td>\n",
              "      <td>1</td>\n",
              "      <td>0</td>\n",
              "      <td>52</td>\n",
              "      <td>48</td>\n",
              "      <td>0</td>\n",
              "      <td>X1</td>\n",
              "      <td>15.0</td>\n",
              "      <td>3.0</td>\n",
              "      <td>19</td>\n",
              "      <td>17780.0</td>\n",
              "      <td>0.0</td>\n",
              "    </tr>\n",
              "    <tr>\n",
              "      <th>4</th>\n",
              "      <td>5</td>\n",
              "      <td>C8</td>\n",
              "      <td>2190</td>\n",
              "      <td>0</td>\n",
              "      <td>1</td>\n",
              "      <td>44</td>\n",
              "      <td>44</td>\n",
              "      <td>0</td>\n",
              "      <td>X2</td>\n",
              "      <td>3.0</td>\n",
              "      <td>1.0</td>\n",
              "      <td>16</td>\n",
              "      <td>10404.0</td>\n",
              "      <td>0.0</td>\n",
              "    </tr>\n",
              "  </tbody>\n",
              "</table>\n",
              "</div>"
            ],
            "text/plain": [
              "   ID City_Code  Region_Code  ...  Reco_Policy_Cat  Reco_Policy_Premium  Response\n",
              "0   1        C3         3213  ...               22              11628.0       0.0\n",
              "1   2        C5         1117  ...               22              30510.0       0.0\n",
              "2   3        C5         3732  ...               19               7450.0       1.0\n",
              "3   4       C24         4378  ...               19              17780.0       0.0\n",
              "4   5        C8         2190  ...               16              10404.0       0.0\n",
              "\n",
              "[5 rows x 14 columns]"
            ]
          },
          "metadata": {
            "tags": []
          },
          "execution_count": 58
        }
      ]
    },
    {
      "cell_type": "code",
      "metadata": {
        "colab": {
          "base_uri": "https://localhost:8080/"
        },
        "id": "lAkFsazpV3LY",
        "outputId": "527553fa-eacc-4398-a9c4-fcd775b435ac"
      },
      "source": [
        "combine_set.info()"
      ],
      "execution_count": null,
      "outputs": [
        {
          "output_type": "stream",
          "text": [
            "<class 'pandas.core.frame.DataFrame'>\n",
            "Int64Index: 72687 entries, 0 to 21804\n",
            "Data columns (total 14 columns):\n",
            " #   Column                   Non-Null Count  Dtype  \n",
            "---  ------                   --------------  -----  \n",
            " 0   ID                       72687 non-null  int64  \n",
            " 1   City_Code                72687 non-null  object \n",
            " 2   Region_Code              72687 non-null  int64  \n",
            " 3   Accomodation_Type        72687 non-null  int64  \n",
            " 4   Reco_Insurance_Type      72687 non-null  int64  \n",
            " 5   Upper_Age                72687 non-null  int64  \n",
            " 6   Lower_Age                72687 non-null  int64  \n",
            " 7   Is_Spouse                72687 non-null  int64  \n",
            " 8   Health Indicator         72687 non-null  object \n",
            " 9   Holding_Policy_Duration  72687 non-null  float64\n",
            " 10  Holding_Policy_Type      72687 non-null  float64\n",
            " 11  Reco_Policy_Cat          72687 non-null  int64  \n",
            " 12  Reco_Policy_Premium      72687 non-null  float64\n",
            " 13  Response                 50882 non-null  float64\n",
            "dtypes: float64(4), int64(8), object(2)\n",
            "memory usage: 8.3+ MB\n"
          ],
          "name": "stdout"
        }
      ]
    },
    {
      "cell_type": "code",
      "metadata": {
        "colab": {
          "base_uri": "https://localhost:8080/",
          "height": 614
        },
        "id": "T257osYBSa2A",
        "outputId": "5fdc9ce7-4194-45e1-bfa9-559b561e10a7"
      },
      "source": [
        "plt.figure(figsize=(15,8))\r\n",
        "sns.heatmap(combine_set.corr(), annot=True)"
      ],
      "execution_count": null,
      "outputs": [
        {
          "output_type": "execute_result",
          "data": {
            "text/plain": [
              "<matplotlib.axes._subplots.AxesSubplot at 0x7fa45a68c110>"
            ]
          },
          "metadata": {
            "tags": []
          },
          "execution_count": 60
        },
        {
          "output_type": "display_data",
          "data": {
            "image/png": "[encoded data removed]",
            "text/plain": [
              "<Figure size 1080x576 with 2 Axes>"
            ]
          },
          "metadata": {
            "tags": [],
            "needs_background": "light"
          }
        }
      ]
    },
    {
      "cell_type": "code",
      "metadata": {
        "id": "UJukndX9auUu"
      },
      "source": [
        "combine_set['Reco_Policy_Premium'] = pd.cut(x=combine_set['Reco_Policy_Premium'], bins=[0,15000,30000,45000], labels=[\"Small\",\"Medium\",\"Large\"])\r\n",
        "combine_set['Upper_Age'] = pd.cut(x=combine_set['Upper_Age'], bins=[20, 40, 60, 80], labels=[\"Teens\",\"Adult\",\"Senior\"])"
      ],
      "execution_count": null,
      "outputs": []
    },
    {
      "cell_type": "code",
      "metadata": {
        "colab": {
          "base_uri": "https://localhost:8080/"
        },
        "id": "qfOKcDY9XIIw",
        "outputId": "a9ddf2a8-3f29-4f56-db02-83d5bb8d9011"
      },
      "source": [
        "combine_set['Upper_Age'].value_counts()"
      ],
      "execution_count": null,
      "outputs": [
        {
          "output_type": "execute_result",
          "data": {
            "text/plain": [
              "Teens     30485\n",
              "Adult     23211\n",
              "Senior    16952\n",
              "Name: Upper_Age, dtype: int64"
            ]
          },
          "metadata": {
            "tags": []
          },
          "execution_count": 62
        }
      ]
    },
    {
      "cell_type": "code",
      "metadata": {
        "id": "Bgi-WKiGfI-C"
      },
      "source": [
        "combine_set['People_Response_per_region'] = combine_set.groupby(['Region_Code'])['Response'].transform('mean')\r\n",
        "combine_set['People_Response_per_city'] = combine_set.groupby(['City_Code'])['Response'].transform('mean')"
      ],
      "execution_count": null,
      "outputs": []
    },
    {
      "cell_type": "code",
      "metadata": {
        "colab": {
          "base_uri": "https://localhost:8080/"
        },
        "id": "3Vu_2G4WVra8",
        "outputId": "a31ad404-4e45-4e4e-af19-c29c92614a6d"
      },
      "source": [
        "combine_set.columns"
      ],
      "execution_count": null,
      "outputs": [
        {
          "output_type": "execute_result",
          "data": {
            "text/plain": [
              "Index(['ID', 'City_Code', 'Region_Code', 'Accomodation_Type',\n",
              "       'Reco_Insurance_Type', 'Upper_Age', 'Lower_Age', 'Is_Spouse',\n",
              "       'Health Indicator', 'Holding_Policy_Duration', 'Holding_Policy_Type',\n",
              "       'Reco_Policy_Cat', 'Reco_Policy_Premium', 'Response',\n",
              "       'People_Response_per_region', 'People_Response_per_city'],\n",
              "      dtype='object')"
            ]
          },
          "metadata": {
            "tags": []
          },
          "execution_count": 64
        }
      ]
    },
    {
      "cell_type": "code",
      "metadata": {
        "colab": {
          "base_uri": "https://localhost:8080/"
        },
        "id": "U3F0l-fKV71v",
        "outputId": "75d5f475-b83a-443f-f563-4b2479f61569"
      },
      "source": [
        "train.shape[0]"
      ],
      "execution_count": null,
      "outputs": [
        {
          "output_type": "execute_result",
          "data": {
            "text/plain": [
              "50882"
            ]
          },
          "metadata": {
            "tags": []
          },
          "execution_count": 65
        }
      ]
    },
    {
      "cell_type": "code",
      "metadata": {
        "id": "KLf0SrkNVvnj"
      },
      "source": [
        "# Getting back Train and Test after Preprocessing :\r\n",
        "train = combine_set[0 : train.shape[0]]\r\n",
        "test  = combine_set[train.shape[0] : ]"
      ],
      "execution_count": null,
      "outputs": []
    },
    {
      "cell_type": "code",
      "metadata": {
        "colab": {
          "base_uri": "https://localhost:8080/",
          "height": 241
        },
        "id": "YsbjhKAkWMSz",
        "outputId": "05d79ecd-8118-473c-caef-85d65ae9b083"
      },
      "source": [
        "test.head()"
      ],
      "execution_count": null,
      "outputs": [
        {
          "output_type": "execute_result",
          "data": {
            "text/html": [
              "<div>\n",
              "<style scoped>\n",
              "    .dataframe tbody tr th:only-of-type {\n",
              "        vertical-align: middle;\n",
              "    }\n",
              "\n",
              "    .dataframe tbody tr th {\n",
              "        vertical-align: top;\n",
              "    }\n",
              "\n",
              "    .dataframe thead th {\n",
              "        text-align: right;\n",
              "    }\n",
              "</style>\n",
              "<table border=\"1\" class=\"dataframe\">\n",
              "  <thead>\n",
              "    <tr style=\"text-align: right;\">\n",
              "      <th></th>\n",
              "      <th>ID</th>\n",
              "      <th>City_Code</th>\n",
              "      <th>Region_Code</th>\n",
              "      <th>Accomodation_Type</th>\n",
              "      <th>Reco_Insurance_Type</th>\n",
              "      <th>Upper_Age</th>\n",
              "      <th>Lower_Age</th>\n",
              "      <th>Is_Spouse</th>\n",
              "      <th>Health Indicator</th>\n",
              "      <th>Holding_Policy_Duration</th>\n",
              "      <th>Holding_Policy_Type</th>\n",
              "      <th>Reco_Policy_Cat</th>\n",
              "      <th>Reco_Policy_Premium</th>\n",
              "      <th>Response</th>\n",
              "      <th>People_Response_per_region</th>\n",
              "      <th>People_Response_per_city</th>\n",
              "    </tr>\n",
              "  </thead>\n",
              "  <tbody>\n",
              "    <tr>\n",
              "      <th>0</th>\n",
              "      <td>50883</td>\n",
              "      <td>C1</td>\n",
              "      <td>156</td>\n",
              "      <td>1</td>\n",
              "      <td>1</td>\n",
              "      <td>Teens</td>\n",
              "      <td>30</td>\n",
              "      <td>0</td>\n",
              "      <td>X1</td>\n",
              "      <td>6.0</td>\n",
              "      <td>3.0</td>\n",
              "      <td>5</td>\n",
              "      <td>Small</td>\n",
              "      <td>NaN</td>\n",
              "      <td>0.379310</td>\n",
              "      <td>0.246072</td>\n",
              "    </tr>\n",
              "    <tr>\n",
              "      <th>1</th>\n",
              "      <td>50884</td>\n",
              "      <td>C4</td>\n",
              "      <td>7</td>\n",
              "      <td>1</td>\n",
              "      <td>0</td>\n",
              "      <td>Senior</td>\n",
              "      <td>68</td>\n",
              "      <td>1</td>\n",
              "      <td>X1</td>\n",
              "      <td>3.0</td>\n",
              "      <td>3.0</td>\n",
              "      <td>18</td>\n",
              "      <td>Large</td>\n",
              "      <td>NaN</td>\n",
              "      <td>0.218750</td>\n",
              "      <td>0.242168</td>\n",
              "    </tr>\n",
              "    <tr>\n",
              "      <th>2</th>\n",
              "      <td>50885</td>\n",
              "      <td>C1</td>\n",
              "      <td>564</td>\n",
              "      <td>0</td>\n",
              "      <td>1</td>\n",
              "      <td>Teens</td>\n",
              "      <td>28</td>\n",
              "      <td>0</td>\n",
              "      <td>X3</td>\n",
              "      <td>2.0</td>\n",
              "      <td>4.0</td>\n",
              "      <td>17</td>\n",
              "      <td>Small</td>\n",
              "      <td>NaN</td>\n",
              "      <td>0.105263</td>\n",
              "      <td>0.246072</td>\n",
              "    </tr>\n",
              "    <tr>\n",
              "      <th>3</th>\n",
              "      <td>50886</td>\n",
              "      <td>C3</td>\n",
              "      <td>1177</td>\n",
              "      <td>0</td>\n",
              "      <td>1</td>\n",
              "      <td>Teens</td>\n",
              "      <td>23</td>\n",
              "      <td>0</td>\n",
              "      <td>X3</td>\n",
              "      <td>3.0</td>\n",
              "      <td>3.0</td>\n",
              "      <td>18</td>\n",
              "      <td>Small</td>\n",
              "      <td>NaN</td>\n",
              "      <td>0.235294</td>\n",
              "      <td>0.237472</td>\n",
              "    </tr>\n",
              "    <tr>\n",
              "      <th>4</th>\n",
              "      <td>50887</td>\n",
              "      <td>C1</td>\n",
              "      <td>951</td>\n",
              "      <td>1</td>\n",
              "      <td>1</td>\n",
              "      <td>Senior</td>\n",
              "      <td>75</td>\n",
              "      <td>0</td>\n",
              "      <td>X3</td>\n",
              "      <td>3.0</td>\n",
              "      <td>3.0</td>\n",
              "      <td>5</td>\n",
              "      <td>Medium</td>\n",
              "      <td>NaN</td>\n",
              "      <td>0.384615</td>\n",
              "      <td>0.246072</td>\n",
              "    </tr>\n",
              "  </tbody>\n",
              "</table>\n",
              "</div>"
            ],
            "text/plain": [
              "      ID City_Code  ...  People_Response_per_region  People_Response_per_city\n",
              "0  50883        C1  ...                    0.379310                  0.246072\n",
              "1  50884        C4  ...                    0.218750                  0.242168\n",
              "2  50885        C1  ...                    0.105263                  0.246072\n",
              "3  50886        C3  ...                    0.235294                  0.237472\n",
              "4  50887        C1  ...                    0.384615                  0.246072\n",
              "\n",
              "[5 rows x 16 columns]"
            ]
          },
          "metadata": {
            "tags": []
          },
          "execution_count": 67
        }
      ]
    },
    {
      "cell_type": "code",
      "metadata": {
        "id": "gyP0p5ODhYaS"
      },
      "source": [
        "cols = ['City_Code','Region_Code']\r\n",
        "train.drop(cols, axis=1, inplace=True)\r\n",
        "test.drop(cols, axis=1, inplace=True)"
      ],
      "execution_count": null,
      "outputs": []
    },
    {
      "cell_type": "code",
      "metadata": {
        "colab": {
          "base_uri": "https://localhost:8080/",
          "height": 241
        },
        "id": "iTnxEvLPjhu5",
        "outputId": "dc07a406-1129-4900-d39d-c1311a528915"
      },
      "source": [
        "test.head()"
      ],
      "execution_count": null,
      "outputs": [
        {
          "output_type": "execute_result",
          "data": {
            "text/html": [
              "<div>\n",
              "<style scoped>\n",
              "    .dataframe tbody tr th:only-of-type {\n",
              "        vertical-align: middle;\n",
              "    }\n",
              "\n",
              "    .dataframe tbody tr th {\n",
              "        vertical-align: top;\n",
              "    }\n",
              "\n",
              "    .dataframe thead th {\n",
              "        text-align: right;\n",
              "    }\n",
              "</style>\n",
              "<table border=\"1\" class=\"dataframe\">\n",
              "  <thead>\n",
              "    <tr style=\"text-align: right;\">\n",
              "      <th></th>\n",
              "      <th>ID</th>\n",
              "      <th>Accomodation_Type</th>\n",
              "      <th>Reco_Insurance_Type</th>\n",
              "      <th>Upper_Age</th>\n",
              "      <th>Lower_Age</th>\n",
              "      <th>Is_Spouse</th>\n",
              "      <th>Health Indicator</th>\n",
              "      <th>Holding_Policy_Duration</th>\n",
              "      <th>Holding_Policy_Type</th>\n",
              "      <th>Reco_Policy_Cat</th>\n",
              "      <th>Reco_Policy_Premium</th>\n",
              "      <th>Response</th>\n",
              "      <th>People_Response_per_region</th>\n",
              "      <th>People_Response_per_city</th>\n",
              "    </tr>\n",
              "  </thead>\n",
              "  <tbody>\n",
              "    <tr>\n",
              "      <th>0</th>\n",
              "      <td>50883</td>\n",
              "      <td>1</td>\n",
              "      <td>1</td>\n",
              "      <td>Teens</td>\n",
              "      <td>30</td>\n",
              "      <td>0</td>\n",
              "      <td>X1</td>\n",
              "      <td>6.0</td>\n",
              "      <td>3.0</td>\n",
              "      <td>5</td>\n",
              "      <td>Small</td>\n",
              "      <td>NaN</td>\n",
              "      <td>0.379310</td>\n",
              "      <td>0.246072</td>\n",
              "    </tr>\n",
              "    <tr>\n",
              "      <th>1</th>\n",
              "      <td>50884</td>\n",
              "      <td>1</td>\n",
              "      <td>0</td>\n",
              "      <td>Senior</td>\n",
              "      <td>68</td>\n",
              "      <td>1</td>\n",
              "      <td>X1</td>\n",
              "      <td>3.0</td>\n",
              "      <td>3.0</td>\n",
              "      <td>18</td>\n",
              "      <td>Large</td>\n",
              "      <td>NaN</td>\n",
              "      <td>0.218750</td>\n",
              "      <td>0.242168</td>\n",
              "    </tr>\n",
              "    <tr>\n",
              "      <th>2</th>\n",
              "      <td>50885</td>\n",
              "      <td>0</td>\n",
              "      <td>1</td>\n",
              "      <td>Teens</td>\n",
              "      <td>28</td>\n",
              "      <td>0</td>\n",
              "      <td>X3</td>\n",
              "      <td>2.0</td>\n",
              "      <td>4.0</td>\n",
              "      <td>17</td>\n",
              "      <td>Small</td>\n",
              "      <td>NaN</td>\n",
              "      <td>0.105263</td>\n",
              "      <td>0.246072</td>\n",
              "    </tr>\n",
              "    <tr>\n",
              "      <th>3</th>\n",
              "      <td>50886</td>\n",
              "      <td>0</td>\n",
              "      <td>1</td>\n",
              "      <td>Teens</td>\n",
              "      <td>23</td>\n",
              "      <td>0</td>\n",
              "      <td>X3</td>\n",
              "      <td>3.0</td>\n",
              "      <td>3.0</td>\n",
              "      <td>18</td>\n",
              "      <td>Small</td>\n",
              "      <td>NaN</td>\n",
              "      <td>0.235294</td>\n",
              "      <td>0.237472</td>\n",
              "    </tr>\n",
              "    <tr>\n",
              "      <th>4</th>\n",
              "      <td>50887</td>\n",
              "      <td>1</td>\n",
              "      <td>1</td>\n",
              "      <td>Senior</td>\n",
              "      <td>75</td>\n",
              "      <td>0</td>\n",
              "      <td>X3</td>\n",
              "      <td>3.0</td>\n",
              "      <td>3.0</td>\n",
              "      <td>5</td>\n",
              "      <td>Medium</td>\n",
              "      <td>NaN</td>\n",
              "      <td>0.384615</td>\n",
              "      <td>0.246072</td>\n",
              "    </tr>\n",
              "  </tbody>\n",
              "</table>\n",
              "</div>"
            ],
            "text/plain": [
              "      ID  ...  People_Response_per_city\n",
              "0  50883  ...                  0.246072\n",
              "1  50884  ...                  0.242168\n",
              "2  50885  ...                  0.246072\n",
              "3  50886  ...                  0.237472\n",
              "4  50887  ...                  0.246072\n",
              "\n",
              "[5 rows x 14 columns]"
            ]
          },
          "metadata": {
            "tags": []
          },
          "execution_count": 69
        }
      ]
    },
    {
      "cell_type": "code",
      "metadata": {
        "id": "N1DdOt5Fjt84"
      },
      "source": [
        "test.drop('Response', axis=1, inplace=True)"
      ],
      "execution_count": null,
      "outputs": []
    },
    {
      "cell_type": "code",
      "metadata": {
        "colab": {
          "base_uri": "https://localhost:8080/",
          "height": 241
        },
        "id": "Q1KypzmYjzEg",
        "outputId": "8c71afc6-fdbb-4d7a-9518-ad82a2190d35"
      },
      "source": [
        "train.head()"
      ],
      "execution_count": null,
      "outputs": [
        {
          "output_type": "execute_result",
          "data": {
            "text/html": [
              "<div>\n",
              "<style scoped>\n",
              "    .dataframe tbody tr th:only-of-type {\n",
              "        vertical-align: middle;\n",
              "    }\n",
              "\n",
              "    .dataframe tbody tr th {\n",
              "        vertical-align: top;\n",
              "    }\n",
              "\n",
              "    .dataframe thead th {\n",
              "        text-align: right;\n",
              "    }\n",
              "</style>\n",
              "<table border=\"1\" class=\"dataframe\">\n",
              "  <thead>\n",
              "    <tr style=\"text-align: right;\">\n",
              "      <th></th>\n",
              "      <th>ID</th>\n",
              "      <th>Accomodation_Type</th>\n",
              "      <th>Reco_Insurance_Type</th>\n",
              "      <th>Upper_Age</th>\n",
              "      <th>Lower_Age</th>\n",
              "      <th>Is_Spouse</th>\n",
              "      <th>Health Indicator</th>\n",
              "      <th>Holding_Policy_Duration</th>\n",
              "      <th>Holding_Policy_Type</th>\n",
              "      <th>Reco_Policy_Cat</th>\n",
              "      <th>Reco_Policy_Premium</th>\n",
              "      <th>Response</th>\n",
              "      <th>People_Response_per_region</th>\n",
              "      <th>People_Response_per_city</th>\n",
              "    </tr>\n",
              "  </thead>\n",
              "  <tbody>\n",
              "    <tr>\n",
              "      <th>0</th>\n",
              "      <td>1</td>\n",
              "      <td>0</td>\n",
              "      <td>1</td>\n",
              "      <td>Teens</td>\n",
              "      <td>36</td>\n",
              "      <td>0</td>\n",
              "      <td>X1</td>\n",
              "      <td>15.0</td>\n",
              "      <td>3.0</td>\n",
              "      <td>22</td>\n",
              "      <td>Small</td>\n",
              "      <td>0.0</td>\n",
              "      <td>0.125000</td>\n",
              "      <td>0.237472</td>\n",
              "    </tr>\n",
              "    <tr>\n",
              "      <th>1</th>\n",
              "      <td>2</td>\n",
              "      <td>1</td>\n",
              "      <td>0</td>\n",
              "      <td>Senior</td>\n",
              "      <td>22</td>\n",
              "      <td>0</td>\n",
              "      <td>X2</td>\n",
              "      <td>15.0</td>\n",
              "      <td>3.0</td>\n",
              "      <td>22</td>\n",
              "      <td>Large</td>\n",
              "      <td>0.0</td>\n",
              "      <td>0.294118</td>\n",
              "      <td>0.230205</td>\n",
              "    </tr>\n",
              "    <tr>\n",
              "      <th>2</th>\n",
              "      <td>3</td>\n",
              "      <td>1</td>\n",
              "      <td>1</td>\n",
              "      <td>Teens</td>\n",
              "      <td>32</td>\n",
              "      <td>0</td>\n",
              "      <td>X2</td>\n",
              "      <td>1.0</td>\n",
              "      <td>1.0</td>\n",
              "      <td>19</td>\n",
              "      <td>Small</td>\n",
              "      <td>1.0</td>\n",
              "      <td>0.142857</td>\n",
              "      <td>0.230205</td>\n",
              "    </tr>\n",
              "    <tr>\n",
              "      <th>3</th>\n",
              "      <td>4</td>\n",
              "      <td>1</td>\n",
              "      <td>0</td>\n",
              "      <td>Adult</td>\n",
              "      <td>48</td>\n",
              "      <td>0</td>\n",
              "      <td>X1</td>\n",
              "      <td>15.0</td>\n",
              "      <td>3.0</td>\n",
              "      <td>19</td>\n",
              "      <td>Medium</td>\n",
              "      <td>0.0</td>\n",
              "      <td>0.400000</td>\n",
              "      <td>0.235081</td>\n",
              "    </tr>\n",
              "    <tr>\n",
              "      <th>4</th>\n",
              "      <td>5</td>\n",
              "      <td>0</td>\n",
              "      <td>1</td>\n",
              "      <td>Adult</td>\n",
              "      <td>44</td>\n",
              "      <td>0</td>\n",
              "      <td>X2</td>\n",
              "      <td>3.0</td>\n",
              "      <td>1.0</td>\n",
              "      <td>16</td>\n",
              "      <td>Small</td>\n",
              "      <td>0.0</td>\n",
              "      <td>0.090909</td>\n",
              "      <td>0.241971</td>\n",
              "    </tr>\n",
              "  </tbody>\n",
              "</table>\n",
              "</div>"
            ],
            "text/plain": [
              "   ID  Accomodation_Type  ...  People_Response_per_region People_Response_per_city\n",
              "0   1                  0  ...                    0.125000                 0.237472\n",
              "1   2                  1  ...                    0.294118                 0.230205\n",
              "2   3                  1  ...                    0.142857                 0.230205\n",
              "3   4                  1  ...                    0.400000                 0.235081\n",
              "4   5                  0  ...                    0.090909                 0.241971\n",
              "\n",
              "[5 rows x 14 columns]"
            ]
          },
          "metadata": {
            "tags": []
          },
          "execution_count": 95
        }
      ]
    },
    {
      "cell_type": "markdown",
      "metadata": {
        "id": "Lcc94pq7Wyt9"
      },
      "source": [
        "### **Data Splitting**"
      ]
    },
    {
      "cell_type": "code",
      "metadata": {
        "id": "po7W6_6LWfgO"
      },
      "source": [
        "target_col = 'Response'\r\n",
        "features = ['Accomodation_Type', 'Reco_Insurance_Type', 'Upper_Age', 'Is_Spouse', 'Health Indicator','Holding_Policy_Duration','Holding_Policy_Type','Reco_Policy_Cat','Reco_Policy_Premium','People_Response_per_region','People_Response_per_city']"
      ],
      "execution_count": null,
      "outputs": []
    },
    {
      "cell_type": "code",
      "metadata": {
        "id": "cDzeg8r_XZeH"
      },
      "source": [
        "def data_encoding( encoding_strategy , encoding_data , encoding_columns ):\r\n",
        "    \r\n",
        "    if encoding_strategy == \"LabelEncoding\":\r\n",
        "        print(\"IF LabelEncoding\")\r\n",
        "        Encoder = LabelEncoder()\r\n",
        "        for column in encoding_columns :\r\n",
        "            print(\"column\",column )\r\n",
        "            encoding_data[ column ] = Encoder.fit_transform(tuple(encoding_data[ column ]))\r\n",
        "        \r\n",
        "    elif encoding_strategy == \"OneHotEncoding\":\r\n",
        "        print(\"ELIF OneHotEncoding\")\r\n",
        "        encoding_data = pd.get_dummies(encoding_data)\r\n",
        "        \r\n",
        "    dtypes_list =['float64','float64']\r\n",
        "    encoding_data.astype(dtypes_list[0]).dtypes\r\n",
        "    \r\n",
        "    return encoding_data"
      ],
      "execution_count": null,
      "outputs": []
    },
    {
      "cell_type": "code",
      "metadata": {
        "colab": {
          "base_uri": "https://localhost:8080/"
        },
        "id": "aP3wlpEFXoRF",
        "outputId": "0a8b66e7-8567-4d99-9bec-3a10b2e86ce9"
      },
      "source": [
        "le_cols = ['Health Indicator','Upper_Age','Reco_Policy_Premium']\r\n",
        "encoding_strategy = ['LabelEncoding','OneHotEncoding']\r\n",
        "train_new = data_encoding(encoding_strategy[0], train, le_cols)\r\n",
        "test_new = data_encoding(encoding_strategy[0], test, le_cols)"
      ],
      "execution_count": null,
      "outputs": [
        {
          "output_type": "stream",
          "text": [
            "IF LabelEncoding\n",
            "column Health Indicator\n",
            "column Upper_Age\n",
            "column Reco_Policy_Premium\n",
            "IF LabelEncoding\n",
            "column Health Indicator\n",
            "column Upper_Age\n",
            "column Reco_Policy_Premium\n"
          ],
          "name": "stdout"
        }
      ]
    },
    {
      "cell_type": "code",
      "metadata": {
        "colab": {
          "base_uri": "https://localhost:8080/",
          "height": 241
        },
        "id": "I0DjRbEaXpvu",
        "outputId": "86d86a74-6f8f-475e-a7a4-df3cb8ee988c"
      },
      "source": [
        "train_new.head()"
      ],
      "execution_count": null,
      "outputs": [
        {
          "output_type": "execute_result",
          "data": {
            "text/html": [
              "<div>\n",
              "<style scoped>\n",
              "    .dataframe tbody tr th:only-of-type {\n",
              "        vertical-align: middle;\n",
              "    }\n",
              "\n",
              "    .dataframe tbody tr th {\n",
              "        vertical-align: top;\n",
              "    }\n",
              "\n",
              "    .dataframe thead th {\n",
              "        text-align: right;\n",
              "    }\n",
              "</style>\n",
              "<table border=\"1\" class=\"dataframe\">\n",
              "  <thead>\n",
              "    <tr style=\"text-align: right;\">\n",
              "      <th></th>\n",
              "      <th>ID</th>\n",
              "      <th>Accomodation_Type</th>\n",
              "      <th>Reco_Insurance_Type</th>\n",
              "      <th>Upper_Age</th>\n",
              "      <th>Lower_Age</th>\n",
              "      <th>Is_Spouse</th>\n",
              "      <th>Health Indicator</th>\n",
              "      <th>Holding_Policy_Duration</th>\n",
              "      <th>Holding_Policy_Type</th>\n",
              "      <th>Reco_Policy_Cat</th>\n",
              "      <th>Reco_Policy_Premium</th>\n",
              "      <th>Response</th>\n",
              "      <th>People_Response_per_region</th>\n",
              "      <th>People_Response_per_city</th>\n",
              "    </tr>\n",
              "  </thead>\n",
              "  <tbody>\n",
              "    <tr>\n",
              "      <th>0</th>\n",
              "      <td>1</td>\n",
              "      <td>0</td>\n",
              "      <td>1</td>\n",
              "      <td>2</td>\n",
              "      <td>36</td>\n",
              "      <td>0</td>\n",
              "      <td>0</td>\n",
              "      <td>15.0</td>\n",
              "      <td>3.0</td>\n",
              "      <td>22</td>\n",
              "      <td>2</td>\n",
              "      <td>0.0</td>\n",
              "      <td>0.125000</td>\n",
              "      <td>0.237472</td>\n",
              "    </tr>\n",
              "    <tr>\n",
              "      <th>1</th>\n",
              "      <td>2</td>\n",
              "      <td>1</td>\n",
              "      <td>0</td>\n",
              "      <td>1</td>\n",
              "      <td>22</td>\n",
              "      <td>0</td>\n",
              "      <td>1</td>\n",
              "      <td>15.0</td>\n",
              "      <td>3.0</td>\n",
              "      <td>22</td>\n",
              "      <td>0</td>\n",
              "      <td>0.0</td>\n",
              "      <td>0.294118</td>\n",
              "      <td>0.230205</td>\n",
              "    </tr>\n",
              "    <tr>\n",
              "      <th>2</th>\n",
              "      <td>3</td>\n",
              "      <td>1</td>\n",
              "      <td>1</td>\n",
              "      <td>2</td>\n",
              "      <td>32</td>\n",
              "      <td>0</td>\n",
              "      <td>1</td>\n",
              "      <td>1.0</td>\n",
              "      <td>1.0</td>\n",
              "      <td>19</td>\n",
              "      <td>2</td>\n",
              "      <td>1.0</td>\n",
              "      <td>0.142857</td>\n",
              "      <td>0.230205</td>\n",
              "    </tr>\n",
              "    <tr>\n",
              "      <th>3</th>\n",
              "      <td>4</td>\n",
              "      <td>1</td>\n",
              "      <td>0</td>\n",
              "      <td>0</td>\n",
              "      <td>48</td>\n",
              "      <td>0</td>\n",
              "      <td>0</td>\n",
              "      <td>15.0</td>\n",
              "      <td>3.0</td>\n",
              "      <td>19</td>\n",
              "      <td>1</td>\n",
              "      <td>0.0</td>\n",
              "      <td>0.400000</td>\n",
              "      <td>0.235081</td>\n",
              "    </tr>\n",
              "    <tr>\n",
              "      <th>4</th>\n",
              "      <td>5</td>\n",
              "      <td>0</td>\n",
              "      <td>1</td>\n",
              "      <td>0</td>\n",
              "      <td>44</td>\n",
              "      <td>0</td>\n",
              "      <td>1</td>\n",
              "      <td>3.0</td>\n",
              "      <td>1.0</td>\n",
              "      <td>16</td>\n",
              "      <td>2</td>\n",
              "      <td>0.0</td>\n",
              "      <td>0.090909</td>\n",
              "      <td>0.241971</td>\n",
              "    </tr>\n",
              "  </tbody>\n",
              "</table>\n",
              "</div>"
            ],
            "text/plain": [
              "   ID  Accomodation_Type  ...  People_Response_per_region  People_Response_per_city\n",
              "0   1                  0  ...                    0.125000                  0.237472\n",
              "1   2                  1  ...                    0.294118                  0.230205\n",
              "2   3                  1  ...                    0.142857                  0.230205\n",
              "3   4                  1  ...                    0.400000                  0.235081\n",
              "4   5                  0  ...                    0.090909                  0.241971\n",
              "\n",
              "[5 rows x 14 columns]"
            ]
          },
          "metadata": {
            "tags": []
          },
          "execution_count": 99
        }
      ]
    },
    {
      "cell_type": "markdown",
      "metadata": {
        "id": "aykP9P2MYtfD"
      },
      "source": [
        "### 5. **Feature Scaling**"
      ]
    },
    {
      "cell_type": "code",
      "metadata": {
        "id": "2I9Kj1eGYfqn"
      },
      "source": [
        "def data_scaling( scaling_strategy , scaling_data , scaling_columns ):\r\n",
        "  if  scaling_strategy ==\"StandardScaler\" :\r\n",
        "      scaling_data[scaling_columns] = StandardScaler().fit_transform(scaling_data[scaling_columns])\r\n",
        "        \r\n",
        "  elif  scaling_strategy ==\"MinMaxScaler\" :\r\n",
        "        scaling_data[scaling_columns] = MinMaxScaler().fit_transform(scaling_data[scaling_columns])\r\n",
        "        \r\n",
        "  else :  # If any other scaling send by mistake still perform Robust Scalar\r\n",
        "        scaling_data[scaling_columns] = MinMaxScaler().fit_transform(scaling_data[scaling_columns])\r\n",
        "    \r\n",
        "  return scaling_data"
      ],
      "execution_count": null,
      "outputs": []
    },
    {
      "cell_type": "code",
      "metadata": {
        "id": "4HKtRw9zZKI4"
      },
      "source": [
        "scaling_strategy = [\"StandardScaler\",\"MinMaxScaler\"]\r\n",
        "train_scale = data_scaling( scaling_strategy[1] , train_new , train_new[features].columns )\r\n",
        "test_scale = data_scaling( scaling_strategy [1] , test_new , test_new[features].columns )"
      ],
      "execution_count": null,
      "outputs": []
    },
    {
      "cell_type": "code",
      "metadata": {
        "colab": {
          "base_uri": "https://localhost:8080/",
          "height": 549
        },
        "id": "KBetSkG3Z5ZS",
        "outputId": "459a6dbf-d1ba-4317-b078-50f756e8628d"
      },
      "source": [
        "print(\"train_encode SHAPE   : \",train_scale.shape)\r\n",
        "display(\"train_encode COLUMNS : \",train_scale.head())\r\n",
        "print(\"**********************************************************************\")\r\n",
        "print(\"**********************************************************************\")\r\n",
        "print(\"test_encode SHAPE   : \",test_scale.shape)\r\n",
        "display(\"test_encode COLUMNS : \",test_scale.head())"
      ],
      "execution_count": null,
      "outputs": [
        {
          "output_type": "stream",
          "text": [
            "train_encode SHAPE   :  (50882, 15)\n"
          ],
          "name": "stdout"
        },
        {
          "output_type": "display_data",
          "data": {
            "application/vnd.google.colaboratory.intrinsic+json": {
              "type": "string"
            },
            "text/plain": [
              "'train_encode COLUMNS : '"
            ]
          },
          "metadata": {
            "tags": []
          }
        },
        {
          "output_type": "display_data",
          "data": {
            "text/html": [
              "<div>\n",
              "<style scoped>\n",
              "    .dataframe tbody tr th:only-of-type {\n",
              "        vertical-align: middle;\n",
              "    }\n",
              "\n",
              "    .dataframe tbody tr th {\n",
              "        vertical-align: top;\n",
              "    }\n",
              "\n",
              "    .dataframe thead th {\n",
              "        text-align: right;\n",
              "    }\n",
              "</style>\n",
              "<table border=\"1\" class=\"dataframe\">\n",
              "  <thead>\n",
              "    <tr style=\"text-align: right;\">\n",
              "      <th></th>\n",
              "      <th>ID</th>\n",
              "      <th>City_Code</th>\n",
              "      <th>Region_Code</th>\n",
              "      <th>Accomodation_Type</th>\n",
              "      <th>Reco_Insurance_Type</th>\n",
              "      <th>Upper_Age</th>\n",
              "      <th>Lower_Age</th>\n",
              "      <th>Is_Spouse</th>\n",
              "      <th>Health Indicator</th>\n",
              "      <th>Holding_Policy_Duration</th>\n",
              "      <th>Holding_Policy_Type</th>\n",
              "      <th>Reco_Policy_Cat</th>\n",
              "      <th>Reco_Policy_Premium</th>\n",
              "      <th>Response</th>\n",
              "      <th>Response_Per_Age</th>\n",
              "    </tr>\n",
              "  </thead>\n",
              "  <tbody>\n",
              "    <tr>\n",
              "      <th>0</th>\n",
              "      <td>1</td>\n",
              "      <td>0.628571</td>\n",
              "      <td>0.518650</td>\n",
              "      <td>0.0</td>\n",
              "      <td>1.0</td>\n",
              "      <td>0.315789</td>\n",
              "      <td>0.338983</td>\n",
              "      <td>0.0</td>\n",
              "      <td>0.000</td>\n",
              "      <td>1.000000</td>\n",
              "      <td>0.666667</td>\n",
              "      <td>1.000000</td>\n",
              "      <td>0.553196</td>\n",
              "      <td>0.0</td>\n",
              "      <td>0.000000</td>\n",
              "    </tr>\n",
              "    <tr>\n",
              "      <th>1</th>\n",
              "      <td>2</td>\n",
              "      <td>0.885714</td>\n",
              "      <td>0.180203</td>\n",
              "      <td>1.0</td>\n",
              "      <td>0.0</td>\n",
              "      <td>1.000000</td>\n",
              "      <td>0.101695</td>\n",
              "      <td>0.0</td>\n",
              "      <td>0.125</td>\n",
              "      <td>1.000000</td>\n",
              "      <td>0.666667</td>\n",
              "      <td>1.000000</td>\n",
              "      <td>0.880732</td>\n",
              "      <td>0.0</td>\n",
              "      <td>0.000000</td>\n",
              "    </tr>\n",
              "    <tr>\n",
              "      <th>2</th>\n",
              "      <td>3</td>\n",
              "      <td>0.885714</td>\n",
              "      <td>0.602454</td>\n",
              "      <td>1.0</td>\n",
              "      <td>1.0</td>\n",
              "      <td>0.245614</td>\n",
              "      <td>0.271186</td>\n",
              "      <td>0.0</td>\n",
              "      <td>0.125</td>\n",
              "      <td>0.000000</td>\n",
              "      <td>0.000000</td>\n",
              "      <td>0.857143</td>\n",
              "      <td>0.402031</td>\n",
              "      <td>1.0</td>\n",
              "      <td>0.166667</td>\n",
              "    </tr>\n",
              "    <tr>\n",
              "      <th>3</th>\n",
              "      <td>4</td>\n",
              "      <td>0.457143</td>\n",
              "      <td>0.706766</td>\n",
              "      <td>1.0</td>\n",
              "      <td>0.0</td>\n",
              "      <td>0.596491</td>\n",
              "      <td>0.542373</td>\n",
              "      <td>0.0</td>\n",
              "      <td>0.000</td>\n",
              "      <td>1.000000</td>\n",
              "      <td>0.666667</td>\n",
              "      <td>0.857143</td>\n",
              "      <td>0.697386</td>\n",
              "      <td>0.0</td>\n",
              "      <td>0.000000</td>\n",
              "    </tr>\n",
              "    <tr>\n",
              "      <th>4</th>\n",
              "      <td>5</td>\n",
              "      <td>0.971429</td>\n",
              "      <td>0.353464</td>\n",
              "      <td>0.0</td>\n",
              "      <td>1.0</td>\n",
              "      <td>0.456140</td>\n",
              "      <td>0.474576</td>\n",
              "      <td>0.0</td>\n",
              "      <td>0.125</td>\n",
              "      <td>0.142857</td>\n",
              "      <td>0.000000</td>\n",
              "      <td>0.714286</td>\n",
              "      <td>0.515430</td>\n",
              "      <td>0.0</td>\n",
              "      <td>0.000000</td>\n",
              "    </tr>\n",
              "  </tbody>\n",
              "</table>\n",
              "</div>"
            ],
            "text/plain": [
              "   ID  City_Code  Region_Code  ...  Reco_Policy_Premium  Response  Response_Per_Age\n",
              "0   1   0.628571     0.518650  ...             0.553196       0.0          0.000000\n",
              "1   2   0.885714     0.180203  ...             0.880732       0.0          0.000000\n",
              "2   3   0.885714     0.602454  ...             0.402031       1.0          0.166667\n",
              "3   4   0.457143     0.706766  ...             0.697386       0.0          0.000000\n",
              "4   5   0.971429     0.353464  ...             0.515430       0.0          0.000000\n",
              "\n",
              "[5 rows x 15 columns]"
            ]
          },
          "metadata": {
            "tags": []
          }
        },
        {
          "output_type": "stream",
          "text": [
            "**********************************************************************\n",
            "**********************************************************************\n",
            "test_encode SHAPE   :  (21805, 14)\n"
          ],
          "name": "stdout"
        },
        {
          "output_type": "display_data",
          "data": {
            "application/vnd.google.colaboratory.intrinsic+json": {
              "type": "string"
            },
            "text/plain": [
              "'test_encode COLUMNS : '"
            ]
          },
          "metadata": {
            "tags": []
          }
        },
        {
          "output_type": "display_data",
          "data": {
            "text/html": [
              "<div>\n",
              "<style scoped>\n",
              "    .dataframe tbody tr th:only-of-type {\n",
              "        vertical-align: middle;\n",
              "    }\n",
              "\n",
              "    .dataframe tbody tr th {\n",
              "        vertical-align: top;\n",
              "    }\n",
              "\n",
              "    .dataframe thead th {\n",
              "        text-align: right;\n",
              "    }\n",
              "</style>\n",
              "<table border=\"1\" class=\"dataframe\">\n",
              "  <thead>\n",
              "    <tr style=\"text-align: right;\">\n",
              "      <th></th>\n",
              "      <th>ID</th>\n",
              "      <th>City_Code</th>\n",
              "      <th>Region_Code</th>\n",
              "      <th>Accomodation_Type</th>\n",
              "      <th>Reco_Insurance_Type</th>\n",
              "      <th>Upper_Age</th>\n",
              "      <th>Lower_Age</th>\n",
              "      <th>Is_Spouse</th>\n",
              "      <th>Health Indicator</th>\n",
              "      <th>Holding_Policy_Duration</th>\n",
              "      <th>Holding_Policy_Type</th>\n",
              "      <th>Reco_Policy_Cat</th>\n",
              "      <th>Reco_Policy_Premium</th>\n",
              "      <th>Response_Per_Age</th>\n",
              "    </tr>\n",
              "  </thead>\n",
              "  <tbody>\n",
              "    <tr>\n",
              "      <th>0</th>\n",
              "      <td>50883</td>\n",
              "      <td>0.000000</td>\n",
              "      <td>0.025065</td>\n",
              "      <td>1.0</td>\n",
              "      <td>1.0</td>\n",
              "      <td>0.210526</td>\n",
              "      <td>0.237288</td>\n",
              "      <td>0.0</td>\n",
              "      <td>0.00</td>\n",
              "      <td>0.357143</td>\n",
              "      <td>0.666667</td>\n",
              "      <td>0.190476</td>\n",
              "      <td>0.568593</td>\n",
              "      <td>0.0</td>\n",
              "    </tr>\n",
              "    <tr>\n",
              "      <th>1</th>\n",
              "      <td>50884</td>\n",
              "      <td>0.857143</td>\n",
              "      <td>0.000970</td>\n",
              "      <td>1.0</td>\n",
              "      <td>0.0</td>\n",
              "      <td>0.894737</td>\n",
              "      <td>0.881356</td>\n",
              "      <td>1.0</td>\n",
              "      <td>0.00</td>\n",
              "      <td>0.142857</td>\n",
              "      <td>0.666667</td>\n",
              "      <td>0.809524</td>\n",
              "      <td>0.898108</td>\n",
              "      <td>0.0</td>\n",
              "    </tr>\n",
              "    <tr>\n",
              "      <th>2</th>\n",
              "      <td>50885</td>\n",
              "      <td>0.000000</td>\n",
              "      <td>0.091041</td>\n",
              "      <td>0.0</td>\n",
              "      <td>1.0</td>\n",
              "      <td>0.175439</td>\n",
              "      <td>0.203390</td>\n",
              "      <td>0.0</td>\n",
              "      <td>0.25</td>\n",
              "      <td>0.071429</td>\n",
              "      <td>1.000000</td>\n",
              "      <td>0.761905</td>\n",
              "      <td>0.483669</td>\n",
              "      <td>0.0</td>\n",
              "    </tr>\n",
              "    <tr>\n",
              "      <th>3</th>\n",
              "      <td>50886</td>\n",
              "      <td>0.628571</td>\n",
              "      <td>0.190168</td>\n",
              "      <td>0.0</td>\n",
              "      <td>1.0</td>\n",
              "      <td>0.087719</td>\n",
              "      <td>0.118644</td>\n",
              "      <td>0.0</td>\n",
              "      <td>0.25</td>\n",
              "      <td>0.142857</td>\n",
              "      <td>0.666667</td>\n",
              "      <td>0.809524</td>\n",
              "      <td>0.478090</td>\n",
              "      <td>0.0</td>\n",
              "    </tr>\n",
              "    <tr>\n",
              "      <th>4</th>\n",
              "      <td>50887</td>\n",
              "      <td>0.000000</td>\n",
              "      <td>0.153622</td>\n",
              "      <td>1.0</td>\n",
              "      <td>1.0</td>\n",
              "      <td>1.000000</td>\n",
              "      <td>1.000000</td>\n",
              "      <td>0.0</td>\n",
              "      <td>0.25</td>\n",
              "      <td>0.142857</td>\n",
              "      <td>0.666667</td>\n",
              "      <td>0.190476</td>\n",
              "      <td>0.779579</td>\n",
              "      <td>0.0</td>\n",
              "    </tr>\n",
              "  </tbody>\n",
              "</table>\n",
              "</div>"
            ],
            "text/plain": [
              "      ID  City_Code  ...  Reco_Policy_Premium  Response_Per_Age\n",
              "0  50883   0.000000  ...             0.568593               0.0\n",
              "1  50884   0.857143  ...             0.898108               0.0\n",
              "2  50885   0.000000  ...             0.483669               0.0\n",
              "3  50886   0.628571  ...             0.478090               0.0\n",
              "4  50887   0.000000  ...             0.779579               0.0\n",
              "\n",
              "[5 rows x 14 columns]"
            ]
          },
          "metadata": {
            "tags": []
          }
        }
      ]
    },
    {
      "cell_type": "code",
      "metadata": {
        "id": "BWSKTlxmgCnS"
      },
      "source": [
        "train_scale.drop(['Lower_Age'], axis=1, inplace=True)\r\n",
        "test_scale.drop(['Lower_Age'], axis=1, inplace=True)"
      ],
      "execution_count": null,
      "outputs": []
    },
    {
      "cell_type": "code",
      "metadata": {
        "colab": {
          "base_uri": "https://localhost:8080/",
          "height": 241
        },
        "id": "3OAa5KySiAiy",
        "outputId": "8dbcf63a-cc8f-4657-8425-17fc59a98735"
      },
      "source": [
        "test_new.head()"
      ],
      "execution_count": null,
      "outputs": [
        {
          "output_type": "execute_result",
          "data": {
            "text/html": [
              "<div>\n",
              "<style scoped>\n",
              "    .dataframe tbody tr th:only-of-type {\n",
              "        vertical-align: middle;\n",
              "    }\n",
              "\n",
              "    .dataframe tbody tr th {\n",
              "        vertical-align: top;\n",
              "    }\n",
              "\n",
              "    .dataframe thead th {\n",
              "        text-align: right;\n",
              "    }\n",
              "</style>\n",
              "<table border=\"1\" class=\"dataframe\">\n",
              "  <thead>\n",
              "    <tr style=\"text-align: right;\">\n",
              "      <th></th>\n",
              "      <th>Accomodation_Type</th>\n",
              "      <th>Reco_Insurance_Type</th>\n",
              "      <th>Upper_Age</th>\n",
              "      <th>Lower_Age</th>\n",
              "      <th>Is_Spouse</th>\n",
              "      <th>Health Indicator</th>\n",
              "      <th>Holding_Policy_Duration</th>\n",
              "      <th>Holding_Policy_Type</th>\n",
              "      <th>Reco_Policy_Cat</th>\n",
              "      <th>Reco_Policy_Premium</th>\n",
              "      <th>People_Response_per_region</th>\n",
              "      <th>People_Response_per_city</th>\n",
              "    </tr>\n",
              "  </thead>\n",
              "  <tbody>\n",
              "    <tr>\n",
              "      <th>0</th>\n",
              "      <td>1</td>\n",
              "      <td>1</td>\n",
              "      <td>2</td>\n",
              "      <td>30</td>\n",
              "      <td>0</td>\n",
              "      <td>0</td>\n",
              "      <td>6.0</td>\n",
              "      <td>3.0</td>\n",
              "      <td>5</td>\n",
              "      <td>2</td>\n",
              "      <td>0.379310</td>\n",
              "      <td>0.246072</td>\n",
              "    </tr>\n",
              "    <tr>\n",
              "      <th>1</th>\n",
              "      <td>1</td>\n",
              "      <td>0</td>\n",
              "      <td>1</td>\n",
              "      <td>68</td>\n",
              "      <td>1</td>\n",
              "      <td>0</td>\n",
              "      <td>3.0</td>\n",
              "      <td>3.0</td>\n",
              "      <td>18</td>\n",
              "      <td>0</td>\n",
              "      <td>0.218750</td>\n",
              "      <td>0.242168</td>\n",
              "    </tr>\n",
              "    <tr>\n",
              "      <th>2</th>\n",
              "      <td>0</td>\n",
              "      <td>1</td>\n",
              "      <td>2</td>\n",
              "      <td>28</td>\n",
              "      <td>0</td>\n",
              "      <td>2</td>\n",
              "      <td>2.0</td>\n",
              "      <td>4.0</td>\n",
              "      <td>17</td>\n",
              "      <td>2</td>\n",
              "      <td>0.105263</td>\n",
              "      <td>0.246072</td>\n",
              "    </tr>\n",
              "    <tr>\n",
              "      <th>3</th>\n",
              "      <td>0</td>\n",
              "      <td>1</td>\n",
              "      <td>2</td>\n",
              "      <td>23</td>\n",
              "      <td>0</td>\n",
              "      <td>2</td>\n",
              "      <td>3.0</td>\n",
              "      <td>3.0</td>\n",
              "      <td>18</td>\n",
              "      <td>2</td>\n",
              "      <td>0.235294</td>\n",
              "      <td>0.237472</td>\n",
              "    </tr>\n",
              "    <tr>\n",
              "      <th>4</th>\n",
              "      <td>1</td>\n",
              "      <td>1</td>\n",
              "      <td>1</td>\n",
              "      <td>75</td>\n",
              "      <td>0</td>\n",
              "      <td>2</td>\n",
              "      <td>3.0</td>\n",
              "      <td>3.0</td>\n",
              "      <td>5</td>\n",
              "      <td>1</td>\n",
              "      <td>0.384615</td>\n",
              "      <td>0.246072</td>\n",
              "    </tr>\n",
              "  </tbody>\n",
              "</table>\n",
              "</div>"
            ],
            "text/plain": [
              "   Accomodation_Type  ...  People_Response_per_city\n",
              "0                  1  ...                  0.246072\n",
              "1                  1  ...                  0.242168\n",
              "2                  0  ...                  0.246072\n",
              "3                  0  ...                  0.237472\n",
              "4                  1  ...                  0.246072\n",
              "\n",
              "[5 rows x 12 columns]"
            ]
          },
          "metadata": {
            "tags": []
          },
          "execution_count": 81
        }
      ]
    },
    {
      "cell_type": "code",
      "metadata": {
        "id": "X3GQ_L0Ggfka"
      },
      "source": [
        "features = ['Accomodation_Type', 'Reco_Insurance_Type', 'Upper_Age', 'Is_Spouse', 'Health Indicator','Holding_Policy_Duration','Holding_Policy_Type','Reco_Policy_Cat','Reco_Policy_Premium','People_Response_per_region','People_Response_per_city']\r\n",
        "target_col = 'Response'\r\n",
        "x_train, x_val, y_train, y_val = train_test_split(train_new[features], train_new[target_col], test_size=0.2, random_state=50)\r\n",
        "x_test = test_new[features]"
      ],
      "execution_count": null,
      "outputs": []
    },
    {
      "cell_type": "markdown",
      "metadata": {
        "id": "kXKne1AXw9Ot"
      },
      "source": [
        "### **Model Building**"
      ]
    },
    {
      "cell_type": "code",
      "metadata": {
        "colab": {
          "base_uri": "https://localhost:8080/"
        },
        "id": "Y4sLqplLg4Sx",
        "outputId": "2756c246-3224-447f-a94d-2d55e53e2c6e"
      },
      "source": [
        "dt = DecisionTreeClassifier()\r\n",
        "dt.fit(x_train, y_train)\r\n",
        "dt_pred_train = dt.predict(x_train)\r\n",
        "dt_pred_val = dt.predict(x_val)\r\n",
        "train_score = roc_auc_score(dt_pred_train, y_train)\r\n",
        "val_score = roc_auc_score(dt_pred_val, y_val)\r\n",
        "print(train_score)\r\n",
        "print(\"**********************************************\")\r\n",
        "print(val_score)"
      ],
      "execution_count": null,
      "outputs": [
        {
          "output_type": "stream",
          "text": [
            "0.9991138465504462\n",
            "**********************************************\n",
            "0.5753138185279876\n"
          ],
          "name": "stdout"
        }
      ]
    },
    {
      "cell_type": "code",
      "metadata": {
        "colab": {
          "base_uri": "https://localhost:8080/"
        },
        "id": "J7w5W_nqeOYA",
        "outputId": "32502ff7-9c19-44a0-a99c-10a84a4790c3"
      },
      "source": [
        "rf = RandomForestClassifier()\r\n",
        "rf.fit(x_train, y_train)\r\n",
        "rf_pred_train = rf.predict(x_train)\r\n",
        "rf_pred_val = rf.predict(x_val)\r\n",
        "train_score = roc_auc_score(rf_pred_train, y_train)\r\n",
        "val_score = roc_auc_score(rf_pred_val, y_val)\r\n",
        "print(train_score)\r\n",
        "print(\"**********************************************\")\r\n",
        "print(val_score)"
      ],
      "execution_count": null,
      "outputs": [
        {
          "output_type": "stream",
          "text": [
            "0.9987070546095322\n",
            "**********************************************\n",
            "0.6502013736109473\n"
          ],
          "name": "stdout"
        }
      ]
    },
    {
      "cell_type": "code",
      "metadata": {
        "id": "0xaNulhgoNat"
      },
      "source": [
        "x_test['People_Response_per_region'].fillna(method='ffill', inplace=True)"
      ],
      "execution_count": null,
      "outputs": []
    },
    {
      "cell_type": "code",
      "metadata": {
        "colab": {
          "base_uri": "https://localhost:8080/",
          "height": 17
        },
        "id": "0-ctiYVhhund",
        "outputId": "bcf7a33b-7ffa-4e86-9be0-4fe10c490f03"
      },
      "source": [
        "rf_predictions = rf.predict(x_test)\r\n",
        "ss['Response'] = rf_predictions\r\n",
        "submission = pd.DataFrame({'ID':ss['ID'], 'Response':rf_predictions})\r\n",
        "submission.to_csv('rf_submission.csv', index=False)\r\n",
        "files.download('rf_submission.csv')"
      ],
      "execution_count": null,
      "outputs": [
        {
          "output_type": "display_data",
          "data": {
            "application/javascript": [
              "\n",
              "    async function download(id, filename, size) {\n",
              "      if (!google.colab.kernel.accessAllowed) {\n",
              "        return;\n",
              "      }\n",
              "      const div = document.createElement('div');\n",
              "      const label = document.createElement('label');\n",
              "      label.textContent = `Downloading \"${filename}\": `;\n",
              "      div.appendChild(label);\n",
              "      const progress = document.createElement('progress');\n",
              "      progress.max = size;\n",
              "      div.appendChild(progress);\n",
              "      document.body.appendChild(div);\n",
              "\n",
              "      const buffers = [];\n",
              "      let downloaded = 0;\n",
              "\n",
              "      const channel = await google.colab.kernel.comms.open(id);\n",
              "      // Send a message to notify the kernel that we're ready.\n",
              "      channel.send({})\n",
              "\n",
              "      for await (const message of channel.messages) {\n",
              "        // Send a message to notify the kernel that we're ready.\n",
              "        channel.send({})\n",
              "        if (message.buffers) {\n",
              "          for (const buffer of message.buffers) {\n",
              "            buffers.push(buffer);\n",
              "            downloaded += buffer.byteLength;\n",
              "            progress.value = downloaded;\n",
              "          }\n",
              "        }\n",
              "      }\n",
              "      const blob = new Blob(buffers, {type: 'application/binary'});\n",
              "      const a = document.createElement('a');\n",
              "      a.href = window.URL.createObjectURL(blob);\n",
              "      a.download = filename;\n",
              "      div.appendChild(a);\n",
              "      a.click();\n",
              "      div.remove();\n",
              "    }\n",
              "  "
            ],
            "text/plain": [
              "<IPython.core.display.Javascript object>"
            ]
          },
          "metadata": {
            "tags": []
          }
        },
        {
          "output_type": "display_data",
          "data": {
            "application/javascript": [
              "download(\"download_af909199-9d81-4284-bcd4-27d53ff88b3a\", \"rf_submission.csv\", 218062)"
            ],
            "text/plain": [
              "<IPython.core.display.Javascript object>"
            ]
          },
          "metadata": {
            "tags": []
          }
        }
      ]
    },
    {
      "cell_type": "code",
      "metadata": {
        "colab": {
          "base_uri": "https://localhost:8080/"
        },
        "id": "iSeiIpRZpC8A",
        "outputId": "f19e4d3a-7d4e-4e45-8bd7-cebe1c94b97d"
      },
      "source": [
        "cb = CatBoostClassifier(iterations=100)\r\n",
        "cb.fit(x_train, y_train)\r\n",
        "cb_pred_train = cb.predict(x_train)\r\n",
        "cb_pred_val = cb.predict(x_val)\r\n",
        "train_score = roc_auc_score(cb_pred_train, y_train)\r\n",
        "val_score = roc_auc_score(cb_pred_val, y_val)\r\n",
        "print(train_score)\r\n",
        "print(\"**********************************************\")\r\n",
        "print(val_score)"
      ],
      "execution_count": null,
      "outputs": [
        {
          "output_type": "stream",
          "text": [
            "Learning rate set to 0.414242\n",
            "0:\tlearn: 0.5797518\ttotal: 9.23ms\tremaining: 914ms\n",
            "1:\tlearn: 0.5377242\ttotal: 17.9ms\tremaining: 878ms\n",
            "2:\tlearn: 0.5151445\ttotal: 24.9ms\tremaining: 806ms\n",
            "3:\tlearn: 0.5008600\ttotal: 33.1ms\tremaining: 794ms\n",
            "4:\tlearn: 0.4928239\ttotal: 41.2ms\tremaining: 783ms\n",
            "5:\tlearn: 0.4884196\ttotal: 49.8ms\tremaining: 780ms\n",
            "6:\tlearn: 0.4838721\ttotal: 58.3ms\tremaining: 774ms\n",
            "7:\tlearn: 0.4808198\ttotal: 66.3ms\tremaining: 763ms\n",
            "8:\tlearn: 0.4787554\ttotal: 74.7ms\tremaining: 755ms\n",
            "9:\tlearn: 0.4772762\ttotal: 82.8ms\tremaining: 745ms\n",
            "10:\tlearn: 0.4755108\ttotal: 91.4ms\tremaining: 739ms\n",
            "11:\tlearn: 0.4749098\ttotal: 100ms\tremaining: 736ms\n",
            "12:\tlearn: 0.4741058\ttotal: 109ms\tremaining: 728ms\n",
            "13:\tlearn: 0.4735285\ttotal: 117ms\tremaining: 721ms\n",
            "14:\tlearn: 0.4721745\ttotal: 126ms\tremaining: 712ms\n",
            "15:\tlearn: 0.4716390\ttotal: 134ms\tremaining: 704ms\n",
            "16:\tlearn: 0.4710439\ttotal: 142ms\tremaining: 695ms\n",
            "17:\tlearn: 0.4704858\ttotal: 151ms\tremaining: 687ms\n",
            "18:\tlearn: 0.4699358\ttotal: 159ms\tremaining: 678ms\n",
            "19:\tlearn: 0.4687634\ttotal: 168ms\tremaining: 671ms\n",
            "20:\tlearn: 0.4684125\ttotal: 176ms\tremaining: 664ms\n",
            "21:\tlearn: 0.4673432\ttotal: 185ms\tremaining: 655ms\n",
            "22:\tlearn: 0.4666056\ttotal: 193ms\tremaining: 647ms\n",
            "23:\tlearn: 0.4656982\ttotal: 206ms\tremaining: 653ms\n",
            "24:\tlearn: 0.4652493\ttotal: 215ms\tremaining: 645ms\n",
            "25:\tlearn: 0.4645605\ttotal: 224ms\tremaining: 637ms\n",
            "26:\tlearn: 0.4644221\ttotal: 232ms\tremaining: 627ms\n",
            "27:\tlearn: 0.4638331\ttotal: 240ms\tremaining: 617ms\n",
            "28:\tlearn: 0.4633944\ttotal: 248ms\tremaining: 607ms\n",
            "29:\tlearn: 0.4628869\ttotal: 256ms\tremaining: 597ms\n",
            "30:\tlearn: 0.4624702\ttotal: 264ms\tremaining: 588ms\n",
            "31:\tlearn: 0.4616052\ttotal: 275ms\tremaining: 584ms\n",
            "32:\tlearn: 0.4601792\ttotal: 284ms\tremaining: 576ms\n",
            "33:\tlearn: 0.4598773\ttotal: 292ms\tremaining: 567ms\n",
            "34:\tlearn: 0.4595109\ttotal: 301ms\tremaining: 559ms\n",
            "35:\tlearn: 0.4590845\ttotal: 309ms\tremaining: 549ms\n",
            "36:\tlearn: 0.4584845\ttotal: 317ms\tremaining: 540ms\n",
            "37:\tlearn: 0.4579975\ttotal: 326ms\tremaining: 532ms\n",
            "38:\tlearn: 0.4574823\ttotal: 335ms\tremaining: 523ms\n",
            "39:\tlearn: 0.4568879\ttotal: 343ms\tremaining: 515ms\n",
            "40:\tlearn: 0.4563864\ttotal: 352ms\tremaining: 507ms\n",
            "41:\tlearn: 0.4561914\ttotal: 360ms\tremaining: 497ms\n",
            "42:\tlearn: 0.4556672\ttotal: 368ms\tremaining: 488ms\n",
            "43:\tlearn: 0.4550545\ttotal: 377ms\tremaining: 479ms\n",
            "44:\tlearn: 0.4547320\ttotal: 385ms\tremaining: 471ms\n",
            "45:\tlearn: 0.4543531\ttotal: 393ms\tremaining: 462ms\n",
            "46:\tlearn: 0.4540159\ttotal: 402ms\tremaining: 453ms\n",
            "47:\tlearn: 0.4538474\ttotal: 413ms\tremaining: 447ms\n",
            "48:\tlearn: 0.4536875\ttotal: 421ms\tremaining: 438ms\n",
            "49:\tlearn: 0.4532023\ttotal: 429ms\tremaining: 429ms\n",
            "50:\tlearn: 0.4527842\ttotal: 438ms\tremaining: 421ms\n",
            "51:\tlearn: 0.4524290\ttotal: 446ms\tremaining: 412ms\n",
            "52:\tlearn: 0.4520982\ttotal: 455ms\tremaining: 403ms\n",
            "53:\tlearn: 0.4518012\ttotal: 463ms\tremaining: 395ms\n",
            "54:\tlearn: 0.4515498\ttotal: 472ms\tremaining: 386ms\n",
            "55:\tlearn: 0.4510916\ttotal: 480ms\tremaining: 377ms\n",
            "56:\tlearn: 0.4507256\ttotal: 489ms\tremaining: 369ms\n",
            "57:\tlearn: 0.4503762\ttotal: 497ms\tremaining: 360ms\n",
            "58:\tlearn: 0.4502563\ttotal: 505ms\tremaining: 351ms\n",
            "59:\tlearn: 0.4499755\ttotal: 514ms\tremaining: 342ms\n",
            "60:\tlearn: 0.4494204\ttotal: 523ms\tremaining: 334ms\n",
            "61:\tlearn: 0.4493473\ttotal: 530ms\tremaining: 325ms\n",
            "62:\tlearn: 0.4491022\ttotal: 538ms\tremaining: 316ms\n",
            "63:\tlearn: 0.4489596\ttotal: 546ms\tremaining: 307ms\n",
            "64:\tlearn: 0.4486775\ttotal: 554ms\tremaining: 299ms\n",
            "65:\tlearn: 0.4484621\ttotal: 563ms\tremaining: 290ms\n",
            "66:\tlearn: 0.4481008\ttotal: 571ms\tremaining: 281ms\n",
            "67:\tlearn: 0.4478734\ttotal: 583ms\tremaining: 274ms\n",
            "68:\tlearn: 0.4475576\ttotal: 598ms\tremaining: 268ms\n",
            "69:\tlearn: 0.4473198\ttotal: 606ms\tremaining: 260ms\n",
            "70:\tlearn: 0.4470663\ttotal: 617ms\tremaining: 252ms\n",
            "71:\tlearn: 0.4467988\ttotal: 626ms\tremaining: 243ms\n",
            "72:\tlearn: 0.4465306\ttotal: 635ms\tremaining: 235ms\n",
            "73:\tlearn: 0.4457127\ttotal: 644ms\tremaining: 226ms\n",
            "74:\tlearn: 0.4452611\ttotal: 652ms\tremaining: 217ms\n",
            "75:\tlearn: 0.4450977\ttotal: 660ms\tremaining: 208ms\n",
            "76:\tlearn: 0.4449471\ttotal: 668ms\tremaining: 200ms\n",
            "77:\tlearn: 0.4445341\ttotal: 677ms\tremaining: 191ms\n",
            "78:\tlearn: 0.4442641\ttotal: 685ms\tremaining: 182ms\n",
            "79:\tlearn: 0.4439745\ttotal: 694ms\tremaining: 173ms\n",
            "80:\tlearn: 0.4437419\ttotal: 702ms\tremaining: 165ms\n",
            "81:\tlearn: 0.4434275\ttotal: 710ms\tremaining: 156ms\n",
            "82:\tlearn: 0.4433212\ttotal: 718ms\tremaining: 147ms\n",
            "83:\tlearn: 0.4429122\ttotal: 727ms\tremaining: 138ms\n",
            "84:\tlearn: 0.4424410\ttotal: 735ms\tremaining: 130ms\n",
            "85:\tlearn: 0.4422675\ttotal: 744ms\tremaining: 121ms\n",
            "86:\tlearn: 0.4417479\ttotal: 753ms\tremaining: 112ms\n",
            "87:\tlearn: 0.4412725\ttotal: 761ms\tremaining: 104ms\n",
            "88:\tlearn: 0.4411641\ttotal: 769ms\tremaining: 95.1ms\n",
            "89:\tlearn: 0.4409183\ttotal: 778ms\tremaining: 86.4ms\n",
            "90:\tlearn: 0.4406116\ttotal: 786ms\tremaining: 77.7ms\n",
            "91:\tlearn: 0.4403841\ttotal: 794ms\tremaining: 69.1ms\n",
            "92:\tlearn: 0.4402391\ttotal: 802ms\tremaining: 60.4ms\n",
            "93:\tlearn: 0.4395901\ttotal: 811ms\tremaining: 51.8ms\n",
            "94:\tlearn: 0.4393616\ttotal: 823ms\tremaining: 43.3ms\n",
            "95:\tlearn: 0.4393141\ttotal: 831ms\tremaining: 34.6ms\n",
            "96:\tlearn: 0.4392645\ttotal: 838ms\tremaining: 25.9ms\n",
            "97:\tlearn: 0.4391192\ttotal: 847ms\tremaining: 17.3ms\n",
            "98:\tlearn: 0.4387463\ttotal: 855ms\tremaining: 8.64ms\n",
            "99:\tlearn: 0.4383854\ttotal: 864ms\tremaining: 0us\n",
            "0.7607195390676794\n",
            "**********************************************\n",
            "0.6939356064049274\n"
          ],
          "name": "stdout"
        }
      ]
    },
    {
      "cell_type": "code",
      "metadata": {
        "colab": {
          "base_uri": "https://localhost:8080/",
          "height": 17
        },
        "id": "iVJLWTc_pXuM",
        "outputId": "2aa6985a-466d-482d-bff0-0f2f77ea90a9"
      },
      "source": [
        "cb_predictions = cb.predict(x_test)\r\n",
        "ss['Response'] = cb_predictions\r\n",
        "submission = pd.DataFrame({'ID':ss['ID'], 'Response':cb_predictions})\r\n",
        "submission.to_csv('cb_submission.csv', index=False)\r\n",
        "files.download('cb_submission.csv')"
      ],
      "execution_count": null,
      "outputs": [
        {
          "output_type": "display_data",
          "data": {
            "application/javascript": [
              "\n",
              "    async function download(id, filename, size) {\n",
              "      if (!google.colab.kernel.accessAllowed) {\n",
              "        return;\n",
              "      }\n",
              "      const div = document.createElement('div');\n",
              "      const label = document.createElement('label');\n",
              "      label.textContent = `Downloading \"${filename}\": `;\n",
              "      div.appendChild(label);\n",
              "      const progress = document.createElement('progress');\n",
              "      progress.max = size;\n",
              "      div.appendChild(progress);\n",
              "      document.body.appendChild(div);\n",
              "\n",
              "      const buffers = [];\n",
              "      let downloaded = 0;\n",
              "\n",
              "      const channel = await google.colab.kernel.comms.open(id);\n",
              "      // Send a message to notify the kernel that we're ready.\n",
              "      channel.send({})\n",
              "\n",
              "      for await (const message of channel.messages) {\n",
              "        // Send a message to notify the kernel that we're ready.\n",
              "        channel.send({})\n",
              "        if (message.buffers) {\n",
              "          for (const buffer of message.buffers) {\n",
              "            buffers.push(buffer);\n",
              "            downloaded += buffer.byteLength;\n",
              "            progress.value = downloaded;\n",
              "          }\n",
              "        }\n",
              "      }\n",
              "      const blob = new Blob(buffers, {type: 'application/binary'});\n",
              "      const a = document.createElement('a');\n",
              "      a.href = window.URL.createObjectURL(blob);\n",
              "      a.download = filename;\n",
              "      div.appendChild(a);\n",
              "      a.click();\n",
              "      div.remove();\n",
              "    }\n",
              "  "
            ],
            "text/plain": [
              "<IPython.core.display.Javascript object>"
            ]
          },
          "metadata": {
            "tags": []
          }
        },
        {
          "output_type": "display_data",
          "data": {
            "application/javascript": [
              "download(\"download_9cf8505f-d187-4345-a7f9-2e723155ce34\", \"cb_submission.csv\", 218062)"
            ],
            "text/plain": [
              "<IPython.core.display.Javascript object>"
            ]
          },
          "metadata": {
            "tags": []
          }
        }
      ]
    },
    {
      "cell_type": "code",
      "metadata": {
        "colab": {
          "base_uri": "https://localhost:8080/"
        },
        "id": "pey0sDWIp1XR",
        "outputId": "e4af3f04-cc14-4d8a-ad69-87d0c85b36bc"
      },
      "source": [
        "Classifiers = {'0._XGBoost' : XGBClassifier(learning_rate =0.1, n_estimators=494, max_depth=5,subsample = 0.70, verbosity = 0,\r\n",
        "                                            scale_pos_weight = 2.5,updater =\"grow_histmaker\",base_score  = 0.2),\r\n",
        "               \r\n",
        "               '1.CatBoost' : CatBoostClassifier(learning_rate=0.15, n_estimators=494, subsample=0.085, \r\n",
        "                                                 max_depth=5, scale_pos_weight=2.5),\r\n",
        "               \r\n",
        "               '2.LightGBM' : LGBMClassifier(subsample_freq = 2, objective =\"binary\",importance_type = \"gain\",\r\n",
        "                                             verbosity = -1, max_bin = 60,num_leaves = 300,\r\n",
        "                                             boosting_type = 'dart',learning_rate=0.15, \r\n",
        "                                             n_estimators=494, max_depth=5, scale_pos_weight=2.5),\r\n",
        "               \r\n",
        "               '3. RFClassifier' : RandomForestClassifier(n_estimators=100, criterion='gini', max_depth=50, min_samples_split=50, min_samples_leaf=10, max_features='auto')\r\n",
        " }\r\n",
        "\r\n",
        "print( list(Classifiers.keys()) )\r\n",
        "print( list(Classifiers.values()) )"
      ],
      "execution_count": null,
      "outputs": [
        {
          "output_type": "stream",
          "text": [
            "['0._XGBoost', '1.CatBoost', '2.LightGBM', '3. RFClassifier']\n",
            "[XGBClassifier(base_score=0.2, booster='gbtree', colsample_bylevel=1,\n",
            "              colsample_bynode=1, colsample_bytree=1, gamma=0,\n",
            "              learning_rate=0.1, max_delta_step=0, max_depth=5,\n",
            "              min_child_weight=1, missing=None, n_estimators=494, n_jobs=1,\n",
            "              nthread=None, objective='binary:logistic', random_state=0,\n",
            "              reg_alpha=0, reg_lambda=1, scale_pos_weight=2.5, seed=None,\n",
            "              silent=None, subsample=0.7, updater='grow_histmaker',\n",
            "              verbosity=0), <catboost.core.CatBoostClassifier object at 0x7fa45596c0d0>, LGBMClassifier(boosting_type='dart', class_weight=None, colsample_bytree=1.0,\n",
            "               importance_type='gain', learning_rate=0.15, max_bin=60,\n",
            "               max_depth=5, min_child_samples=20, min_child_weight=0.001,\n",
            "               min_split_gain=0.0, n_estimators=494, n_jobs=-1, num_leaves=300,\n",
            "               objective='binary', random_state=None, reg_alpha=0.0,\n",
            "               reg_lambda=0.0, scale_pos_weight=2.5, silent=True, subsample=1.0,\n",
            "               subsample_for_bin=200000, subsample_freq=2, verbosity=-1), RandomForestClassifier(bootstrap=True, ccp_alpha=0.0, class_weight=None,\n",
            "                       criterion='gini', max_depth=50, max_features='auto',\n",
            "                       max_leaf_nodes=None, max_samples=None,\n",
            "                       min_impurity_decrease=0.0, min_impurity_split=None,\n",
            "                       min_samples_leaf=10, min_samples_split=50,\n",
            "                       min_weight_fraction_leaf=0.0, n_estimators=100,\n",
            "                       n_jobs=None, oob_score=False, random_state=None,\n",
            "                       verbose=0, warm_start=False)]\n"
          ],
          "name": "stdout"
        }
      ]
    },
    {
      "cell_type": "code",
      "metadata": {
        "colab": {
          "base_uri": "https://localhost:8080/"
        },
        "id": "MKL-f5tgqSgD",
        "outputId": "70d09971-8b91-4d29-afa2-28ca3aa9b3a7"
      },
      "source": [
        "from sklearn.ensemble import VotingClassifier\r\n",
        "ensemble_model = VotingClassifier(estimators=[\r\n",
        "                                              ('XGBoost_Best', list(Classifiers.values())[0]), \r\n",
        "                                              ('CatBoost_Best', list(Classifiers.values())[1]),\r\n",
        "                                              ('LightGBM_Best', list(Classifiers.values())[2]),\r\n",
        "                                              ('Random Forest Best', list(Classifiers.values())[3])\r\n",
        "                                             ], \r\n",
        "                                              voting='soft',weights=[5,5,5.2,5.5])\r\n",
        "\r\n",
        "file_name = \"SEED-294_AGAIN_RANK_4_ENSEMBLE_SOFT_5_5_5.2\"\r\n",
        "ensemble_model.fit(x_train,y_train)"
      ],
      "execution_count": null,
      "outputs": [
        {
          "output_type": "stream",
          "text": [
            "0:\tlearn: 0.6640588\ttotal: 15.7ms\tremaining: 7.74s\n",
            "1:\tlearn: 0.6496675\ttotal: 30.8ms\tremaining: 7.58s\n",
            "2:\tlearn: 0.6359328\ttotal: 43.6ms\tremaining: 7.14s\n",
            "3:\tlearn: 0.6251395\ttotal: 58.1ms\tremaining: 7.12s\n",
            "4:\tlearn: 0.6160966\ttotal: 72.7ms\tremaining: 7.11s\n",
            "5:\tlearn: 0.6096083\ttotal: 87.3ms\tremaining: 7.1s\n",
            "6:\tlearn: 0.6070943\ttotal: 99.4ms\tremaining: 6.92s\n",
            "7:\tlearn: 0.6044261\ttotal: 114ms\tremaining: 6.92s\n",
            "8:\tlearn: 0.6025143\ttotal: 129ms\tremaining: 6.94s\n",
            "9:\tlearn: 0.6006524\ttotal: 141ms\tremaining: 6.81s\n",
            "10:\tlearn: 0.5994155\ttotal: 155ms\tremaining: 6.83s\n",
            "11:\tlearn: 0.5949768\ttotal: 170ms\tremaining: 6.84s\n",
            "12:\tlearn: 0.5940855\ttotal: 185ms\tremaining: 6.84s\n",
            "13:\tlearn: 0.5931189\ttotal: 200ms\tremaining: 6.85s\n",
            "14:\tlearn: 0.5924439\ttotal: 213ms\tremaining: 6.82s\n",
            "15:\tlearn: 0.5919922\ttotal: 234ms\tremaining: 7s\n",
            "16:\tlearn: 0.5910772\ttotal: 249ms\tremaining: 6.99s\n",
            "17:\tlearn: 0.5904129\ttotal: 264ms\tremaining: 6.98s\n",
            "18:\tlearn: 0.5895859\ttotal: 276ms\tremaining: 6.91s\n",
            "19:\tlearn: 0.5893550\ttotal: 291ms\tremaining: 6.89s\n",
            "20:\tlearn: 0.5891272\ttotal: 302ms\tremaining: 6.8s\n",
            "21:\tlearn: 0.5888856\ttotal: 317ms\tremaining: 6.8s\n",
            "22:\tlearn: 0.5885486\ttotal: 331ms\tremaining: 6.79s\n",
            "23:\tlearn: 0.5881239\ttotal: 346ms\tremaining: 6.78s\n",
            "24:\tlearn: 0.5879381\ttotal: 361ms\tremaining: 6.77s\n",
            "25:\tlearn: 0.5877328\ttotal: 375ms\tremaining: 6.75s\n",
            "26:\tlearn: 0.5873243\ttotal: 390ms\tremaining: 6.74s\n",
            "27:\tlearn: 0.5871152\ttotal: 404ms\tremaining: 6.72s\n",
            "28:\tlearn: 0.5869228\ttotal: 419ms\tremaining: 6.71s\n",
            "29:\tlearn: 0.5865763\ttotal: 431ms\tremaining: 6.67s\n",
            "30:\tlearn: 0.5864926\ttotal: 450ms\tremaining: 6.72s\n",
            "31:\tlearn: 0.5862974\ttotal: 464ms\tremaining: 6.69s\n",
            "32:\tlearn: 0.5860144\ttotal: 478ms\tremaining: 6.68s\n",
            "33:\tlearn: 0.5858677\ttotal: 493ms\tremaining: 6.67s\n",
            "34:\tlearn: 0.5857109\ttotal: 507ms\tremaining: 6.66s\n",
            "35:\tlearn: 0.5854288\ttotal: 524ms\tremaining: 6.66s\n",
            "36:\tlearn: 0.5845838\ttotal: 538ms\tremaining: 6.65s\n",
            "37:\tlearn: 0.5840324\ttotal: 553ms\tremaining: 6.64s\n",
            "38:\tlearn: 0.5839112\ttotal: 565ms\tremaining: 6.59s\n",
            "39:\tlearn: 0.5837839\ttotal: 580ms\tremaining: 6.58s\n",
            "40:\tlearn: 0.5833167\ttotal: 594ms\tremaining: 6.57s\n",
            "41:\tlearn: 0.5827916\ttotal: 606ms\tremaining: 6.52s\n",
            "42:\tlearn: 0.5826240\ttotal: 621ms\tremaining: 6.51s\n",
            "43:\tlearn: 0.5821623\ttotal: 636ms\tremaining: 6.5s\n",
            "44:\tlearn: 0.5820077\ttotal: 649ms\tremaining: 6.47s\n",
            "45:\tlearn: 0.5817028\ttotal: 666ms\tremaining: 6.49s\n",
            "46:\tlearn: 0.5815793\ttotal: 681ms\tremaining: 6.48s\n",
            "47:\tlearn: 0.5814596\ttotal: 694ms\tremaining: 6.45s\n",
            "48:\tlearn: 0.5809073\ttotal: 706ms\tremaining: 6.41s\n",
            "49:\tlearn: 0.5807947\ttotal: 722ms\tremaining: 6.41s\n",
            "50:\tlearn: 0.5795665\ttotal: 736ms\tremaining: 6.39s\n",
            "51:\tlearn: 0.5795286\ttotal: 751ms\tremaining: 6.38s\n",
            "52:\tlearn: 0.5789467\ttotal: 766ms\tremaining: 6.37s\n",
            "53:\tlearn: 0.5788648\ttotal: 781ms\tremaining: 6.36s\n",
            "54:\tlearn: 0.5786751\ttotal: 796ms\tremaining: 6.35s\n",
            "55:\tlearn: 0.5785295\ttotal: 811ms\tremaining: 6.34s\n",
            "56:\tlearn: 0.5784273\ttotal: 825ms\tremaining: 6.33s\n",
            "57:\tlearn: 0.5781518\ttotal: 840ms\tremaining: 6.32s\n",
            "58:\tlearn: 0.5777973\ttotal: 857ms\tremaining: 6.32s\n",
            "59:\tlearn: 0.5777306\ttotal: 879ms\tremaining: 6.36s\n",
            "60:\tlearn: 0.5776548\ttotal: 894ms\tremaining: 6.35s\n",
            "61:\tlearn: 0.5775517\ttotal: 908ms\tremaining: 6.32s\n",
            "62:\tlearn: 0.5775130\ttotal: 919ms\tremaining: 6.29s\n",
            "63:\tlearn: 0.5774155\ttotal: 931ms\tremaining: 6.26s\n",
            "64:\tlearn: 0.5770832\ttotal: 946ms\tremaining: 6.24s\n",
            "65:\tlearn: 0.5769839\ttotal: 959ms\tremaining: 6.22s\n",
            "66:\tlearn: 0.5765999\ttotal: 972ms\tremaining: 6.19s\n",
            "67:\tlearn: 0.5765566\ttotal: 985ms\tremaining: 6.17s\n",
            "68:\tlearn: 0.5763465\ttotal: 997ms\tremaining: 6.14s\n",
            "69:\tlearn: 0.5759447\ttotal: 1.01s\tremaining: 6.13s\n",
            "70:\tlearn: 0.5758415\ttotal: 1.03s\tremaining: 6.12s\n",
            "71:\tlearn: 0.5751468\ttotal: 1.04s\tremaining: 6.1s\n",
            "72:\tlearn: 0.5750593\ttotal: 1.05s\tremaining: 6.08s\n",
            "73:\tlearn: 0.5749068\ttotal: 1.06s\tremaining: 6.05s\n",
            "74:\tlearn: 0.5748295\ttotal: 1.08s\tremaining: 6.04s\n",
            "75:\tlearn: 0.5747007\ttotal: 1.09s\tremaining: 6.03s\n",
            "76:\tlearn: 0.5744377\ttotal: 1.11s\tremaining: 6s\n",
            "77:\tlearn: 0.5739940\ttotal: 1.12s\tremaining: 5.98s\n",
            "78:\tlearn: 0.5738510\ttotal: 1.14s\tremaining: 5.97s\n",
            "79:\tlearn: 0.5738090\ttotal: 1.15s\tremaining: 5.94s\n",
            "80:\tlearn: 0.5737217\ttotal: 1.17s\tremaining: 5.94s\n",
            "81:\tlearn: 0.5736156\ttotal: 1.18s\tremaining: 5.93s\n",
            "82:\tlearn: 0.5732162\ttotal: 1.2s\tremaining: 5.92s\n",
            "83:\tlearn: 0.5729806\ttotal: 1.21s\tremaining: 5.9s\n",
            "84:\tlearn: 0.5729224\ttotal: 1.22s\tremaining: 5.88s\n",
            "85:\tlearn: 0.5727994\ttotal: 1.23s\tremaining: 5.86s\n",
            "86:\tlearn: 0.5726714\ttotal: 1.25s\tremaining: 5.84s\n",
            "87:\tlearn: 0.5725067\ttotal: 1.26s\tremaining: 5.83s\n",
            "88:\tlearn: 0.5723855\ttotal: 1.28s\tremaining: 5.81s\n",
            "89:\tlearn: 0.5722202\ttotal: 1.29s\tremaining: 5.81s\n",
            "90:\tlearn: 0.5720152\ttotal: 1.31s\tremaining: 5.79s\n",
            "91:\tlearn: 0.5718837\ttotal: 1.32s\tremaining: 5.78s\n",
            "92:\tlearn: 0.5715100\ttotal: 1.34s\tremaining: 5.76s\n",
            "93:\tlearn: 0.5713787\ttotal: 1.35s\tremaining: 5.75s\n",
            "94:\tlearn: 0.5712259\ttotal: 1.37s\tremaining: 5.74s\n",
            "95:\tlearn: 0.5711225\ttotal: 1.38s\tremaining: 5.72s\n",
            "96:\tlearn: 0.5707910\ttotal: 1.39s\tremaining: 5.7s\n",
            "97:\tlearn: 0.5704526\ttotal: 1.41s\tremaining: 5.68s\n",
            "98:\tlearn: 0.5703732\ttotal: 1.42s\tremaining: 5.67s\n",
            "99:\tlearn: 0.5702866\ttotal: 1.44s\tremaining: 5.66s\n",
            "100:\tlearn: 0.5701555\ttotal: 1.45s\tremaining: 5.63s\n",
            "101:\tlearn: 0.5700828\ttotal: 1.46s\tremaining: 5.62s\n",
            "102:\tlearn: 0.5699701\ttotal: 1.47s\tremaining: 5.6s\n",
            "103:\tlearn: 0.5697060\ttotal: 1.49s\tremaining: 5.58s\n",
            "104:\tlearn: 0.5696838\ttotal: 1.5s\tremaining: 5.58s\n",
            "105:\tlearn: 0.5696037\ttotal: 1.52s\tremaining: 5.57s\n",
            "106:\tlearn: 0.5694917\ttotal: 1.53s\tremaining: 5.55s\n",
            "107:\tlearn: 0.5693440\ttotal: 1.55s\tremaining: 5.53s\n",
            "108:\tlearn: 0.5692150\ttotal: 1.56s\tremaining: 5.51s\n",
            "109:\tlearn: 0.5691139\ttotal: 1.57s\tremaining: 5.49s\n",
            "110:\tlearn: 0.5689401\ttotal: 1.59s\tremaining: 5.48s\n",
            "111:\tlearn: 0.5687884\ttotal: 1.6s\tremaining: 5.47s\n",
            "112:\tlearn: 0.5685933\ttotal: 1.61s\tremaining: 5.45s\n",
            "113:\tlearn: 0.5685181\ttotal: 1.63s\tremaining: 5.43s\n",
            "114:\tlearn: 0.5682702\ttotal: 1.64s\tremaining: 5.42s\n",
            "115:\tlearn: 0.5679152\ttotal: 1.66s\tremaining: 5.41s\n",
            "116:\tlearn: 0.5678315\ttotal: 1.67s\tremaining: 5.39s\n",
            "117:\tlearn: 0.5676300\ttotal: 1.69s\tremaining: 5.38s\n",
            "118:\tlearn: 0.5675773\ttotal: 1.7s\tremaining: 5.36s\n",
            "119:\tlearn: 0.5674733\ttotal: 1.73s\tremaining: 5.4s\n",
            "120:\tlearn: 0.5673817\ttotal: 1.75s\tremaining: 5.38s\n",
            "121:\tlearn: 0.5672470\ttotal: 1.76s\tremaining: 5.37s\n",
            "122:\tlearn: 0.5671576\ttotal: 1.77s\tremaining: 5.36s\n",
            "123:\tlearn: 0.5670435\ttotal: 1.79s\tremaining: 5.34s\n",
            "124:\tlearn: 0.5669496\ttotal: 1.8s\tremaining: 5.33s\n",
            "125:\tlearn: 0.5668685\ttotal: 1.82s\tremaining: 5.31s\n",
            "126:\tlearn: 0.5667457\ttotal: 1.84s\tremaining: 5.32s\n",
            "127:\tlearn: 0.5666260\ttotal: 1.86s\tremaining: 5.31s\n",
            "128:\tlearn: 0.5665387\ttotal: 1.87s\tremaining: 5.29s\n",
            "129:\tlearn: 0.5664422\ttotal: 1.89s\tremaining: 5.3s\n",
            "130:\tlearn: 0.5662321\ttotal: 1.91s\tremaining: 5.29s\n",
            "131:\tlearn: 0.5661623\ttotal: 1.92s\tremaining: 5.27s\n",
            "132:\tlearn: 0.5660419\ttotal: 1.94s\tremaining: 5.27s\n",
            "133:\tlearn: 0.5658607\ttotal: 1.96s\tremaining: 5.26s\n",
            "134:\tlearn: 0.5657613\ttotal: 1.97s\tremaining: 5.25s\n",
            "135:\tlearn: 0.5655774\ttotal: 1.98s\tremaining: 5.22s\n",
            "136:\tlearn: 0.5653487\ttotal: 2s\tremaining: 5.2s\n",
            "137:\tlearn: 0.5652288\ttotal: 2.01s\tremaining: 5.19s\n",
            "138:\tlearn: 0.5649551\ttotal: 2.02s\tremaining: 5.17s\n",
            "139:\tlearn: 0.5648516\ttotal: 2.04s\tremaining: 5.15s\n",
            "140:\tlearn: 0.5647065\ttotal: 2.05s\tremaining: 5.13s\n",
            "141:\tlearn: 0.5645013\ttotal: 2.06s\tremaining: 5.11s\n",
            "142:\tlearn: 0.5644116\ttotal: 2.08s\tremaining: 5.1s\n",
            "143:\tlearn: 0.5642938\ttotal: 2.09s\tremaining: 5.08s\n",
            "144:\tlearn: 0.5641969\ttotal: 2.1s\tremaining: 5.06s\n",
            "145:\tlearn: 0.5641435\ttotal: 2.12s\tremaining: 5.04s\n",
            "146:\tlearn: 0.5640478\ttotal: 2.13s\tremaining: 5.03s\n",
            "147:\tlearn: 0.5639313\ttotal: 2.15s\tremaining: 5.02s\n",
            "148:\tlearn: 0.5638424\ttotal: 2.17s\tremaining: 5.02s\n",
            "149:\tlearn: 0.5637995\ttotal: 2.18s\tremaining: 5s\n",
            "150:\tlearn: 0.5636909\ttotal: 2.2s\tremaining: 4.99s\n",
            "151:\tlearn: 0.5636392\ttotal: 2.21s\tremaining: 4.98s\n",
            "152:\tlearn: 0.5633678\ttotal: 2.23s\tremaining: 4.96s\n",
            "153:\tlearn: 0.5633036\ttotal: 2.24s\tremaining: 4.94s\n",
            "154:\tlearn: 0.5632174\ttotal: 2.25s\tremaining: 4.93s\n",
            "155:\tlearn: 0.5631934\ttotal: 2.27s\tremaining: 4.91s\n",
            "156:\tlearn: 0.5631353\ttotal: 2.28s\tremaining: 4.9s\n",
            "157:\tlearn: 0.5630592\ttotal: 2.29s\tremaining: 4.88s\n",
            "158:\tlearn: 0.5629489\ttotal: 2.31s\tremaining: 4.87s\n",
            "159:\tlearn: 0.5628776\ttotal: 2.32s\tremaining: 4.85s\n",
            "160:\tlearn: 0.5627709\ttotal: 2.34s\tremaining: 4.83s\n",
            "161:\tlearn: 0.5624909\ttotal: 2.35s\tremaining: 4.82s\n",
            "162:\tlearn: 0.5624062\ttotal: 2.37s\tremaining: 4.81s\n",
            "163:\tlearn: 0.5623351\ttotal: 2.38s\tremaining: 4.79s\n",
            "164:\tlearn: 0.5622152\ttotal: 2.4s\tremaining: 4.78s\n",
            "165:\tlearn: 0.5621672\ttotal: 2.41s\tremaining: 4.76s\n",
            "166:\tlearn: 0.5620819\ttotal: 2.42s\tremaining: 4.75s\n",
            "167:\tlearn: 0.5618924\ttotal: 2.44s\tremaining: 4.73s\n",
            "168:\tlearn: 0.5618039\ttotal: 2.45s\tremaining: 4.71s\n",
            "169:\tlearn: 0.5616214\ttotal: 2.46s\tremaining: 4.7s\n",
            "170:\tlearn: 0.5615750\ttotal: 2.49s\tremaining: 4.71s\n",
            "171:\tlearn: 0.5614819\ttotal: 2.5s\tremaining: 4.69s\n",
            "172:\tlearn: 0.5614266\ttotal: 2.52s\tremaining: 4.67s\n",
            "173:\tlearn: 0.5613647\ttotal: 2.53s\tremaining: 4.65s\n",
            "174:\tlearn: 0.5613430\ttotal: 2.54s\tremaining: 4.64s\n",
            "175:\tlearn: 0.5612475\ttotal: 2.56s\tremaining: 4.63s\n",
            "176:\tlearn: 0.5611533\ttotal: 2.58s\tremaining: 4.61s\n",
            "177:\tlearn: 0.5610693\ttotal: 2.59s\tremaining: 4.6s\n",
            "178:\tlearn: 0.5610467\ttotal: 2.6s\tremaining: 4.58s\n",
            "179:\tlearn: 0.5609465\ttotal: 2.62s\tremaining: 4.57s\n",
            "180:\tlearn: 0.5608565\ttotal: 2.63s\tremaining: 4.55s\n",
            "181:\tlearn: 0.5608052\ttotal: 2.65s\tremaining: 4.53s\n",
            "182:\tlearn: 0.5606546\ttotal: 2.66s\tremaining: 4.51s\n",
            "183:\tlearn: 0.5605645\ttotal: 2.67s\tremaining: 4.5s\n",
            "184:\tlearn: 0.5604246\ttotal: 2.69s\tremaining: 4.49s\n",
            "185:\tlearn: 0.5601995\ttotal: 2.7s\tremaining: 4.47s\n",
            "186:\tlearn: 0.5601310\ttotal: 2.71s\tremaining: 4.45s\n",
            "187:\tlearn: 0.5600655\ttotal: 2.72s\tremaining: 4.43s\n",
            "188:\tlearn: 0.5599951\ttotal: 2.74s\tremaining: 4.42s\n",
            "189:\tlearn: 0.5599105\ttotal: 2.75s\tremaining: 4.41s\n",
            "190:\tlearn: 0.5597036\ttotal: 2.77s\tremaining: 4.4s\n",
            "191:\tlearn: 0.5595800\ttotal: 2.79s\tremaining: 4.38s\n",
            "192:\tlearn: 0.5594715\ttotal: 2.8s\tremaining: 4.37s\n",
            "193:\tlearn: 0.5592931\ttotal: 2.81s\tremaining: 4.35s\n",
            "194:\tlearn: 0.5592202\ttotal: 2.83s\tremaining: 4.34s\n",
            "195:\tlearn: 0.5591599\ttotal: 2.84s\tremaining: 4.32s\n",
            "196:\tlearn: 0.5590356\ttotal: 2.85s\tremaining: 4.3s\n",
            "197:\tlearn: 0.5589409\ttotal: 2.87s\tremaining: 4.29s\n",
            "198:\tlearn: 0.5588380\ttotal: 2.89s\tremaining: 4.29s\n",
            "199:\tlearn: 0.5587134\ttotal: 2.9s\tremaining: 4.27s\n",
            "200:\tlearn: 0.5586465\ttotal: 2.92s\tremaining: 4.25s\n",
            "201:\tlearn: 0.5585880\ttotal: 2.93s\tremaining: 4.24s\n",
            "202:\tlearn: 0.5584868\ttotal: 2.95s\tremaining: 4.23s\n",
            "203:\tlearn: 0.5584480\ttotal: 2.96s\tremaining: 4.21s\n",
            "204:\tlearn: 0.5583969\ttotal: 2.98s\tremaining: 4.2s\n",
            "205:\tlearn: 0.5583425\ttotal: 3s\tremaining: 4.19s\n",
            "206:\tlearn: 0.5581818\ttotal: 3.01s\tremaining: 4.17s\n",
            "207:\tlearn: 0.5581224\ttotal: 3.02s\tremaining: 4.15s\n",
            "208:\tlearn: 0.5580995\ttotal: 3.04s\tremaining: 4.14s\n",
            "209:\tlearn: 0.5580128\ttotal: 3.05s\tremaining: 4.13s\n",
            "210:\tlearn: 0.5579282\ttotal: 3.06s\tremaining: 4.11s\n",
            "211:\tlearn: 0.5578727\ttotal: 3.08s\tremaining: 4.1s\n",
            "212:\tlearn: 0.5577922\ttotal: 3.09s\tremaining: 4.08s\n",
            "213:\tlearn: 0.5576907\ttotal: 3.1s\tremaining: 4.06s\n",
            "214:\tlearn: 0.5575863\ttotal: 3.12s\tremaining: 4.05s\n",
            "215:\tlearn: 0.5574327\ttotal: 3.13s\tremaining: 4.03s\n",
            "216:\tlearn: 0.5573070\ttotal: 3.15s\tremaining: 4.02s\n",
            "217:\tlearn: 0.5572296\ttotal: 3.16s\tremaining: 4.01s\n",
            "218:\tlearn: 0.5571269\ttotal: 3.18s\tremaining: 3.99s\n",
            "219:\tlearn: 0.5570275\ttotal: 3.2s\tremaining: 3.98s\n",
            "220:\tlearn: 0.5569231\ttotal: 3.21s\tremaining: 3.97s\n",
            "221:\tlearn: 0.5568577\ttotal: 3.22s\tremaining: 3.95s\n",
            "222:\tlearn: 0.5567588\ttotal: 3.24s\tremaining: 3.94s\n",
            "223:\tlearn: 0.5566670\ttotal: 3.25s\tremaining: 3.92s\n",
            "224:\tlearn: 0.5566168\ttotal: 3.27s\tremaining: 3.91s\n",
            "225:\tlearn: 0.5565258\ttotal: 3.28s\tremaining: 3.89s\n",
            "226:\tlearn: 0.5562599\ttotal: 3.29s\tremaining: 3.88s\n",
            "227:\tlearn: 0.5561242\ttotal: 3.31s\tremaining: 3.86s\n",
            "228:\tlearn: 0.5560612\ttotal: 3.32s\tremaining: 3.85s\n",
            "229:\tlearn: 0.5559865\ttotal: 3.34s\tremaining: 3.83s\n",
            "230:\tlearn: 0.5559184\ttotal: 3.35s\tremaining: 3.82s\n",
            "231:\tlearn: 0.5558546\ttotal: 3.37s\tremaining: 3.8s\n",
            "232:\tlearn: 0.5557587\ttotal: 3.38s\tremaining: 3.79s\n",
            "233:\tlearn: 0.5556772\ttotal: 3.4s\tremaining: 3.78s\n",
            "234:\tlearn: 0.5556269\ttotal: 3.42s\tremaining: 3.76s\n",
            "235:\tlearn: 0.5555375\ttotal: 3.43s\tremaining: 3.75s\n",
            "236:\tlearn: 0.5554242\ttotal: 3.45s\tremaining: 3.74s\n",
            "237:\tlearn: 0.5553688\ttotal: 3.46s\tremaining: 3.72s\n",
            "238:\tlearn: 0.5553028\ttotal: 3.47s\tremaining: 3.7s\n",
            "239:\tlearn: 0.5552246\ttotal: 3.48s\tremaining: 3.69s\n",
            "240:\tlearn: 0.5551616\ttotal: 3.49s\tremaining: 3.67s\n",
            "241:\tlearn: 0.5551240\ttotal: 3.51s\tremaining: 3.65s\n",
            "242:\tlearn: 0.5550734\ttotal: 3.52s\tremaining: 3.64s\n",
            "243:\tlearn: 0.5549748\ttotal: 3.53s\tremaining: 3.62s\n",
            "244:\tlearn: 0.5549104\ttotal: 3.54s\tremaining: 3.6s\n",
            "245:\tlearn: 0.5548212\ttotal: 3.56s\tremaining: 3.59s\n",
            "246:\tlearn: 0.5547217\ttotal: 3.57s\tremaining: 3.57s\n",
            "247:\tlearn: 0.5546793\ttotal: 3.59s\tremaining: 3.56s\n",
            "248:\tlearn: 0.5545397\ttotal: 3.6s\tremaining: 3.54s\n",
            "249:\tlearn: 0.5544937\ttotal: 3.62s\tremaining: 3.53s\n",
            "250:\tlearn: 0.5544447\ttotal: 3.63s\tremaining: 3.51s\n",
            "251:\tlearn: 0.5543835\ttotal: 3.64s\tremaining: 3.5s\n",
            "252:\tlearn: 0.5543641\ttotal: 3.66s\tremaining: 3.48s\n",
            "253:\tlearn: 0.5543182\ttotal: 3.67s\tremaining: 3.47s\n",
            "254:\tlearn: 0.5542653\ttotal: 3.69s\tremaining: 3.46s\n",
            "255:\tlearn: 0.5541481\ttotal: 3.7s\tremaining: 3.44s\n",
            "256:\tlearn: 0.5540724\ttotal: 3.71s\tremaining: 3.43s\n",
            "257:\tlearn: 0.5540172\ttotal: 3.73s\tremaining: 3.41s\n",
            "258:\tlearn: 0.5539185\ttotal: 3.75s\tremaining: 3.4s\n",
            "259:\tlearn: 0.5538059\ttotal: 3.76s\tremaining: 3.39s\n",
            "260:\tlearn: 0.5537720\ttotal: 3.78s\tremaining: 3.37s\n",
            "261:\tlearn: 0.5536980\ttotal: 3.79s\tremaining: 3.35s\n",
            "262:\tlearn: 0.5536248\ttotal: 3.8s\tremaining: 3.34s\n",
            "263:\tlearn: 0.5535859\ttotal: 3.81s\tremaining: 3.32s\n",
            "264:\tlearn: 0.5535032\ttotal: 3.83s\tremaining: 3.31s\n",
            "265:\tlearn: 0.5532195\ttotal: 3.85s\tremaining: 3.3s\n",
            "266:\tlearn: 0.5531486\ttotal: 3.86s\tremaining: 3.28s\n",
            "267:\tlearn: 0.5530806\ttotal: 3.88s\tremaining: 3.27s\n",
            "268:\tlearn: 0.5529521\ttotal: 3.9s\tremaining: 3.26s\n",
            "269:\tlearn: 0.5528173\ttotal: 3.91s\tremaining: 3.25s\n",
            "270:\tlearn: 0.5527445\ttotal: 3.93s\tremaining: 3.23s\n",
            "271:\tlearn: 0.5526803\ttotal: 3.94s\tremaining: 3.22s\n",
            "272:\tlearn: 0.5526365\ttotal: 3.95s\tremaining: 3.2s\n",
            "273:\tlearn: 0.5525654\ttotal: 3.97s\tremaining: 3.19s\n",
            "274:\tlearn: 0.5524838\ttotal: 3.98s\tremaining: 3.17s\n",
            "275:\tlearn: 0.5524275\ttotal: 4s\tremaining: 3.16s\n",
            "276:\tlearn: 0.5523243\ttotal: 4.01s\tremaining: 3.14s\n",
            "277:\tlearn: 0.5522633\ttotal: 4.02s\tremaining: 3.13s\n",
            "278:\tlearn: 0.5522172\ttotal: 4.04s\tremaining: 3.11s\n",
            "279:\tlearn: 0.5520468\ttotal: 4.05s\tremaining: 3.1s\n",
            "280:\tlearn: 0.5520067\ttotal: 4.07s\tremaining: 3.08s\n",
            "281:\tlearn: 0.5519432\ttotal: 4.08s\tremaining: 3.07s\n",
            "282:\tlearn: 0.5518686\ttotal: 4.1s\tremaining: 3.06s\n",
            "283:\tlearn: 0.5518330\ttotal: 4.11s\tremaining: 3.04s\n",
            "284:\tlearn: 0.5517445\ttotal: 4.13s\tremaining: 3.03s\n",
            "285:\tlearn: 0.5515671\ttotal: 4.14s\tremaining: 3.01s\n",
            "286:\tlearn: 0.5514393\ttotal: 4.16s\tremaining: 3s\n",
            "287:\tlearn: 0.5513697\ttotal: 4.17s\tremaining: 2.98s\n",
            "288:\tlearn: 0.5513029\ttotal: 4.19s\tremaining: 2.97s\n",
            "289:\tlearn: 0.5512539\ttotal: 4.2s\tremaining: 2.96s\n",
            "290:\tlearn: 0.5511741\ttotal: 4.22s\tremaining: 2.94s\n",
            "291:\tlearn: 0.5511110\ttotal: 4.23s\tremaining: 2.93s\n",
            "292:\tlearn: 0.5510575\ttotal: 4.25s\tremaining: 2.92s\n",
            "293:\tlearn: 0.5510181\ttotal: 4.26s\tremaining: 2.9s\n",
            "294:\tlearn: 0.5509596\ttotal: 4.28s\tremaining: 2.88s\n",
            "295:\tlearn: 0.5509162\ttotal: 4.29s\tremaining: 2.87s\n",
            "296:\tlearn: 0.5508861\ttotal: 4.3s\tremaining: 2.85s\n",
            "297:\tlearn: 0.5508396\ttotal: 4.31s\tremaining: 2.84s\n",
            "298:\tlearn: 0.5507781\ttotal: 4.33s\tremaining: 2.82s\n",
            "299:\tlearn: 0.5506257\ttotal: 4.34s\tremaining: 2.81s\n",
            "300:\tlearn: 0.5505691\ttotal: 4.36s\tremaining: 2.79s\n",
            "301:\tlearn: 0.5505391\ttotal: 4.37s\tremaining: 2.78s\n",
            "302:\tlearn: 0.5504871\ttotal: 4.38s\tremaining: 2.76s\n",
            "303:\tlearn: 0.5504673\ttotal: 4.4s\tremaining: 2.75s\n",
            "304:\tlearn: 0.5504108\ttotal: 4.42s\tremaining: 2.74s\n",
            "305:\tlearn: 0.5503407\ttotal: 4.43s\tremaining: 2.72s\n",
            "306:\tlearn: 0.5502922\ttotal: 4.45s\tremaining: 2.71s\n",
            "307:\tlearn: 0.5502661\ttotal: 4.46s\tremaining: 2.69s\n",
            "308:\tlearn: 0.5496879\ttotal: 4.48s\tremaining: 2.68s\n",
            "309:\tlearn: 0.5495914\ttotal: 4.49s\tremaining: 2.67s\n",
            "310:\tlearn: 0.5494757\ttotal: 4.51s\tremaining: 2.65s\n",
            "311:\tlearn: 0.5493866\ttotal: 4.52s\tremaining: 2.63s\n",
            "312:\tlearn: 0.5493351\ttotal: 4.53s\tremaining: 2.62s\n",
            "313:\tlearn: 0.5492769\ttotal: 4.55s\tremaining: 2.61s\n",
            "314:\tlearn: 0.5492143\ttotal: 4.56s\tremaining: 2.59s\n",
            "315:\tlearn: 0.5491476\ttotal: 4.57s\tremaining: 2.58s\n",
            "316:\tlearn: 0.5490555\ttotal: 4.58s\tremaining: 2.56s\n",
            "317:\tlearn: 0.5490236\ttotal: 4.6s\tremaining: 2.54s\n",
            "318:\tlearn: 0.5489126\ttotal: 4.61s\tremaining: 2.53s\n",
            "319:\tlearn: 0.5487743\ttotal: 4.63s\tremaining: 2.52s\n",
            "320:\tlearn: 0.5487492\ttotal: 4.64s\tremaining: 2.5s\n",
            "321:\tlearn: 0.5487080\ttotal: 4.66s\tremaining: 2.49s\n",
            "322:\tlearn: 0.5486451\ttotal: 4.67s\tremaining: 2.48s\n",
            "323:\tlearn: 0.5485956\ttotal: 4.69s\tremaining: 2.46s\n",
            "324:\tlearn: 0.5485564\ttotal: 4.7s\tremaining: 2.44s\n",
            "325:\tlearn: 0.5485186\ttotal: 4.72s\tremaining: 2.43s\n",
            "326:\tlearn: 0.5485074\ttotal: 4.73s\tremaining: 2.42s\n",
            "327:\tlearn: 0.5484707\ttotal: 4.75s\tremaining: 2.4s\n",
            "328:\tlearn: 0.5483972\ttotal: 4.76s\tremaining: 2.39s\n",
            "329:\tlearn: 0.5483405\ttotal: 4.77s\tremaining: 2.37s\n",
            "330:\tlearn: 0.5482793\ttotal: 4.79s\tremaining: 2.36s\n",
            "331:\tlearn: 0.5482491\ttotal: 4.8s\tremaining: 2.34s\n",
            "332:\tlearn: 0.5481404\ttotal: 4.81s\tremaining: 2.33s\n",
            "333:\tlearn: 0.5480872\ttotal: 4.83s\tremaining: 2.31s\n",
            "334:\tlearn: 0.5480182\ttotal: 4.84s\tremaining: 2.3s\n",
            "335:\tlearn: 0.5479498\ttotal: 4.85s\tremaining: 2.28s\n",
            "336:\tlearn: 0.5478771\ttotal: 4.87s\tremaining: 2.27s\n",
            "337:\tlearn: 0.5478248\ttotal: 4.9s\tremaining: 2.26s\n",
            "338:\tlearn: 0.5477774\ttotal: 4.91s\tremaining: 2.25s\n",
            "339:\tlearn: 0.5477372\ttotal: 4.92s\tremaining: 2.23s\n",
            "340:\tlearn: 0.5476651\ttotal: 4.94s\tremaining: 2.21s\n",
            "341:\tlearn: 0.5475593\ttotal: 4.95s\tremaining: 2.2s\n",
            "342:\tlearn: 0.5475046\ttotal: 4.96s\tremaining: 2.19s\n",
            "343:\tlearn: 0.5474485\ttotal: 4.98s\tremaining: 2.17s\n",
            "344:\tlearn: 0.5474244\ttotal: 5s\tremaining: 2.16s\n",
            "345:\tlearn: 0.5473648\ttotal: 5.01s\tremaining: 2.14s\n",
            "346:\tlearn: 0.5472946\ttotal: 5.03s\tremaining: 2.13s\n",
            "347:\tlearn: 0.5472539\ttotal: 5.04s\tremaining: 2.12s\n",
            "348:\tlearn: 0.5471858\ttotal: 5.06s\tremaining: 2.1s\n",
            "349:\tlearn: 0.5470220\ttotal: 5.07s\tremaining: 2.09s\n",
            "350:\tlearn: 0.5469767\ttotal: 5.09s\tremaining: 2.07s\n",
            "351:\tlearn: 0.5468870\ttotal: 5.11s\tremaining: 2.06s\n",
            "352:\tlearn: 0.5468333\ttotal: 5.12s\tremaining: 2.04s\n",
            "353:\tlearn: 0.5467841\ttotal: 5.13s\tremaining: 2.03s\n",
            "354:\tlearn: 0.5467521\ttotal: 5.14s\tremaining: 2.01s\n",
            "355:\tlearn: 0.5467041\ttotal: 5.16s\tremaining: 2s\n",
            "356:\tlearn: 0.5466606\ttotal: 5.17s\tremaining: 1.98s\n",
            "357:\tlearn: 0.5466150\ttotal: 5.18s\tremaining: 1.97s\n",
            "358:\tlearn: 0.5465984\ttotal: 5.2s\tremaining: 1.96s\n",
            "359:\tlearn: 0.5465080\ttotal: 5.21s\tremaining: 1.94s\n",
            "360:\tlearn: 0.5464721\ttotal: 5.23s\tremaining: 1.93s\n",
            "361:\tlearn: 0.5463971\ttotal: 5.24s\tremaining: 1.91s\n",
            "362:\tlearn: 0.5463534\ttotal: 5.25s\tremaining: 1.9s\n",
            "363:\tlearn: 0.5463137\ttotal: 5.27s\tremaining: 1.88s\n",
            "364:\tlearn: 0.5462460\ttotal: 5.29s\tremaining: 1.87s\n",
            "365:\tlearn: 0.5461638\ttotal: 5.3s\tremaining: 1.85s\n",
            "366:\tlearn: 0.5460868\ttotal: 5.32s\tremaining: 1.84s\n",
            "367:\tlearn: 0.5459830\ttotal: 5.33s\tremaining: 1.83s\n",
            "368:\tlearn: 0.5458908\ttotal: 5.35s\tremaining: 1.81s\n",
            "369:\tlearn: 0.5457720\ttotal: 5.37s\tremaining: 1.8s\n",
            "370:\tlearn: 0.5456991\ttotal: 5.38s\tremaining: 1.78s\n",
            "371:\tlearn: 0.5455946\ttotal: 5.39s\tremaining: 1.77s\n",
            "372:\tlearn: 0.5455521\ttotal: 5.41s\tremaining: 1.75s\n",
            "373:\tlearn: 0.5454892\ttotal: 5.42s\tremaining: 1.74s\n",
            "374:\tlearn: 0.5454523\ttotal: 5.43s\tremaining: 1.72s\n",
            "375:\tlearn: 0.5454180\ttotal: 5.45s\tremaining: 1.71s\n",
            "376:\tlearn: 0.5453725\ttotal: 5.46s\tremaining: 1.7s\n",
            "377:\tlearn: 0.5453208\ttotal: 5.47s\tremaining: 1.68s\n",
            "378:\tlearn: 0.5451827\ttotal: 5.49s\tremaining: 1.67s\n",
            "379:\tlearn: 0.5450905\ttotal: 5.5s\tremaining: 1.65s\n",
            "380:\tlearn: 0.5449931\ttotal: 5.52s\tremaining: 1.64s\n",
            "381:\tlearn: 0.5449646\ttotal: 5.54s\tremaining: 1.62s\n",
            "382:\tlearn: 0.5448623\ttotal: 5.55s\tremaining: 1.61s\n",
            "383:\tlearn: 0.5448255\ttotal: 5.56s\tremaining: 1.59s\n",
            "384:\tlearn: 0.5447971\ttotal: 5.58s\tremaining: 1.58s\n",
            "385:\tlearn: 0.5447443\ttotal: 5.59s\tremaining: 1.56s\n",
            "386:\tlearn: 0.5446774\ttotal: 5.61s\tremaining: 1.55s\n",
            "387:\tlearn: 0.5445907\ttotal: 5.62s\tremaining: 1.53s\n",
            "388:\tlearn: 0.5445402\ttotal: 5.63s\tremaining: 1.52s\n",
            "389:\tlearn: 0.5444652\ttotal: 5.65s\tremaining: 1.5s\n",
            "390:\tlearn: 0.5444105\ttotal: 5.66s\tremaining: 1.49s\n",
            "391:\tlearn: 0.5443660\ttotal: 5.67s\tremaining: 1.48s\n",
            "392:\tlearn: 0.5443074\ttotal: 5.69s\tremaining: 1.46s\n",
            "393:\tlearn: 0.5442744\ttotal: 5.7s\tremaining: 1.45s\n",
            "394:\tlearn: 0.5442404\ttotal: 5.72s\tremaining: 1.43s\n",
            "395:\tlearn: 0.5441904\ttotal: 5.74s\tremaining: 1.42s\n",
            "396:\tlearn: 0.5441260\ttotal: 5.75s\tremaining: 1.41s\n",
            "397:\tlearn: 0.5440397\ttotal: 5.77s\tremaining: 1.39s\n",
            "398:\tlearn: 0.5439539\ttotal: 5.78s\tremaining: 1.38s\n",
            "399:\tlearn: 0.5439239\ttotal: 5.79s\tremaining: 1.36s\n",
            "400:\tlearn: 0.5438694\ttotal: 5.81s\tremaining: 1.35s\n",
            "401:\tlearn: 0.5438078\ttotal: 5.82s\tremaining: 1.33s\n",
            "402:\tlearn: 0.5437566\ttotal: 5.84s\tremaining: 1.32s\n",
            "403:\tlearn: 0.5437230\ttotal: 5.85s\tremaining: 1.3s\n",
            "404:\tlearn: 0.5436150\ttotal: 5.86s\tremaining: 1.29s\n",
            "405:\tlearn: 0.5435348\ttotal: 5.88s\tremaining: 1.27s\n",
            "406:\tlearn: 0.5434734\ttotal: 5.9s\tremaining: 1.26s\n",
            "407:\tlearn: 0.5434116\ttotal: 5.91s\tremaining: 1.25s\n",
            "408:\tlearn: 0.5432883\ttotal: 5.93s\tremaining: 1.23s\n",
            "409:\tlearn: 0.5430747\ttotal: 5.94s\tremaining: 1.22s\n",
            "410:\tlearn: 0.5429606\ttotal: 5.96s\tremaining: 1.2s\n",
            "411:\tlearn: 0.5428671\ttotal: 5.97s\tremaining: 1.19s\n",
            "412:\tlearn: 0.5427926\ttotal: 5.98s\tremaining: 1.17s\n",
            "413:\tlearn: 0.5427737\ttotal: 6s\tremaining: 1.16s\n",
            "414:\tlearn: 0.5427306\ttotal: 6.01s\tremaining: 1.14s\n",
            "415:\tlearn: 0.5426961\ttotal: 6.02s\tremaining: 1.13s\n",
            "416:\tlearn: 0.5426387\ttotal: 6.04s\tremaining: 1.11s\n",
            "417:\tlearn: 0.5425983\ttotal: 6.05s\tremaining: 1.1s\n",
            "418:\tlearn: 0.5425667\ttotal: 6.06s\tremaining: 1.08s\n",
            "419:\tlearn: 0.5424880\ttotal: 6.08s\tremaining: 1.07s\n",
            "420:\tlearn: 0.5424743\ttotal: 6.09s\tremaining: 1.06s\n",
            "421:\tlearn: 0.5424008\ttotal: 6.1s\tremaining: 1.04s\n",
            "422:\tlearn: 0.5423435\ttotal: 6.12s\tremaining: 1.03s\n",
            "423:\tlearn: 0.5422992\ttotal: 6.13s\tremaining: 1.01s\n",
            "424:\tlearn: 0.5422817\ttotal: 6.15s\tremaining: 998ms\n",
            "425:\tlearn: 0.5422079\ttotal: 6.17s\tremaining: 984ms\n",
            "426:\tlearn: 0.5421738\ttotal: 6.18s\tremaining: 970ms\n",
            "427:\tlearn: 0.5421181\ttotal: 6.2s\tremaining: 956ms\n",
            "428:\tlearn: 0.5420752\ttotal: 6.21s\tremaining: 941ms\n",
            "429:\tlearn: 0.5420307\ttotal: 6.22s\tremaining: 926ms\n",
            "430:\tlearn: 0.5419767\ttotal: 6.24s\tremaining: 911ms\n",
            "431:\tlearn: 0.5419337\ttotal: 6.25s\tremaining: 897ms\n",
            "432:\tlearn: 0.5419140\ttotal: 6.26s\tremaining: 882ms\n",
            "433:\tlearn: 0.5418457\ttotal: 6.28s\tremaining: 868ms\n",
            "434:\tlearn: 0.5417979\ttotal: 6.29s\tremaining: 853ms\n",
            "435:\tlearn: 0.5417001\ttotal: 6.31s\tremaining: 839ms\n",
            "436:\tlearn: 0.5415794\ttotal: 6.32s\tremaining: 824ms\n",
            "437:\tlearn: 0.5415490\ttotal: 6.33s\tremaining: 810ms\n",
            "438:\tlearn: 0.5415184\ttotal: 6.35s\tremaining: 796ms\n",
            "439:\tlearn: 0.5414694\ttotal: 6.37s\tremaining: 782ms\n",
            "440:\tlearn: 0.5413840\ttotal: 6.38s\tremaining: 767ms\n",
            "441:\tlearn: 0.5413474\ttotal: 6.39s\tremaining: 752ms\n",
            "442:\tlearn: 0.5412719\ttotal: 6.41s\tremaining: 738ms\n",
            "443:\tlearn: 0.5411987\ttotal: 6.42s\tremaining: 723ms\n",
            "444:\tlearn: 0.5410986\ttotal: 6.43s\tremaining: 709ms\n",
            "445:\tlearn: 0.5410115\ttotal: 6.45s\tremaining: 694ms\n",
            "446:\tlearn: 0.5409541\ttotal: 6.47s\tremaining: 680ms\n",
            "447:\tlearn: 0.5408590\ttotal: 6.48s\tremaining: 665ms\n",
            "448:\tlearn: 0.5407703\ttotal: 6.5s\tremaining: 651ms\n",
            "449:\tlearn: 0.5407292\ttotal: 6.51s\tremaining: 637ms\n",
            "450:\tlearn: 0.5406781\ttotal: 6.52s\tremaining: 622ms\n",
            "451:\tlearn: 0.5406307\ttotal: 6.54s\tremaining: 608ms\n",
            "452:\tlearn: 0.5405894\ttotal: 6.56s\tremaining: 594ms\n",
            "453:\tlearn: 0.5405305\ttotal: 6.57s\tremaining: 579ms\n",
            "454:\tlearn: 0.5404505\ttotal: 6.58s\tremaining: 564ms\n",
            "455:\tlearn: 0.5403622\ttotal: 6.6s\tremaining: 550ms\n",
            "456:\tlearn: 0.5402170\ttotal: 6.61s\tremaining: 535ms\n",
            "457:\tlearn: 0.5401422\ttotal: 6.62s\tremaining: 521ms\n",
            "458:\tlearn: 0.5400557\ttotal: 6.64s\tremaining: 506ms\n",
            "459:\tlearn: 0.5400008\ttotal: 6.65s\tremaining: 492ms\n",
            "460:\tlearn: 0.5399129\ttotal: 6.67s\tremaining: 477ms\n",
            "461:\tlearn: 0.5398838\ttotal: 6.68s\tremaining: 463ms\n",
            "462:\tlearn: 0.5398441\ttotal: 6.69s\tremaining: 448ms\n",
            "463:\tlearn: 0.5398099\ttotal: 6.71s\tremaining: 434ms\n",
            "464:\tlearn: 0.5397563\ttotal: 6.72s\tremaining: 419ms\n",
            "465:\tlearn: 0.5397113\ttotal: 6.74s\tremaining: 405ms\n",
            "466:\tlearn: 0.5396341\ttotal: 6.75s\tremaining: 390ms\n",
            "467:\tlearn: 0.5396115\ttotal: 6.76s\tremaining: 376ms\n",
            "468:\tlearn: 0.5395628\ttotal: 6.78s\tremaining: 361ms\n",
            "469:\tlearn: 0.5394825\ttotal: 6.79s\tremaining: 347ms\n",
            "470:\tlearn: 0.5394248\ttotal: 6.8s\tremaining: 332ms\n",
            "471:\tlearn: 0.5394044\ttotal: 6.82s\tremaining: 318ms\n",
            "472:\tlearn: 0.5393757\ttotal: 6.83s\tremaining: 303ms\n",
            "473:\tlearn: 0.5393335\ttotal: 6.85s\tremaining: 289ms\n",
            "474:\tlearn: 0.5393185\ttotal: 6.87s\tremaining: 275ms\n",
            "475:\tlearn: 0.5392747\ttotal: 6.88s\tremaining: 260ms\n",
            "476:\tlearn: 0.5392023\ttotal: 6.9s\tremaining: 246ms\n",
            "477:\tlearn: 0.5391763\ttotal: 6.92s\tremaining: 231ms\n",
            "478:\tlearn: 0.5391403\ttotal: 6.93s\tremaining: 217ms\n",
            "479:\tlearn: 0.5390546\ttotal: 6.94s\tremaining: 203ms\n",
            "480:\tlearn: 0.5390169\ttotal: 6.96s\tremaining: 188ms\n",
            "481:\tlearn: 0.5389891\ttotal: 6.97s\tremaining: 174ms\n",
            "482:\tlearn: 0.5389249\ttotal: 6.99s\tremaining: 159ms\n",
            "483:\tlearn: 0.5389122\ttotal: 7s\tremaining: 145ms\n",
            "484:\tlearn: 0.5388274\ttotal: 7.02s\tremaining: 130ms\n",
            "485:\tlearn: 0.5387855\ttotal: 7.03s\tremaining: 116ms\n",
            "486:\tlearn: 0.5387417\ttotal: 7.05s\tremaining: 101ms\n",
            "487:\tlearn: 0.5387108\ttotal: 7.06s\tremaining: 86.8ms\n",
            "488:\tlearn: 0.5386533\ttotal: 7.07s\tremaining: 72.3ms\n",
            "489:\tlearn: 0.5386243\ttotal: 7.09s\tremaining: 57.8ms\n",
            "490:\tlearn: 0.5385980\ttotal: 7.1s\tremaining: 43.4ms\n",
            "491:\tlearn: 0.5385428\ttotal: 7.12s\tremaining: 28.9ms\n",
            "492:\tlearn: 0.5384293\ttotal: 7.13s\tremaining: 14.5ms\n",
            "493:\tlearn: 0.5383962\ttotal: 7.15s\tremaining: 0us\n"
          ],
          "name": "stdout"
        },
        {
          "output_type": "execute_result",
          "data": {
            "text/plain": [
              "VotingClassifier(estimators=[('XGBoost_Best',\n",
              "                              XGBClassifier(base_score=0.2, booster='gbtree',\n",
              "                                            colsample_bylevel=1,\n",
              "                                            colsample_bynode=1,\n",
              "                                            colsample_bytree=1, gamma=0,\n",
              "                                            learning_rate=0.1, max_delta_step=0,\n",
              "                                            max_depth=5, min_child_weight=1,\n",
              "                                            missing=None, n_estimators=494,\n",
              "                                            n_jobs=1, nthread=None,\n",
              "                                            objective='binary:logistic',\n",
              "                                            random_state=0, reg_alpha=0,\n",
              "                                            reg_lambda=1, scale_p...\n",
              "                                                     max_depth=50,\n",
              "                                                     max_features='auto',\n",
              "                                                     max_leaf_nodes=None,\n",
              "                                                     max_samples=None,\n",
              "                                                     min_impurity_decrease=0.0,\n",
              "                                                     min_impurity_split=None,\n",
              "                                                     min_samples_leaf=10,\n",
              "                                                     min_samples_split=50,\n",
              "                                                     min_weight_fraction_leaf=0.0,\n",
              "                                                     n_estimators=100,\n",
              "                                                     n_jobs=None,\n",
              "                                                     oob_score=False,\n",
              "                                                     random_state=None,\n",
              "                                                     verbose=0,\n",
              "                                                     warm_start=False))],\n",
              "                 flatten_transform=True, n_jobs=None, voting='soft',\n",
              "                 weights=[5, 5, 5.2, 5.5])"
            ]
          },
          "metadata": {
            "tags": []
          },
          "execution_count": 123
        }
      ]
    },
    {
      "cell_type": "code",
      "metadata": {
        "colab": {
          "base_uri": "https://localhost:8080/"
        },
        "id": "tm_SSIVStWZ-",
        "outputId": "2703cd30-e0a1-410f-9139-7a31df9694f9"
      },
      "source": [
        "ensemble_predictions_train = ensemble_model.predict(x_train)\r\n",
        "ensemble_predictions_val = ensemble_model.predict(x_val)\r\n",
        "train_score = roc_auc_score(ensemble_predictions_train, y_train)\r\n",
        "val_score = roc_auc_score(ensemble_predictions_val, y_val)\r\n",
        "print(train_score)\r\n",
        "print(\"**********************************************\")\r\n",
        "print(val_score)"
      ],
      "execution_count": null,
      "outputs": [
        {
          "output_type": "stream",
          "text": [
            "0.7132130768995505\n",
            "**********************************************\n",
            "0.648125730489868\n"
          ],
          "name": "stdout"
        }
      ]
    },
    {
      "cell_type": "code",
      "metadata": {
        "colab": {
          "base_uri": "https://localhost:8080/",
          "height": 17
        },
        "id": "ZjSyQAMpqU7c",
        "outputId": "9c48d5bb-4991-452f-e584-9778eb3aa64a"
      },
      "source": [
        "ensemble_predictions = ensemble_model.predict(x_test)\r\n",
        "ss['Response'] = ensemble_predictions\r\n",
        "submission = pd.DataFrame({'ID':ss['ID'], 'Response':ensemble_predictions})\r\n",
        "submission.to_csv('ensemble_submission.csv', index=False)\r\n",
        "files.download('ensemble_submission.csv')"
      ],
      "execution_count": null,
      "outputs": [
        {
          "output_type": "display_data",
          "data": {
            "application/javascript": [
              "\n",
              "    async function download(id, filename, size) {\n",
              "      if (!google.colab.kernel.accessAllowed) {\n",
              "        return;\n",
              "      }\n",
              "      const div = document.createElement('div');\n",
              "      const label = document.createElement('label');\n",
              "      label.textContent = `Downloading \"${filename}\": `;\n",
              "      div.appendChild(label);\n",
              "      const progress = document.createElement('progress');\n",
              "      progress.max = size;\n",
              "      div.appendChild(progress);\n",
              "      document.body.appendChild(div);\n",
              "\n",
              "      const buffers = [];\n",
              "      let downloaded = 0;\n",
              "\n",
              "      const channel = await google.colab.kernel.comms.open(id);\n",
              "      // Send a message to notify the kernel that we're ready.\n",
              "      channel.send({})\n",
              "\n",
              "      for await (const message of channel.messages) {\n",
              "        // Send a message to notify the kernel that we're ready.\n",
              "        channel.send({})\n",
              "        if (message.buffers) {\n",
              "          for (const buffer of message.buffers) {\n",
              "            buffers.push(buffer);\n",
              "            downloaded += buffer.byteLength;\n",
              "            progress.value = downloaded;\n",
              "          }\n",
              "        }\n",
              "      }\n",
              "      const blob = new Blob(buffers, {type: 'application/binary'});\n",
              "      const a = document.createElement('a');\n",
              "      a.href = window.URL.createObjectURL(blob);\n",
              "      a.download = filename;\n",
              "      div.appendChild(a);\n",
              "      a.click();\n",
              "      div.remove();\n",
              "    }\n",
              "  "
            ],
            "text/plain": [
              "<IPython.core.display.Javascript object>"
            ]
          },
          "metadata": {
            "tags": []
          }
        },
        {
          "output_type": "display_data",
          "data": {
            "application/javascript": [
              "download(\"download_5c7303ef-6b31-4667-9fbc-de0d8875542e\", \"ensemble_submission.csv\", 218062)"
            ],
            "text/plain": [
              "<IPython.core.display.Javascript object>"
            ]
          },
          "metadata": {
            "tags": []
          }
        }
      ]
    },
    {
      "cell_type": "code",
      "metadata": {
        "id": "JMCUQL4UrYQq"
      },
      "source": [
        ""
      ],
      "execution_count": null,
      "outputs": []
    }
  ]
}